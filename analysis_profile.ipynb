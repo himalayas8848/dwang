{
 "cells": [
  {
   "cell_type": "code",
   "execution_count": 1,
   "metadata": {
    "collapsed": true
   },
   "outputs": [],
   "source": [
    "import pandas as pd\n",
    "import seaborn as sns\n",
    "import matplotlib.pyplot as plt\n",
    "import dateutil\n",
    "import datetime as dt"
   ]
  },
  {
   "cell_type": "code",
   "execution_count": 2,
   "metadata": {
    "collapsed": true
   },
   "outputs": [],
   "source": [
    "%matplotlib inline"
   ]
  },
  {
   "cell_type": "code",
   "execution_count": 3,
   "metadata": {
    "collapsed": true
   },
   "outputs": [],
   "source": [
    "df = pd.read_csv('profiles.csv')"
   ]
  },
  {
   "cell_type": "code",
   "execution_count": 4,
   "metadata": {
    "collapsed": false
   },
   "outputs": [
    {
     "data": {
      "text/html": [
       "<div>\n",
       "<table border=\"1\" class=\"dataframe\">\n",
       "  <thead>\n",
       "    <tr style=\"text-align: right;\">\n",
       "      <th></th>\n",
       "      <th>age</th>\n",
       "      <th>body_type</th>\n",
       "      <th>diet</th>\n",
       "      <th>drinks</th>\n",
       "      <th>drugs</th>\n",
       "      <th>education</th>\n",
       "      <th>essay0</th>\n",
       "      <th>essay1</th>\n",
       "      <th>essay2</th>\n",
       "      <th>essay3</th>\n",
       "      <th>...</th>\n",
       "      <th>location</th>\n",
       "      <th>offspring</th>\n",
       "      <th>orientation</th>\n",
       "      <th>pets</th>\n",
       "      <th>religion</th>\n",
       "      <th>sex</th>\n",
       "      <th>sign</th>\n",
       "      <th>smokes</th>\n",
       "      <th>speaks</th>\n",
       "      <th>status</th>\n",
       "    </tr>\n",
       "  </thead>\n",
       "  <tbody>\n",
       "    <tr>\n",
       "      <th>0</th>\n",
       "      <td>22</td>\n",
       "      <td>a little extra</td>\n",
       "      <td>strictly anything</td>\n",
       "      <td>socially</td>\n",
       "      <td>never</td>\n",
       "      <td>working on college/university</td>\n",
       "      <td>about me:&lt;br /&gt;\\n&lt;br /&gt;\\ni would love to think...</td>\n",
       "      <td>currently working as an international agent fo...</td>\n",
       "      <td>making people laugh.&lt;br /&gt;\\nranting about a go...</td>\n",
       "      <td>the way i look. i am a six foot half asian, ha...</td>\n",
       "      <td>...</td>\n",
       "      <td>south san francisco, california</td>\n",
       "      <td>doesn&amp;rsquo;t have kids, but might want them</td>\n",
       "      <td>straight</td>\n",
       "      <td>likes dogs and likes cats</td>\n",
       "      <td>agnosticism and very serious about it</td>\n",
       "      <td>m</td>\n",
       "      <td>gemini</td>\n",
       "      <td>sometimes</td>\n",
       "      <td>english</td>\n",
       "      <td>single</td>\n",
       "    </tr>\n",
       "    <tr>\n",
       "      <th>1</th>\n",
       "      <td>35</td>\n",
       "      <td>average</td>\n",
       "      <td>mostly other</td>\n",
       "      <td>often</td>\n",
       "      <td>sometimes</td>\n",
       "      <td>working on space camp</td>\n",
       "      <td>i am a chef: this is what that means.&lt;br /&gt;\\n1...</td>\n",
       "      <td>dedicating everyday to being an unbelievable b...</td>\n",
       "      <td>being silly. having ridiculous amonts of fun w...</td>\n",
       "      <td>NaN</td>\n",
       "      <td>...</td>\n",
       "      <td>oakland, california</td>\n",
       "      <td>doesn&amp;rsquo;t have kids, but might want them</td>\n",
       "      <td>straight</td>\n",
       "      <td>likes dogs and likes cats</td>\n",
       "      <td>agnosticism but not too serious about it</td>\n",
       "      <td>m</td>\n",
       "      <td>cancer</td>\n",
       "      <td>no</td>\n",
       "      <td>english (fluently), spanish (poorly), french (...</td>\n",
       "      <td>single</td>\n",
       "    </tr>\n",
       "    <tr>\n",
       "      <th>2</th>\n",
       "      <td>38</td>\n",
       "      <td>thin</td>\n",
       "      <td>anything</td>\n",
       "      <td>socially</td>\n",
       "      <td>NaN</td>\n",
       "      <td>graduated from masters program</td>\n",
       "      <td>i'm not ashamed of much, but writing public te...</td>\n",
       "      <td>i make nerdy software for musicians, artists, ...</td>\n",
       "      <td>improvising in different contexts. alternating...</td>\n",
       "      <td>my large jaw and large glasses are the physica...</td>\n",
       "      <td>...</td>\n",
       "      <td>san francisco, california</td>\n",
       "      <td>NaN</td>\n",
       "      <td>straight</td>\n",
       "      <td>has cats</td>\n",
       "      <td>NaN</td>\n",
       "      <td>m</td>\n",
       "      <td>pisces but it doesn&amp;rsquo;t matter</td>\n",
       "      <td>no</td>\n",
       "      <td>english, french, c++</td>\n",
       "      <td>available</td>\n",
       "    </tr>\n",
       "    <tr>\n",
       "      <th>3</th>\n",
       "      <td>23</td>\n",
       "      <td>thin</td>\n",
       "      <td>vegetarian</td>\n",
       "      <td>socially</td>\n",
       "      <td>NaN</td>\n",
       "      <td>working on college/university</td>\n",
       "      <td>i work in a library and go to school. . .</td>\n",
       "      <td>reading things written by old dead people</td>\n",
       "      <td>playing synthesizers and organizing books acco...</td>\n",
       "      <td>socially awkward but i do my best</td>\n",
       "      <td>...</td>\n",
       "      <td>berkeley, california</td>\n",
       "      <td>doesn&amp;rsquo;t want kids</td>\n",
       "      <td>straight</td>\n",
       "      <td>likes cats</td>\n",
       "      <td>NaN</td>\n",
       "      <td>m</td>\n",
       "      <td>pisces</td>\n",
       "      <td>no</td>\n",
       "      <td>english, german (poorly)</td>\n",
       "      <td>single</td>\n",
       "    </tr>\n",
       "    <tr>\n",
       "      <th>4</th>\n",
       "      <td>29</td>\n",
       "      <td>athletic</td>\n",
       "      <td>NaN</td>\n",
       "      <td>socially</td>\n",
       "      <td>never</td>\n",
       "      <td>graduated from college/university</td>\n",
       "      <td>hey how's it going? currently vague on the pro...</td>\n",
       "      <td>work work work work + play</td>\n",
       "      <td>creating imagery to look at:&lt;br /&gt;\\nhttp://bag...</td>\n",
       "      <td>i smile a lot and my inquisitive nature</td>\n",
       "      <td>...</td>\n",
       "      <td>san francisco, california</td>\n",
       "      <td>NaN</td>\n",
       "      <td>straight</td>\n",
       "      <td>likes dogs and likes cats</td>\n",
       "      <td>NaN</td>\n",
       "      <td>m</td>\n",
       "      <td>aquarius</td>\n",
       "      <td>no</td>\n",
       "      <td>english</td>\n",
       "      <td>single</td>\n",
       "    </tr>\n",
       "  </tbody>\n",
       "</table>\n",
       "<p>5 rows × 31 columns</p>\n",
       "</div>"
      ],
      "text/plain": [
       "   age       body_type               diet    drinks      drugs  \\\n",
       "0   22  a little extra  strictly anything  socially      never   \n",
       "1   35         average       mostly other     often  sometimes   \n",
       "2   38            thin           anything  socially        NaN   \n",
       "3   23            thin         vegetarian  socially        NaN   \n",
       "4   29        athletic                NaN  socially      never   \n",
       "\n",
       "                           education  \\\n",
       "0      working on college/university   \n",
       "1              working on space camp   \n",
       "2     graduated from masters program   \n",
       "3      working on college/university   \n",
       "4  graduated from college/university   \n",
       "\n",
       "                                              essay0  \\\n",
       "0  about me:<br />\\n<br />\\ni would love to think...   \n",
       "1  i am a chef: this is what that means.<br />\\n1...   \n",
       "2  i'm not ashamed of much, but writing public te...   \n",
       "3          i work in a library and go to school. . .   \n",
       "4  hey how's it going? currently vague on the pro...   \n",
       "\n",
       "                                              essay1  \\\n",
       "0  currently working as an international agent fo...   \n",
       "1  dedicating everyday to being an unbelievable b...   \n",
       "2  i make nerdy software for musicians, artists, ...   \n",
       "3          reading things written by old dead people   \n",
       "4                         work work work work + play   \n",
       "\n",
       "                                              essay2  \\\n",
       "0  making people laugh.<br />\\nranting about a go...   \n",
       "1  being silly. having ridiculous amonts of fun w...   \n",
       "2  improvising in different contexts. alternating...   \n",
       "3  playing synthesizers and organizing books acco...   \n",
       "4  creating imagery to look at:<br />\\nhttp://bag...   \n",
       "\n",
       "                                              essay3    ...      \\\n",
       "0  the way i look. i am a six foot half asian, ha...    ...       \n",
       "1                                                NaN    ...       \n",
       "2  my large jaw and large glasses are the physica...    ...       \n",
       "3                  socially awkward but i do my best    ...       \n",
       "4            i smile a lot and my inquisitive nature    ...       \n",
       "\n",
       "                          location  \\\n",
       "0  south san francisco, california   \n",
       "1              oakland, california   \n",
       "2        san francisco, california   \n",
       "3             berkeley, california   \n",
       "4        san francisco, california   \n",
       "\n",
       "                                      offspring orientation  \\\n",
       "0  doesn&rsquo;t have kids, but might want them    straight   \n",
       "1  doesn&rsquo;t have kids, but might want them    straight   \n",
       "2                                           NaN    straight   \n",
       "3                       doesn&rsquo;t want kids    straight   \n",
       "4                                           NaN    straight   \n",
       "\n",
       "                        pets                                  religion sex  \\\n",
       "0  likes dogs and likes cats     agnosticism and very serious about it   m   \n",
       "1  likes dogs and likes cats  agnosticism but not too serious about it   m   \n",
       "2                   has cats                                       NaN   m   \n",
       "3                 likes cats                                       NaN   m   \n",
       "4  likes dogs and likes cats                                       NaN   m   \n",
       "\n",
       "                                 sign     smokes  \\\n",
       "0                              gemini  sometimes   \n",
       "1                              cancer         no   \n",
       "2  pisces but it doesn&rsquo;t matter         no   \n",
       "3                              pisces         no   \n",
       "4                            aquarius         no   \n",
       "\n",
       "                                              speaks     status  \n",
       "0                                            english     single  \n",
       "1  english (fluently), spanish (poorly), french (...     single  \n",
       "2                               english, french, c++  available  \n",
       "3                           english, german (poorly)     single  \n",
       "4                                            english     single  \n",
       "\n",
       "[5 rows x 31 columns]"
      ]
     },
     "execution_count": 4,
     "metadata": {},
     "output_type": "execute_result"
    }
   ],
   "source": [
    "df.head()"
   ]
  },
  {
   "cell_type": "code",
   "execution_count": 5,
   "metadata": {
    "collapsed": false
   },
   "outputs": [],
   "source": [
    "#df.columns.tolist()\n",
    "#['age','body_type','diet','drinks','drugs','education','essay0','essay1','essay2','essay3','essay4','essay5','essay6','essay7','essay8','essay9','ethnicity','height','income','job','last_online','location','offspring','orientation','pets','religion' 'sex','sign','smokes','speaks','status']"
   ]
  },
  {
   "cell_type": "code",
   "execution_count": 6,
   "metadata": {
    "collapsed": false
   },
   "outputs": [],
   "source": [
    "mark =[]\n",
    "for row in df.iterrows():\n",
    "    type(row)\n",
    "    #age,body_type,diet,drinks,drugs,education,essay0,essay1,essay2,essay3,essay4,essay5,essay6,essay7,essay8,essay9,ethnicity,height,income,job,last_online,location,offspring,orientation,pets,religion,sex,sign,smokes,speaks,status = row   \n",
    "    #if ((age>=35) & (age<=50) & (drinks!='very often') & (drug!='often') & (sex=='f') & (smokes=='no') & (status=='single')):\n",
    "    #    mark_temp = 1\n",
    "    #else:\n",
    "    #    mark_temp = 0\n",
    "    #mark = mark.append(mark_temp)"
   ]
  },
  {
   "cell_type": "code",
   "execution_count": 7,
   "metadata": {
    "collapsed": false
   },
   "outputs": [],
   "source": [
    "df['mark'] =0+ ((df.age>=35)&(df.age<=50)&(df.drinks!='very often')&(df.drugs!='often')&(df.sex=='f')&(df.smokes=='no')&(df.status=='single'))"
   ]
  },
  {
   "cell_type": "code",
   "execution_count": 8,
   "metadata": {
    "collapsed": false
   },
   "outputs": [
    {
     "data": {
      "text/html": [
       "<div>\n",
       "<table border=\"1\" class=\"dataframe\">\n",
       "  <thead>\n",
       "    <tr style=\"text-align: right;\">\n",
       "      <th></th>\n",
       "      <th>age</th>\n",
       "      <th>body_type</th>\n",
       "      <th>diet</th>\n",
       "      <th>drinks</th>\n",
       "      <th>drugs</th>\n",
       "      <th>education</th>\n",
       "      <th>essay0</th>\n",
       "      <th>essay1</th>\n",
       "      <th>essay2</th>\n",
       "      <th>essay3</th>\n",
       "      <th>...</th>\n",
       "      <th>offspring</th>\n",
       "      <th>orientation</th>\n",
       "      <th>pets</th>\n",
       "      <th>religion</th>\n",
       "      <th>sex</th>\n",
       "      <th>sign</th>\n",
       "      <th>smokes</th>\n",
       "      <th>speaks</th>\n",
       "      <th>status</th>\n",
       "      <th>mark</th>\n",
       "    </tr>\n",
       "  </thead>\n",
       "  <tbody>\n",
       "    <tr>\n",
       "      <th>0</th>\n",
       "      <td>22</td>\n",
       "      <td>a little extra</td>\n",
       "      <td>strictly anything</td>\n",
       "      <td>socially</td>\n",
       "      <td>never</td>\n",
       "      <td>working on college/university</td>\n",
       "      <td>about me:&lt;br /&gt;\\n&lt;br /&gt;\\ni would love to think...</td>\n",
       "      <td>currently working as an international agent fo...</td>\n",
       "      <td>making people laugh.&lt;br /&gt;\\nranting about a go...</td>\n",
       "      <td>the way i look. i am a six foot half asian, ha...</td>\n",
       "      <td>...</td>\n",
       "      <td>doesn&amp;rsquo;t have kids, but might want them</td>\n",
       "      <td>straight</td>\n",
       "      <td>likes dogs and likes cats</td>\n",
       "      <td>agnosticism and very serious about it</td>\n",
       "      <td>m</td>\n",
       "      <td>gemini</td>\n",
       "      <td>sometimes</td>\n",
       "      <td>english</td>\n",
       "      <td>single</td>\n",
       "      <td>0</td>\n",
       "    </tr>\n",
       "    <tr>\n",
       "      <th>1</th>\n",
       "      <td>35</td>\n",
       "      <td>average</td>\n",
       "      <td>mostly other</td>\n",
       "      <td>often</td>\n",
       "      <td>sometimes</td>\n",
       "      <td>working on space camp</td>\n",
       "      <td>i am a chef: this is what that means.&lt;br /&gt;\\n1...</td>\n",
       "      <td>dedicating everyday to being an unbelievable b...</td>\n",
       "      <td>being silly. having ridiculous amonts of fun w...</td>\n",
       "      <td>NaN</td>\n",
       "      <td>...</td>\n",
       "      <td>doesn&amp;rsquo;t have kids, but might want them</td>\n",
       "      <td>straight</td>\n",
       "      <td>likes dogs and likes cats</td>\n",
       "      <td>agnosticism but not too serious about it</td>\n",
       "      <td>m</td>\n",
       "      <td>cancer</td>\n",
       "      <td>no</td>\n",
       "      <td>english (fluently), spanish (poorly), french (...</td>\n",
       "      <td>single</td>\n",
       "      <td>0</td>\n",
       "    </tr>\n",
       "    <tr>\n",
       "      <th>2</th>\n",
       "      <td>38</td>\n",
       "      <td>thin</td>\n",
       "      <td>anything</td>\n",
       "      <td>socially</td>\n",
       "      <td>NaN</td>\n",
       "      <td>graduated from masters program</td>\n",
       "      <td>i'm not ashamed of much, but writing public te...</td>\n",
       "      <td>i make nerdy software for musicians, artists, ...</td>\n",
       "      <td>improvising in different contexts. alternating...</td>\n",
       "      <td>my large jaw and large glasses are the physica...</td>\n",
       "      <td>...</td>\n",
       "      <td>NaN</td>\n",
       "      <td>straight</td>\n",
       "      <td>has cats</td>\n",
       "      <td>NaN</td>\n",
       "      <td>m</td>\n",
       "      <td>pisces but it doesn&amp;rsquo;t matter</td>\n",
       "      <td>no</td>\n",
       "      <td>english, french, c++</td>\n",
       "      <td>available</td>\n",
       "      <td>0</td>\n",
       "    </tr>\n",
       "    <tr>\n",
       "      <th>3</th>\n",
       "      <td>23</td>\n",
       "      <td>thin</td>\n",
       "      <td>vegetarian</td>\n",
       "      <td>socially</td>\n",
       "      <td>NaN</td>\n",
       "      <td>working on college/university</td>\n",
       "      <td>i work in a library and go to school. . .</td>\n",
       "      <td>reading things written by old dead people</td>\n",
       "      <td>playing synthesizers and organizing books acco...</td>\n",
       "      <td>socially awkward but i do my best</td>\n",
       "      <td>...</td>\n",
       "      <td>doesn&amp;rsquo;t want kids</td>\n",
       "      <td>straight</td>\n",
       "      <td>likes cats</td>\n",
       "      <td>NaN</td>\n",
       "      <td>m</td>\n",
       "      <td>pisces</td>\n",
       "      <td>no</td>\n",
       "      <td>english, german (poorly)</td>\n",
       "      <td>single</td>\n",
       "      <td>0</td>\n",
       "    </tr>\n",
       "    <tr>\n",
       "      <th>4</th>\n",
       "      <td>29</td>\n",
       "      <td>athletic</td>\n",
       "      <td>NaN</td>\n",
       "      <td>socially</td>\n",
       "      <td>never</td>\n",
       "      <td>graduated from college/university</td>\n",
       "      <td>hey how's it going? currently vague on the pro...</td>\n",
       "      <td>work work work work + play</td>\n",
       "      <td>creating imagery to look at:&lt;br /&gt;\\nhttp://bag...</td>\n",
       "      <td>i smile a lot and my inquisitive nature</td>\n",
       "      <td>...</td>\n",
       "      <td>NaN</td>\n",
       "      <td>straight</td>\n",
       "      <td>likes dogs and likes cats</td>\n",
       "      <td>NaN</td>\n",
       "      <td>m</td>\n",
       "      <td>aquarius</td>\n",
       "      <td>no</td>\n",
       "      <td>english</td>\n",
       "      <td>single</td>\n",
       "      <td>0</td>\n",
       "    </tr>\n",
       "  </tbody>\n",
       "</table>\n",
       "<p>5 rows × 32 columns</p>\n",
       "</div>"
      ],
      "text/plain": [
       "   age       body_type               diet    drinks      drugs  \\\n",
       "0   22  a little extra  strictly anything  socially      never   \n",
       "1   35         average       mostly other     often  sometimes   \n",
       "2   38            thin           anything  socially        NaN   \n",
       "3   23            thin         vegetarian  socially        NaN   \n",
       "4   29        athletic                NaN  socially      never   \n",
       "\n",
       "                           education  \\\n",
       "0      working on college/university   \n",
       "1              working on space camp   \n",
       "2     graduated from masters program   \n",
       "3      working on college/university   \n",
       "4  graduated from college/university   \n",
       "\n",
       "                                              essay0  \\\n",
       "0  about me:<br />\\n<br />\\ni would love to think...   \n",
       "1  i am a chef: this is what that means.<br />\\n1...   \n",
       "2  i'm not ashamed of much, but writing public te...   \n",
       "3          i work in a library and go to school. . .   \n",
       "4  hey how's it going? currently vague on the pro...   \n",
       "\n",
       "                                              essay1  \\\n",
       "0  currently working as an international agent fo...   \n",
       "1  dedicating everyday to being an unbelievable b...   \n",
       "2  i make nerdy software for musicians, artists, ...   \n",
       "3          reading things written by old dead people   \n",
       "4                         work work work work + play   \n",
       "\n",
       "                                              essay2  \\\n",
       "0  making people laugh.<br />\\nranting about a go...   \n",
       "1  being silly. having ridiculous amonts of fun w...   \n",
       "2  improvising in different contexts. alternating...   \n",
       "3  playing synthesizers and organizing books acco...   \n",
       "4  creating imagery to look at:<br />\\nhttp://bag...   \n",
       "\n",
       "                                              essay3 ...   \\\n",
       "0  the way i look. i am a six foot half asian, ha... ...    \n",
       "1                                                NaN ...    \n",
       "2  my large jaw and large glasses are the physica... ...    \n",
       "3                  socially awkward but i do my best ...    \n",
       "4            i smile a lot and my inquisitive nature ...    \n",
       "\n",
       "                                      offspring orientation  \\\n",
       "0  doesn&rsquo;t have kids, but might want them    straight   \n",
       "1  doesn&rsquo;t have kids, but might want them    straight   \n",
       "2                                           NaN    straight   \n",
       "3                       doesn&rsquo;t want kids    straight   \n",
       "4                                           NaN    straight   \n",
       "\n",
       "                        pets                                  religion sex  \\\n",
       "0  likes dogs and likes cats     agnosticism and very serious about it   m   \n",
       "1  likes dogs and likes cats  agnosticism but not too serious about it   m   \n",
       "2                   has cats                                       NaN   m   \n",
       "3                 likes cats                                       NaN   m   \n",
       "4  likes dogs and likes cats                                       NaN   m   \n",
       "\n",
       "                                 sign     smokes  \\\n",
       "0                              gemini  sometimes   \n",
       "1                              cancer         no   \n",
       "2  pisces but it doesn&rsquo;t matter         no   \n",
       "3                              pisces         no   \n",
       "4                            aquarius         no   \n",
       "\n",
       "                                              speaks     status mark  \n",
       "0                                            english     single    0  \n",
       "1  english (fluently), spanish (poorly), french (...     single    0  \n",
       "2                               english, french, c++  available    0  \n",
       "3                           english, german (poorly)     single    0  \n",
       "4                                            english     single    0  \n",
       "\n",
       "[5 rows x 32 columns]"
      ]
     },
     "execution_count": 8,
     "metadata": {},
     "output_type": "execute_result"
    }
   ],
   "source": [
    "df.head()"
   ]
  },
  {
   "cell_type": "code",
   "execution_count": 9,
   "metadata": {
    "collapsed": false
   },
   "outputs": [
    {
     "name": "stdout",
     "output_type": "stream",
     "text": [
      "<class 'pandas.core.frame.DataFrame'>\n",
      "RangeIndex: 59946 entries, 0 to 59945\n",
      "Data columns (total 32 columns):\n",
      "age            59946 non-null int64\n",
      "body_type      54650 non-null object\n",
      "diet           35551 non-null object\n",
      "drinks         56961 non-null object\n",
      "drugs          45866 non-null object\n",
      "education      53318 non-null object\n",
      "essay0         54461 non-null object\n",
      "essay1         52375 non-null object\n",
      "essay2         50308 non-null object\n",
      "essay3         48470 non-null object\n",
      "essay4         49409 non-null object\n",
      "essay5         49099 non-null object\n",
      "essay6         46175 non-null object\n",
      "essay7         47496 non-null object\n",
      "essay8         40732 non-null object\n",
      "essay9         47344 non-null object\n",
      "ethnicity      54266 non-null object\n",
      "height         59943 non-null float64\n",
      "income         59946 non-null int64\n",
      "job            51748 non-null object\n",
      "last_online    59946 non-null object\n",
      "location       59946 non-null object\n",
      "offspring      24385 non-null object\n",
      "orientation    59946 non-null object\n",
      "pets           40025 non-null object\n",
      "religion       39720 non-null object\n",
      "sex            59946 non-null object\n",
      "sign           48890 non-null object\n",
      "smokes         54434 non-null object\n",
      "speaks         59896 non-null object\n",
      "status         59946 non-null object\n",
      "mark           59946 non-null int64\n",
      "dtypes: float64(1), int64(3), object(28)\n",
      "memory usage: 14.6+ MB\n"
     ]
    }
   ],
   "source": [
    "df.info()"
   ]
  },
  {
   "cell_type": "code",
   "execution_count": 10,
   "metadata": {
    "collapsed": false
   },
   "outputs": [
    {
     "data": {
      "text/html": [
       "<div>\n",
       "<table border=\"1\" class=\"dataframe\">\n",
       "  <thead>\n",
       "    <tr style=\"text-align: right;\">\n",
       "      <th></th>\n",
       "      <th>age</th>\n",
       "      <th>height</th>\n",
       "      <th>income</th>\n",
       "      <th>mark</th>\n",
       "    </tr>\n",
       "  </thead>\n",
       "  <tbody>\n",
       "    <tr>\n",
       "      <th>count</th>\n",
       "      <td>59946.000000</td>\n",
       "      <td>59943.000000</td>\n",
       "      <td>59946.000000</td>\n",
       "      <td>59946.000000</td>\n",
       "    </tr>\n",
       "    <tr>\n",
       "      <th>mean</th>\n",
       "      <td>32.340290</td>\n",
       "      <td>68.295281</td>\n",
       "      <td>20033.222534</td>\n",
       "      <td>0.081707</td>\n",
       "    </tr>\n",
       "    <tr>\n",
       "      <th>std</th>\n",
       "      <td>9.452779</td>\n",
       "      <td>3.994803</td>\n",
       "      <td>97346.192104</td>\n",
       "      <td>0.273920</td>\n",
       "    </tr>\n",
       "    <tr>\n",
       "      <th>min</th>\n",
       "      <td>18.000000</td>\n",
       "      <td>1.000000</td>\n",
       "      <td>-1.000000</td>\n",
       "      <td>0.000000</td>\n",
       "    </tr>\n",
       "    <tr>\n",
       "      <th>25%</th>\n",
       "      <td>26.000000</td>\n",
       "      <td>66.000000</td>\n",
       "      <td>-1.000000</td>\n",
       "      <td>0.000000</td>\n",
       "    </tr>\n",
       "    <tr>\n",
       "      <th>50%</th>\n",
       "      <td>30.000000</td>\n",
       "      <td>68.000000</td>\n",
       "      <td>-1.000000</td>\n",
       "      <td>0.000000</td>\n",
       "    </tr>\n",
       "    <tr>\n",
       "      <th>75%</th>\n",
       "      <td>37.000000</td>\n",
       "      <td>71.000000</td>\n",
       "      <td>-1.000000</td>\n",
       "      <td>0.000000</td>\n",
       "    </tr>\n",
       "    <tr>\n",
       "      <th>max</th>\n",
       "      <td>110.000000</td>\n",
       "      <td>95.000000</td>\n",
       "      <td>1000000.000000</td>\n",
       "      <td>1.000000</td>\n",
       "    </tr>\n",
       "  </tbody>\n",
       "</table>\n",
       "</div>"
      ],
      "text/plain": [
       "                age        height          income          mark\n",
       "count  59946.000000  59943.000000    59946.000000  59946.000000\n",
       "mean      32.340290     68.295281    20033.222534      0.081707\n",
       "std        9.452779      3.994803    97346.192104      0.273920\n",
       "min       18.000000      1.000000       -1.000000      0.000000\n",
       "25%       26.000000     66.000000       -1.000000      0.000000\n",
       "50%       30.000000     68.000000       -1.000000      0.000000\n",
       "75%       37.000000     71.000000       -1.000000      0.000000\n",
       "max      110.000000     95.000000  1000000.000000      1.000000"
      ]
     },
     "execution_count": 10,
     "metadata": {},
     "output_type": "execute_result"
    }
   ],
   "source": [
    "df.describe()"
   ]
  },
  {
   "cell_type": "code",
   "execution_count": 11,
   "metadata": {
    "collapsed": false
   },
   "outputs": [],
   "source": [
    "#df['last_online'] = df['last_online'].apply(dateutil.parser.parse)"
   ]
  },
  {
   "cell_type": "code",
   "execution_count": 12,
   "metadata": {
    "collapsed": false
   },
   "outputs": [],
   "source": [
    "#df['last_online'].max()\n"
   ]
  },
  {
   "cell_type": "code",
   "execution_count": 13,
   "metadata": {
    "collapsed": false
   },
   "outputs": [
    {
     "data": {
      "text/plain": [
       "['age',\n",
       " 'body_type',\n",
       " 'diet',\n",
       " 'drinks',\n",
       " 'drugs',\n",
       " 'education',\n",
       " 'essay0',\n",
       " 'essay1',\n",
       " 'essay2',\n",
       " 'essay3',\n",
       " 'essay4',\n",
       " 'essay5',\n",
       " 'essay6',\n",
       " 'essay7',\n",
       " 'essay8',\n",
       " 'essay9',\n",
       " 'ethnicity',\n",
       " 'height',\n",
       " 'income',\n",
       " 'job',\n",
       " 'last_online',\n",
       " 'location',\n",
       " 'offspring',\n",
       " 'orientation',\n",
       " 'pets',\n",
       " 'religion',\n",
       " 'sex',\n",
       " 'sign',\n",
       " 'smokes',\n",
       " 'speaks',\n",
       " 'status',\n",
       " 'mark']"
      ]
     },
     "execution_count": 13,
     "metadata": {},
     "output_type": "execute_result"
    }
   ],
   "source": [
    "col_list = df.columns.tolist()\n",
    "col_list"
   ]
  },
  {
   "cell_type": "code",
   "execution_count": 14,
   "metadata": {
    "collapsed": false
   },
   "outputs": [],
   "source": [
    "#fill missing height value with median\n",
    "num_list = ['age','height','income']"
   ]
  },
  {
   "cell_type": "code",
   "execution_count": 15,
   "metadata": {
    "collapsed": false
   },
   "outputs": [
    {
     "data": {
      "text/plain": [
       "<matplotlib.axes._subplots.AxesSubplot at 0x7fb9b3ee8210>"
      ]
     },
     "execution_count": 15,
     "metadata": {},
     "output_type": "execute_result"
    },
    {
     "data": {
      "image/png": "[encoded data removed]",
      "text/plain": [
       "<matplotlib.figure.Figure at 0x7fb9e043c310>"
      ]
     },
     "metadata": {},
     "output_type": "display_data"
    }
   ],
   "source": [
    "sns.boxplot(data=df[num_list],palette='rainbow',orient='h')"
   ]
  },
  {
   "cell_type": "code",
   "execution_count": 16,
   "metadata": {
    "collapsed": false
   },
   "outputs": [
    {
     "data": {
      "text/plain": [
       "1000000    521\n",
       "250000     149\n",
       "500000      48\n",
       "Name: income, dtype: int64"
      ]
     },
     "execution_count": 16,
     "metadata": {},
     "output_type": "execute_result"
    }
   ],
   "source": [
    "df[df['income']>200000]['income'].value_counts()"
   ]
  },
  {
   "cell_type": "code",
   "execution_count": 17,
   "metadata": {
    "collapsed": false
   },
   "outputs": [
    {
     "name": "stderr",
     "output_type": "stream",
     "text": [
      "/home/dave/miniconda2/lib/python2.7/site-packages/numpy/lib/function_base.py:583: RuntimeWarning: invalid value encountered in greater_equal\n",
      "  keep = (tmp_a >= mn)\n",
      "/home/dave/miniconda2/lib/python2.7/site-packages/numpy/lib/function_base.py:584: RuntimeWarning: invalid value encountered in less_equal\n",
      "  keep &= (tmp_a <= mx)\n"
     ]
    },
    {
     "data": {
      "text/plain": [
       "<seaborn.axisgrid.PairGrid at 0x7fb9b3e24ed0>"
      ]
     },
     "execution_count": 17,
     "metadata": {},
     "output_type": "execute_result"
    },
    {
     "data": {
      "image/png": "[encoded data removed]",
      "text/plain": [
       "<matplotlib.figure.Figure at 0x7fb9b3e24710>"
      ]
     },
     "metadata": {},
     "output_type": "display_data"
    }
   ],
   "source": [
    "col = 'mark'\n",
    "df_with_sex=pd.concat([df[num_list],df[col]],axis=1)\n",
    "sns.pairplot(df_with_sex[:-1],hue=col)"
   ]
  },
  {
   "cell_type": "code",
   "execution_count": 18,
   "metadata": {
    "collapsed": false
   },
   "outputs": [
    {
     "data": {
      "text/plain": [
       "<seaborn.axisgrid.PairGrid at 0x7fb9ab7345d0>"
      ]
     },
     "execution_count": 18,
     "metadata": {},
     "output_type": "execute_result"
    },
    {
     "data": {
      "image/png": "[encoded data removed]",
      "text/plain": [
       "<matplotlib.figure.Figure at 0x7fb9ab734410>"
      ]
     },
     "metadata": {},
     "output_type": "display_data"
    }
   ],
   "source": [
    "col = 'offspring'\n",
    "df_with_sex=pd.concat([df[num_list],df[col]],axis=1)\n",
    "sns.pairplot(df_with_sex[:-1],hue=col)"
   ]
  },
  {
   "cell_type": "code",
   "execution_count": 19,
   "metadata": {
    "collapsed": false
   },
   "outputs": [
    {
     "data": {
      "text/html": [
       "<div>\n",
       "<table border=\"1\" class=\"dataframe\">\n",
       "  <thead>\n",
       "    <tr style=\"text-align: right;\">\n",
       "      <th></th>\n",
       "      <th>age</th>\n",
       "      <th>height</th>\n",
       "      <th>income</th>\n",
       "    </tr>\n",
       "  </thead>\n",
       "  <tbody>\n",
       "    <tr>\n",
       "      <th>count</th>\n",
       "      <td>59946.000000</td>\n",
       "      <td>59946.000000</td>\n",
       "      <td>59946.000000</td>\n",
       "    </tr>\n",
       "    <tr>\n",
       "      <th>mean</th>\n",
       "      <td>32.340290</td>\n",
       "      <td>68.295266</td>\n",
       "      <td>20033.222534</td>\n",
       "    </tr>\n",
       "    <tr>\n",
       "      <th>std</th>\n",
       "      <td>9.452779</td>\n",
       "      <td>3.994704</td>\n",
       "      <td>97346.192104</td>\n",
       "    </tr>\n",
       "    <tr>\n",
       "      <th>min</th>\n",
       "      <td>18.000000</td>\n",
       "      <td>1.000000</td>\n",
       "      <td>-1.000000</td>\n",
       "    </tr>\n",
       "    <tr>\n",
       "      <th>25%</th>\n",
       "      <td>26.000000</td>\n",
       "      <td>66.000000</td>\n",
       "      <td>-1.000000</td>\n",
       "    </tr>\n",
       "    <tr>\n",
       "      <th>50%</th>\n",
       "      <td>30.000000</td>\n",
       "      <td>68.000000</td>\n",
       "      <td>-1.000000</td>\n",
       "    </tr>\n",
       "    <tr>\n",
       "      <th>75%</th>\n",
       "      <td>37.000000</td>\n",
       "      <td>71.000000</td>\n",
       "      <td>-1.000000</td>\n",
       "    </tr>\n",
       "    <tr>\n",
       "      <th>max</th>\n",
       "      <td>110.000000</td>\n",
       "      <td>95.000000</td>\n",
       "      <td>1000000.000000</td>\n",
       "    </tr>\n",
       "  </tbody>\n",
       "</table>\n",
       "</div>"
      ],
      "text/plain": [
       "                age        height          income\n",
       "count  59946.000000  59946.000000    59946.000000\n",
       "mean      32.340290     68.295266    20033.222534\n",
       "std        9.452779      3.994704    97346.192104\n",
       "min       18.000000      1.000000       -1.000000\n",
       "25%       26.000000     66.000000       -1.000000\n",
       "50%       30.000000     68.000000       -1.000000\n",
       "75%       37.000000     71.000000       -1.000000\n",
       "max      110.000000     95.000000  1000000.000000"
      ]
     },
     "execution_count": 19,
     "metadata": {},
     "output_type": "execute_result"
    }
   ],
   "source": [
    "for num_name in num_list:\n",
    "    df[num_name].fillna(df[num_name].median(),inplace=True)\n",
    "df[num_list].describe()"
   ]
  },
  {
   "cell_type": "code",
   "execution_count": 20,
   "metadata": {
    "collapsed": false
   },
   "outputs": [
    {
     "data": {
      "text/html": [
       "<div>\n",
       "<table border=\"1\" class=\"dataframe\">\n",
       "  <thead>\n",
       "    <tr style=\"text-align: right;\">\n",
       "      <th></th>\n",
       "      <th>age</th>\n",
       "      <th>height</th>\n",
       "    </tr>\n",
       "  </thead>\n",
       "  <tbody>\n",
       "    <tr>\n",
       "      <th>0</th>\n",
       "      <td>22</td>\n",
       "      <td>75.0</td>\n",
       "    </tr>\n",
       "    <tr>\n",
       "      <th>1</th>\n",
       "      <td>35</td>\n",
       "      <td>70.0</td>\n",
       "    </tr>\n",
       "    <tr>\n",
       "      <th>2</th>\n",
       "      <td>38</td>\n",
       "      <td>68.0</td>\n",
       "    </tr>\n",
       "    <tr>\n",
       "      <th>3</th>\n",
       "      <td>23</td>\n",
       "      <td>71.0</td>\n",
       "    </tr>\n",
       "    <tr>\n",
       "      <th>4</th>\n",
       "      <td>29</td>\n",
       "      <td>66.0</td>\n",
       "    </tr>\n",
       "  </tbody>\n",
       "</table>\n",
       "</div>"
      ],
      "text/plain": [
       "   age  height\n",
       "0   22    75.0\n",
       "1   35    70.0\n",
       "2   38    68.0\n",
       "3   23    71.0\n",
       "4   29    66.0"
      ]
     },
     "execution_count": 20,
     "metadata": {},
     "output_type": "execute_result"
    }
   ],
   "source": [
    "num_list = ['mark','age','height']\n",
    "df_num = df[num_list]\n",
    "df_num.ix[:,1:].head()"
   ]
  },
  {
   "cell_type": "code",
   "execution_count": 21,
   "metadata": {
    "collapsed": false
   },
   "outputs": [],
   "source": [
    "#nromalize the num data\n",
    "#df_num = (df_num_temp-df_num_temp.mean())/(df_num_temp.max() - df_num_temp.min())\n",
    "#df_num.head()"
   ]
  },
  {
   "cell_type": "markdown",
   "metadata": {},
   "source": [
    "##Treat category variable"
   ]
  },
  {
   "cell_type": "code",
   "execution_count": 22,
   "metadata": {
    "collapsed": true
   },
   "outputs": [],
   "source": [
    "essay_list = ['essay0','essay1','essay2','essay3','essay4','essay5','essay6','essay7','essay8','essay9']\n",
    "temp_remove = ['last_online','ethnicity','location','religion']"
   ]
  },
  {
   "cell_type": "code",
   "execution_count": 23,
   "metadata": {
    "collapsed": false
   },
   "outputs": [
    {
     "name": "stdout",
     "output_type": "stream",
     "text": [
      "<class 'pandas.core.frame.DataFrame'>\n",
      "RangeIndex: 59946 entries, 0 to 59945\n",
      "Data columns (total 11 columns):\n",
      "body_type    54650 non-null object\n",
      "diet         35551 non-null object\n",
      "drinks       56961 non-null object\n",
      "drugs        45866 non-null object\n",
      "education    53318 non-null object\n",
      "job          51748 non-null object\n",
      "offspring    24385 non-null object\n",
      "pets         40025 non-null object\n",
      "sex          59946 non-null object\n",
      "smokes       54434 non-null object\n",
      "status       59946 non-null object\n",
      "dtypes: object(11)\n",
      "memory usage: 5.0+ MB\n"
     ]
    }
   ],
   "source": [
    "\n",
    "#var_list = list(set(col_list)-set(num_list)-set(essay_list)-set(temp_remove))\n",
    "var_list = ['body_type', 'diet', 'drinks', 'drugs', 'education', 'job', 'offspring', 'pets', 'sex', 'smokes', 'status']\n",
    "df_var = df[var_list]\n",
    "df_var.info()"
   ]
  },
  {
   "cell_type": "code",
   "execution_count": 24,
   "metadata": {
    "collapsed": false
   },
   "outputs": [
    {
     "data": {
      "text/html": [
       "<div>\n",
       "<table border=\"1\" class=\"dataframe\">\n",
       "  <thead>\n",
       "    <tr style=\"text-align: right;\">\n",
       "      <th></th>\n",
       "      <th>body_type</th>\n",
       "      <th>diet</th>\n",
       "      <th>drinks</th>\n",
       "      <th>drugs</th>\n",
       "      <th>education</th>\n",
       "      <th>job</th>\n",
       "      <th>offspring</th>\n",
       "      <th>pets</th>\n",
       "      <th>sex</th>\n",
       "      <th>smokes</th>\n",
       "      <th>status</th>\n",
       "    </tr>\n",
       "  </thead>\n",
       "  <tbody>\n",
       "    <tr>\n",
       "      <th>0</th>\n",
       "      <td>a little extra</td>\n",
       "      <td>strictly anything</td>\n",
       "      <td>socially</td>\n",
       "      <td>never</td>\n",
       "      <td>working on college/university</td>\n",
       "      <td>transportation</td>\n",
       "      <td>doesn&amp;rsquo;t have kids, but might want them</td>\n",
       "      <td>likes dogs and likes cats</td>\n",
       "      <td>m</td>\n",
       "      <td>sometimes</td>\n",
       "      <td>single</td>\n",
       "    </tr>\n",
       "    <tr>\n",
       "      <th>1</th>\n",
       "      <td>average</td>\n",
       "      <td>mostly other</td>\n",
       "      <td>often</td>\n",
       "      <td>sometimes</td>\n",
       "      <td>working on space camp</td>\n",
       "      <td>hospitality / travel</td>\n",
       "      <td>doesn&amp;rsquo;t have kids, but might want them</td>\n",
       "      <td>likes dogs and likes cats</td>\n",
       "      <td>m</td>\n",
       "      <td>no</td>\n",
       "      <td>single</td>\n",
       "    </tr>\n",
       "    <tr>\n",
       "      <th>2</th>\n",
       "      <td>thin</td>\n",
       "      <td>anything</td>\n",
       "      <td>socially</td>\n",
       "      <td>NaN</td>\n",
       "      <td>graduated from masters program</td>\n",
       "      <td>NaN</td>\n",
       "      <td>NaN</td>\n",
       "      <td>has cats</td>\n",
       "      <td>m</td>\n",
       "      <td>no</td>\n",
       "      <td>available</td>\n",
       "    </tr>\n",
       "    <tr>\n",
       "      <th>3</th>\n",
       "      <td>thin</td>\n",
       "      <td>vegetarian</td>\n",
       "      <td>socially</td>\n",
       "      <td>NaN</td>\n",
       "      <td>working on college/university</td>\n",
       "      <td>student</td>\n",
       "      <td>doesn&amp;rsquo;t want kids</td>\n",
       "      <td>likes cats</td>\n",
       "      <td>m</td>\n",
       "      <td>no</td>\n",
       "      <td>single</td>\n",
       "    </tr>\n",
       "    <tr>\n",
       "      <th>4</th>\n",
       "      <td>athletic</td>\n",
       "      <td>NaN</td>\n",
       "      <td>socially</td>\n",
       "      <td>never</td>\n",
       "      <td>graduated from college/university</td>\n",
       "      <td>artistic / musical / writer</td>\n",
       "      <td>NaN</td>\n",
       "      <td>likes dogs and likes cats</td>\n",
       "      <td>m</td>\n",
       "      <td>no</td>\n",
       "      <td>single</td>\n",
       "    </tr>\n",
       "  </tbody>\n",
       "</table>\n",
       "</div>"
      ],
      "text/plain": [
       "        body_type               diet    drinks      drugs  \\\n",
       "0  a little extra  strictly anything  socially      never   \n",
       "1         average       mostly other     often  sometimes   \n",
       "2            thin           anything  socially        NaN   \n",
       "3            thin         vegetarian  socially        NaN   \n",
       "4        athletic                NaN  socially      never   \n",
       "\n",
       "                           education                          job  \\\n",
       "0      working on college/university               transportation   \n",
       "1              working on space camp         hospitality / travel   \n",
       "2     graduated from masters program                          NaN   \n",
       "3      working on college/university                      student   \n",
       "4  graduated from college/university  artistic / musical / writer   \n",
       "\n",
       "                                      offspring                       pets  \\\n",
       "0  doesn&rsquo;t have kids, but might want them  likes dogs and likes cats   \n",
       "1  doesn&rsquo;t have kids, but might want them  likes dogs and likes cats   \n",
       "2                                           NaN                   has cats   \n",
       "3                       doesn&rsquo;t want kids                 likes cats   \n",
       "4                                           NaN  likes dogs and likes cats   \n",
       "\n",
       "  sex     smokes     status  \n",
       "0   m  sometimes     single  \n",
       "1   m         no     single  \n",
       "2   m         no  available  \n",
       "3   m         no     single  \n",
       "4   m         no     single  "
      ]
     },
     "execution_count": 24,
     "metadata": {},
     "output_type": "execute_result"
    }
   ],
   "source": [
    "df_var.head()"
   ]
  },
  {
   "cell_type": "code",
   "execution_count": 61,
   "metadata": {
    "collapsed": false
   },
   "outputs": [
    {
     "data": {
      "text/plain": [
       "<matplotlib.axes._subplots.AxesSubplot at 0x7fb9a0080910>"
      ]
     },
     "execution_count": 61,
     "metadata": {},
     "output_type": "execute_result"
    },
    {
     "data": {
      "image/png": "[encoded data removed]",
      "text/plain": [
       "<matplotlib.figure.Figure at 0x7fb9a8ca5d90>"
      ]
     },
     "metadata": {},
     "output_type": "display_data"
    }
   ],
   "source": [
    "sns.countplot(x='body_type',data=df_var,hue='sex',palette='Set1')"
   ]
  },
  {
   "cell_type": "code",
   "execution_count": 84,
   "metadata": {
    "collapsed": false
   },
   "outputs": [
    {
     "data": {
      "text/plain": [
       "<matplotlib.axes._subplots.AxesSubplot at 0x7fb993ab9c90>"
      ]
     },
     "execution_count": 84,
     "metadata": {},
     "output_type": "execute_result"
    },
    {
     "data": {
      "image/png": "[encoded data removed]",
      "text/plain": [
       "<matplotlib.figure.Figure at 0x7fb993ab9b10>"
      ]
     },
     "metadata": {},
     "output_type": "display_data"
    }
   ],
   "source": [
    "plt.figure(figsize=(10,7))\n",
    "sns.countplot(y='education',data=df_var,palette='coolwarm')"
   ]
  },
  {
   "cell_type": "code",
   "execution_count": 25,
   "metadata": {
    "collapsed": false
   },
   "outputs": [
    {
     "name": "stdout",
     "output_type": "stream",
     "text": [
      "body_type:\n",
      "average           14652\n",
      "fit               12711\n",
      "athletic          11819\n",
      "thin               4711\n",
      "curvy              3924\n",
      "a little extra     2629\n",
      "skinny             1777\n",
      "full figured       1009\n",
      "overweight          444\n",
      "jacked              421\n",
      "used up             355\n",
      "rather not say      198\n",
      "Name: body_type, dtype: int64\n",
      "\n",
      "\n",
      "diet:\n",
      "mostly anything        16585\n",
      "anything                6183\n",
      "strictly anything       5113\n",
      "mostly vegetarian       3444\n",
      "mostly other            1007\n",
      "strictly vegetarian      875\n",
      "vegetarian               667\n",
      "strictly other           452\n",
      "mostly vegan             338\n",
      "other                    331\n",
      "strictly vegan           228\n",
      "vegan                    136\n",
      "mostly kosher             86\n",
      "mostly halal              48\n",
      "strictly kosher           18\n",
      "strictly halal            18\n",
      "kosher                    11\n",
      "halal                     11\n",
      "Name: diet, dtype: int64\n",
      "\n",
      "\n",
      "drinks:\n",
      "socially       41780\n",
      "rarely          5957\n",
      "often           5164\n",
      "not at all      3267\n",
      "very often       471\n",
      "desperately      322\n",
      "Name: drinks, dtype: int64\n",
      "\n",
      "\n",
      "drugs:\n",
      "never        37724\n",
      "sometimes     7732\n",
      "often          410\n",
      "Name: drugs, dtype: int64\n",
      "\n",
      "\n",
      "education:\n",
      "graduated from college/university    23959\n",
      "graduated from masters program        8961\n",
      "working on college/university         5712\n",
      "working on masters program            1683\n",
      "graduated from two-year college       1531\n",
      "graduated from high school            1428\n",
      "graduated from ph.d program           1272\n",
      "graduated from law school             1122\n",
      "working on two-year college           1074\n",
      "dropped out of college/university      995\n",
      "working on ph.d program                983\n",
      "college/university                     801\n",
      "graduated from space camp              657\n",
      "dropped out of space camp              523\n",
      "graduated from med school              446\n",
      "working on space camp                  445\n",
      "working on law school                  269\n",
      "two-year college                       222\n",
      "working on med school                  212\n",
      "dropped out of two-year college        191\n",
      "dropped out of masters program         140\n",
      "masters program                        136\n",
      "dropped out of ph.d program            127\n",
      "dropped out of high school             102\n",
      "high school                             96\n",
      "working on high school                  87\n",
      "space camp                              58\n",
      "ph.d program                            26\n",
      "law school                              19\n",
      "dropped out of law school               18\n",
      "dropped out of med school               12\n",
      "med school                              11\n",
      "Name: education, dtype: int64\n",
      "\n",
      "\n",
      "job:\n",
      "other                                7589\n",
      "student                              4882\n",
      "science / tech / engineering         4848\n",
      "computer / hardware / software       4709\n",
      "artistic / musical / writer          4439\n",
      "sales / marketing / biz dev          4391\n",
      "medicine / health                    3680\n",
      "education / academia                 3513\n",
      "executive / management               2373\n",
      "banking / financial / real estate    2266\n",
      "entertainment / media                2250\n",
      "law / legal services                 1381\n",
      "hospitality / travel                 1364\n",
      "construction / craftsmanship         1021\n",
      "clerical / administrative             805\n",
      "political / government                708\n",
      "rather not say                        436\n",
      "transportation                        366\n",
      "unemployed                            273\n",
      "retired                               250\n",
      "military                              204\n",
      "Name: job, dtype: int64\n",
      "\n",
      "\n",
      "offspring:\n",
      "doesn&rsquo;t have kids                                7560\n",
      "doesn&rsquo;t have kids, but might want them           3875\n",
      "doesn&rsquo;t have kids, but wants them                3565\n",
      "doesn&rsquo;t want kids                                2927\n",
      "has kids                                               1883\n",
      "has a kid                                              1881\n",
      "doesn&rsquo;t have kids, and doesn&rsquo;t want any    1132\n",
      "has kids, but doesn&rsquo;t want more                   442\n",
      "has a kid, but doesn&rsquo;t want more                  275\n",
      "has a kid, and might want more                          231\n",
      "wants kids                                              225\n",
      "might want kids                                         182\n",
      "has kids, and might want more                           115\n",
      "has a kid, and wants more                                71\n",
      "has kids, and wants more                                 21\n",
      "Name: offspring, dtype: int64\n",
      "\n",
      "\n",
      "pets:\n",
      "likes dogs and likes cats          14814\n",
      "likes dogs                          7224\n",
      "likes dogs and has cats             4313\n",
      "has dogs                            4134\n",
      "has dogs and likes cats             2333\n",
      "likes dogs and dislikes cats        2029\n",
      "has dogs and has cats               1474\n",
      "has cats                            1406\n",
      "likes cats                          1063\n",
      "has dogs and dislikes cats           552\n",
      "dislikes dogs and likes cats         240\n",
      "dislikes dogs and dislikes cats      196\n",
      "dislikes cats                        122\n",
      "dislikes dogs and has cats            81\n",
      "dislikes dogs                         44\n",
      "Name: pets, dtype: int64\n",
      "\n",
      "\n",
      "sex:\n",
      "m    35829\n",
      "f    24117\n",
      "Name: sex, dtype: int64\n",
      "\n",
      "\n",
      "smokes:\n",
      "no                43896\n",
      "sometimes          3787\n",
      "when drinking      3040\n",
      "yes                2231\n",
      "trying to quit     1480\n",
      "Name: smokes, dtype: int64\n",
      "\n",
      "\n",
      "status:\n",
      "single            55697\n",
      "seeing someone     2064\n",
      "available          1865\n",
      "married             310\n",
      "unknown              10\n",
      "Name: status, dtype: int64\n",
      "\n",
      "\n"
     ]
    }
   ],
   "source": [
    "for var in var_list:\n",
    "    print(var + ':')\n",
    "    print(df[var].value_counts())\n",
    "    print'\\n'"
   ]
  },
  {
   "cell_type": "code",
   "execution_count": 26,
   "metadata": {
    "collapsed": false
   },
   "outputs": [
    {
     "name": "stdout",
     "output_type": "stream",
     "text": [
      "('Original var name: ', 'body_type')\n",
      "('Original var name: ', 'diet')\n",
      "('Original var name: ', 'drinks')\n",
      "('Original var name: ', 'drugs')\n",
      "('Original var name: ', 'education')\n",
      "('Original var name: ', 'job')\n",
      "('Original var name: ', 'offspring')\n",
      "('Original var name: ', 'pets')\n",
      "('Original var name: ', 'sex')\n",
      "('Original var name: ', 'smokes')\n",
      "('Original var name: ', 'status')\n"
     ]
    }
   ],
   "source": [
    "df_new = df_num[1:]\n",
    "for list in var_list:\n",
    "    print('Original var name: ', list.encode(\"utf-8\"))\n",
    "    varname = list.encode(\"utf-8\")\n",
    "    df_temp = pd.get_dummies(df[varname],drop_first=True)\n",
    "    df_new = pd.concat([df_new,df_temp],axis=1)\n",
    "df_new.fillna(0,inplace=True)"
   ]
  },
  {
   "cell_type": "code",
   "execution_count": 27,
   "metadata": {
    "collapsed": false
   },
   "outputs": [
    {
     "data": {
      "text/html": [
       "<div>\n",
       "<table border=\"1\" class=\"dataframe\">\n",
       "  <thead>\n",
       "    <tr style=\"text-align: right;\">\n",
       "      <th></th>\n",
       "      <th>mark</th>\n",
       "      <th>age</th>\n",
       "      <th>height</th>\n",
       "      <th>athletic</th>\n",
       "      <th>average</th>\n",
       "      <th>curvy</th>\n",
       "      <th>fit</th>\n",
       "      <th>full figured</th>\n",
       "      <th>jacked</th>\n",
       "      <th>overweight</th>\n",
       "      <th>...</th>\n",
       "      <th>likes dogs and likes cats</th>\n",
       "      <th>m</th>\n",
       "      <th>sometimes</th>\n",
       "      <th>trying to quit</th>\n",
       "      <th>when drinking</th>\n",
       "      <th>yes</th>\n",
       "      <th>married</th>\n",
       "      <th>seeing someone</th>\n",
       "      <th>single</th>\n",
       "      <th>unknown</th>\n",
       "    </tr>\n",
       "  </thead>\n",
       "  <tbody>\n",
       "    <tr>\n",
       "      <th>count</th>\n",
       "      <td>59946.000000</td>\n",
       "      <td>59946.000000</td>\n",
       "      <td>59946.000000</td>\n",
       "      <td>59946.000000</td>\n",
       "      <td>59946.000000</td>\n",
       "      <td>59946.000000</td>\n",
       "      <td>59946.000000</td>\n",
       "      <td>59946.000000</td>\n",
       "      <td>59946.000000</td>\n",
       "      <td>59946.000000</td>\n",
       "      <td>...</td>\n",
       "      <td>59946.000000</td>\n",
       "      <td>59946.000000</td>\n",
       "      <td>59946.000000</td>\n",
       "      <td>59946.000000</td>\n",
       "      <td>59946.000000</td>\n",
       "      <td>59946.000000</td>\n",
       "      <td>59946.000000</td>\n",
       "      <td>59946.000000</td>\n",
       "      <td>59946.000000</td>\n",
       "      <td>59946.000000</td>\n",
       "    </tr>\n",
       "    <tr>\n",
       "      <th>mean</th>\n",
       "      <td>0.081707</td>\n",
       "      <td>32.339923</td>\n",
       "      <td>68.294015</td>\n",
       "      <td>0.197161</td>\n",
       "      <td>0.244420</td>\n",
       "      <td>0.065459</td>\n",
       "      <td>0.212041</td>\n",
       "      <td>0.016832</td>\n",
       "      <td>0.007023</td>\n",
       "      <td>0.007407</td>\n",
       "      <td>...</td>\n",
       "      <td>0.247122</td>\n",
       "      <td>0.597688</td>\n",
       "      <td>0.063174</td>\n",
       "      <td>0.024689</td>\n",
       "      <td>0.050712</td>\n",
       "      <td>0.037217</td>\n",
       "      <td>0.005171</td>\n",
       "      <td>0.034431</td>\n",
       "      <td>0.929120</td>\n",
       "      <td>0.000167</td>\n",
       "    </tr>\n",
       "    <tr>\n",
       "      <th>std</th>\n",
       "      <td>0.273920</td>\n",
       "      <td>9.453608</td>\n",
       "      <td>4.004337</td>\n",
       "      <td>0.397858</td>\n",
       "      <td>0.429746</td>\n",
       "      <td>0.247336</td>\n",
       "      <td>0.408757</td>\n",
       "      <td>0.128642</td>\n",
       "      <td>0.083509</td>\n",
       "      <td>0.085743</td>\n",
       "      <td>...</td>\n",
       "      <td>0.431342</td>\n",
       "      <td>0.490368</td>\n",
       "      <td>0.243277</td>\n",
       "      <td>0.155177</td>\n",
       "      <td>0.219411</td>\n",
       "      <td>0.189294</td>\n",
       "      <td>0.071726</td>\n",
       "      <td>0.182335</td>\n",
       "      <td>0.256627</td>\n",
       "      <td>0.012915</td>\n",
       "    </tr>\n",
       "    <tr>\n",
       "      <th>min</th>\n",
       "      <td>0.000000</td>\n",
       "      <td>0.000000</td>\n",
       "      <td>0.000000</td>\n",
       "      <td>0.000000</td>\n",
       "      <td>0.000000</td>\n",
       "      <td>0.000000</td>\n",
       "      <td>0.000000</td>\n",
       "      <td>0.000000</td>\n",
       "      <td>0.000000</td>\n",
       "      <td>0.000000</td>\n",
       "      <td>...</td>\n",
       "      <td>0.000000</td>\n",
       "      <td>0.000000</td>\n",
       "      <td>0.000000</td>\n",
       "      <td>0.000000</td>\n",
       "      <td>0.000000</td>\n",
       "      <td>0.000000</td>\n",
       "      <td>0.000000</td>\n",
       "      <td>0.000000</td>\n",
       "      <td>0.000000</td>\n",
       "      <td>0.000000</td>\n",
       "    </tr>\n",
       "    <tr>\n",
       "      <th>25%</th>\n",
       "      <td>0.000000</td>\n",
       "      <td>26.000000</td>\n",
       "      <td>66.000000</td>\n",
       "      <td>0.000000</td>\n",
       "      <td>0.000000</td>\n",
       "      <td>0.000000</td>\n",
       "      <td>0.000000</td>\n",
       "      <td>0.000000</td>\n",
       "      <td>0.000000</td>\n",
       "      <td>0.000000</td>\n",
       "      <td>...</td>\n",
       "      <td>0.000000</td>\n",
       "      <td>0.000000</td>\n",
       "      <td>0.000000</td>\n",
       "      <td>0.000000</td>\n",
       "      <td>0.000000</td>\n",
       "      <td>0.000000</td>\n",
       "      <td>0.000000</td>\n",
       "      <td>0.000000</td>\n",
       "      <td>1.000000</td>\n",
       "      <td>0.000000</td>\n",
       "    </tr>\n",
       "    <tr>\n",
       "      <th>50%</th>\n",
       "      <td>0.000000</td>\n",
       "      <td>30.000000</td>\n",
       "      <td>68.000000</td>\n",
       "      <td>0.000000</td>\n",
       "      <td>0.000000</td>\n",
       "      <td>0.000000</td>\n",
       "      <td>0.000000</td>\n",
       "      <td>0.000000</td>\n",
       "      <td>0.000000</td>\n",
       "      <td>0.000000</td>\n",
       "      <td>...</td>\n",
       "      <td>0.000000</td>\n",
       "      <td>1.000000</td>\n",
       "      <td>0.000000</td>\n",
       "      <td>0.000000</td>\n",
       "      <td>0.000000</td>\n",
       "      <td>0.000000</td>\n",
       "      <td>0.000000</td>\n",
       "      <td>0.000000</td>\n",
       "      <td>1.000000</td>\n",
       "      <td>0.000000</td>\n",
       "    </tr>\n",
       "    <tr>\n",
       "      <th>75%</th>\n",
       "      <td>0.000000</td>\n",
       "      <td>37.000000</td>\n",
       "      <td>71.000000</td>\n",
       "      <td>0.000000</td>\n",
       "      <td>0.000000</td>\n",
       "      <td>0.000000</td>\n",
       "      <td>0.000000</td>\n",
       "      <td>0.000000</td>\n",
       "      <td>0.000000</td>\n",
       "      <td>0.000000</td>\n",
       "      <td>...</td>\n",
       "      <td>0.000000</td>\n",
       "      <td>1.000000</td>\n",
       "      <td>0.000000</td>\n",
       "      <td>0.000000</td>\n",
       "      <td>0.000000</td>\n",
       "      <td>0.000000</td>\n",
       "      <td>0.000000</td>\n",
       "      <td>0.000000</td>\n",
       "      <td>1.000000</td>\n",
       "      <td>0.000000</td>\n",
       "    </tr>\n",
       "    <tr>\n",
       "      <th>max</th>\n",
       "      <td>1.000000</td>\n",
       "      <td>110.000000</td>\n",
       "      <td>95.000000</td>\n",
       "      <td>1.000000</td>\n",
       "      <td>1.000000</td>\n",
       "      <td>1.000000</td>\n",
       "      <td>1.000000</td>\n",
       "      <td>1.000000</td>\n",
       "      <td>1.000000</td>\n",
       "      <td>1.000000</td>\n",
       "      <td>...</td>\n",
       "      <td>1.000000</td>\n",
       "      <td>1.000000</td>\n",
       "      <td>1.000000</td>\n",
       "      <td>1.000000</td>\n",
       "      <td>1.000000</td>\n",
       "      <td>1.000000</td>\n",
       "      <td>1.000000</td>\n",
       "      <td>1.000000</td>\n",
       "      <td>1.000000</td>\n",
       "      <td>1.000000</td>\n",
       "    </tr>\n",
       "  </tbody>\n",
       "</table>\n",
       "<p>8 rows × 126 columns</p>\n",
       "</div>"
      ],
      "text/plain": [
       "               mark           age        height      athletic       average  \\\n",
       "count  59946.000000  59946.000000  59946.000000  59946.000000  59946.000000   \n",
       "mean       0.081707     32.339923     68.294015      0.197161      0.244420   \n",
       "std        0.273920      9.453608      4.004337      0.397858      0.429746   \n",
       "min        0.000000      0.000000      0.000000      0.000000      0.000000   \n",
       "25%        0.000000     26.000000     66.000000      0.000000      0.000000   \n",
       "50%        0.000000     30.000000     68.000000      0.000000      0.000000   \n",
       "75%        0.000000     37.000000     71.000000      0.000000      0.000000   \n",
       "max        1.000000    110.000000     95.000000      1.000000      1.000000   \n",
       "\n",
       "              curvy           fit  full figured        jacked    overweight  \\\n",
       "count  59946.000000  59946.000000  59946.000000  59946.000000  59946.000000   \n",
       "mean       0.065459      0.212041      0.016832      0.007023      0.007407   \n",
       "std        0.247336      0.408757      0.128642      0.083509      0.085743   \n",
       "min        0.000000      0.000000      0.000000      0.000000      0.000000   \n",
       "25%        0.000000      0.000000      0.000000      0.000000      0.000000   \n",
       "50%        0.000000      0.000000      0.000000      0.000000      0.000000   \n",
       "75%        0.000000      0.000000      0.000000      0.000000      0.000000   \n",
       "max        1.000000      1.000000      1.000000      1.000000      1.000000   \n",
       "\n",
       "           ...       likes dogs and likes cats             m     sometimes  \\\n",
       "count      ...                    59946.000000  59946.000000  59946.000000   \n",
       "mean       ...                        0.247122      0.597688      0.063174   \n",
       "std        ...                        0.431342      0.490368      0.243277   \n",
       "min        ...                        0.000000      0.000000      0.000000   \n",
       "25%        ...                        0.000000      0.000000      0.000000   \n",
       "50%        ...                        0.000000      1.000000      0.000000   \n",
       "75%        ...                        0.000000      1.000000      0.000000   \n",
       "max        ...                        1.000000      1.000000      1.000000   \n",
       "\n",
       "       trying to quit  when drinking           yes       married  \\\n",
       "count    59946.000000   59946.000000  59946.000000  59946.000000   \n",
       "mean         0.024689       0.050712      0.037217      0.005171   \n",
       "std          0.155177       0.219411      0.189294      0.071726   \n",
       "min          0.000000       0.000000      0.000000      0.000000   \n",
       "25%          0.000000       0.000000      0.000000      0.000000   \n",
       "50%          0.000000       0.000000      0.000000      0.000000   \n",
       "75%          0.000000       0.000000      0.000000      0.000000   \n",
       "max          1.000000       1.000000      1.000000      1.000000   \n",
       "\n",
       "       seeing someone        single       unknown  \n",
       "count    59946.000000  59946.000000  59946.000000  \n",
       "mean         0.034431      0.929120      0.000167  \n",
       "std          0.182335      0.256627      0.012915  \n",
       "min          0.000000      0.000000      0.000000  \n",
       "25%          0.000000      1.000000      0.000000  \n",
       "50%          0.000000      1.000000      0.000000  \n",
       "75%          0.000000      1.000000      0.000000  \n",
       "max          1.000000      1.000000      1.000000  \n",
       "\n",
       "[8 rows x 126 columns]"
      ]
     },
     "execution_count": 27,
     "metadata": {},
     "output_type": "execute_result"
    }
   ],
   "source": [
    "df_new.describe()"
   ]
  },
  {
   "cell_type": "code",
   "execution_count": 28,
   "metadata": {
    "collapsed": false,
    "scrolled": true
   },
   "outputs": [],
   "source": [
    "[[df_new.isnull().sum()>0]==True]\n",
    "X=df_new.ix[:,1:]\n",
    "#X=X.fillna(0,inplace=True)\n",
    "y=df_new.ix[:,:1]\n",
    "#y.fillna(0,inplace=True)"
   ]
  },
  {
   "cell_type": "code",
   "execution_count": 29,
   "metadata": {
    "collapsed": true
   },
   "outputs": [],
   "source": [
    "from sklearn.preprocessing import StandardScaler"
   ]
  },
  {
   "cell_type": "code",
   "execution_count": 30,
   "metadata": {
    "collapsed": false
   },
   "outputs": [],
   "source": [
    "scalar = StandardScaler()\n",
    "scalar.fit(X)\n",
    "X = scalar.transform(X)"
   ]
  },
  {
   "cell_type": "code",
   "execution_count": 31,
   "metadata": {
    "collapsed": false
   },
   "outputs": [
    {
     "name": "stderr",
     "output_type": "stream",
     "text": [
      "/home/dave/miniconda2/lib/python2.7/site-packages/sklearn/cross_validation.py:44: DeprecationWarning: This module was deprecated in version 0.18 in favor of the model_selection module into which all the refactored classes and functions are moved. Also note that the interface of the new CV iterators are different from that of this module. This module will be removed in 0.20.\n",
      "  \"This module will be removed in 0.20.\", DeprecationWarning)\n"
     ]
    }
   ],
   "source": [
    "from sklearn.cross_validation import train_test_split\n",
    "X_train, X_test, y_train, y_test= train_test_split(X, y, test_size = 0.3)"
   ]
  },
  {
   "cell_type": "code",
   "execution_count": 32,
   "metadata": {
    "collapsed": false
   },
   "outputs": [],
   "source": [
    "from sklearn.cluster import KMeans"
   ]
  },
  {
   "cell_type": "code",
   "execution_count": 33,
   "metadata": {
    "collapsed": true
   },
   "outputs": [],
   "source": [
    "kmeans = KMeans(n_clusters=5)"
   ]
  },
  {
   "cell_type": "code",
   "execution_count": 34,
   "metadata": {
    "collapsed": false
   },
   "outputs": [
    {
     "data": {
      "text/plain": [
       "KMeans(algorithm='auto', copy_x=True, init='k-means++', max_iter=300,\n",
       "    n_clusters=5, n_init=10, n_jobs=1, precompute_distances='auto',\n",
       "    random_state=None, tol=0.0001, verbose=0)"
      ]
     },
     "execution_count": 34,
     "metadata": {},
     "output_type": "execute_result"
    }
   ],
   "source": [
    "kmeans.fit(X_train)"
   ]
  },
  {
   "cell_type": "code",
   "execution_count": 35,
   "metadata": {
    "collapsed": false
   },
   "outputs": [
    {
     "data": {
      "text/plain": [
       "array([[ -2.89663772e-02,   5.50945303e-01,   1.99716218e-01,\n",
       "          3.83241845e-02,  -2.56392383e-01,   7.11242979e-02,\n",
       "         -1.12032111e-01,   3.13125486e-02,   1.23970951e-02,\n",
       "         -1.46637935e-02,  -1.74782487e-01,  -5.68377185e-02,\n",
       "          1.36280118e-02,  -4.30652971e-03,  -7.38682119e-03,\n",
       "          3.11392360e-02,  -2.82723204e-04,   6.77843626e-04,\n",
       "         -5.72201139e-03,  -1.95810673e-02,  -7.29729681e-02,\n",
       "         -7.51235832e-03,   6.40338891e-02,   1.15664733e-02,\n",
       "          9.15835805e-03,   1.34282290e-04,  -1.56983949e-02,\n",
       "         -3.33442668e-02,  -1.08534194e-02,  -3.48768148e-02,\n",
       "          2.89791767e-03,   2.02674516e-02,  -1.53084733e-02,\n",
       "         -1.59556262e-02,   3.22145935e-04,  -3.50759166e-03,\n",
       "          2.78257587e-02,   3.72849238e-02,   4.26965994e-03,\n",
       "         -4.74102963e-04,   8.85348641e-04,   6.49433400e-03,\n",
       "          1.10904824e-02,   2.14858126e-02,   1.15736601e-02,\n",
       "          8.13920697e-03,   2.46372599e-02,  -1.25008030e-02,\n",
       "         -4.98288522e-02,  -8.65782786e-02,   1.86503637e-02,\n",
       "          1.89604295e-02,   6.04729931e-03,   5.86055123e-03,\n",
       "          7.97700944e-03,  -9.09953061e-03,   1.85405327e-03,\n",
       "         -7.92484079e-04,   1.08708369e-03,   1.39013225e-02,\n",
       "         -1.31882970e-02,  -1.95622817e-03,  -9.69645272e-04,\n",
       "         -3.02857376e-02,  -8.97036154e-03,   1.64163239e-02,\n",
       "          1.07307561e-02,   1.52822026e-02,   2.73446248e-02,\n",
       "         -5.93963825e-02,   1.44410877e-01,   7.53820206e-02,\n",
       "         -9.37172987e-02,   3.16958552e-02,   3.21420704e-02,\n",
       "         -1.22084411e-03,  -1.06126916e-02,  -1.11476778e-01,\n",
       "          3.97155492e-02,  -4.93462737e-02,  -1.00709871e-02,\n",
       "          4.75083512e-03,  -4.50385656e-03,  -7.30825512e-03,\n",
       "          1.09209151e-01,  -2.21117405e-02,   3.03487631e-02,\n",
       "         -6.76382539e-02,  -8.46117588e-03,   1.58940459e-02,\n",
       "         -4.89338929e-02,  -4.89659064e-03,  -3.97445491e-02,\n",
       "          5.14491718e-03,   4.38189959e-03,  -2.77544249e-02,\n",
       "         -3.05867587e-02,   1.92600433e-03,   1.34584521e-03,\n",
       "         -2.47372746e-02,   1.00342389e-02,  -2.18068783e-02,\n",
       "         -3.99372179e-03,  -1.12303202e-02,  -1.57415011e-03,\n",
       "          3.33108272e-03,  -4.55306598e-02,  -2.92895924e-02,\n",
       "         -2.78263270e-02,  -5.58595907e-02,  -2.97265866e-02,\n",
       "          1.29564375e-02,   2.21267923e-02,  -1.71304614e-02,\n",
       "         -9.80808508e-02,   4.59426667e-02,   8.02482438e-01,\n",
       "          1.59252313e-02,   1.94278336e-02,   6.56563247e-03,\n",
       "          9.25443037e-03,  -1.71379247e-03,  -4.10148742e-02,\n",
       "          1.96499728e-02,  -3.22500525e-03],\n",
       "       [ -4.89928739e-01,   6.43231605e-02,  -4.95559688e-01,\n",
       "         -5.68758784e-01,  -2.64658103e-01,  -5.18749749e-01,\n",
       "         -1.30843325e-01,  -8.40990996e-02,  -8.63824870e-02,\n",
       "         -5.75666436e-02,   5.72139701e+00,  -2.92044729e-01,\n",
       "         -7.71833883e-02,   4.64269471e-02,   4.64269471e-02,\n",
       "         -1.55722336e-02,  -2.83083436e-02,  -1.64409249e-02,\n",
       "         -5.48593226e-02,   4.40375763e-02,  -6.01501539e-03,\n",
       "         -8.73859811e-03,   8.73599451e-03,   2.95559354e-02,\n",
       "          7.64427806e-02,  -5.89910976e-02,   3.05909490e-02,\n",
       "          6.79496874e-02,   5.47613984e-02,   4.88135032e-02,\n",
       "          5.33633147e-02,   1.38847327e-01,  -9.03656063e-03,\n",
       "         -1.57244591e-01,   9.50251142e-02,   1.43712808e-01,\n",
       "          2.79253767e-01,   7.99088480e-02,  -2.15745281e-02,\n",
       "          2.95559354e-02,   2.10499460e-03,  -1.41499202e-02,\n",
       "         -2.84090688e-02,   5.46835255e-02,  -1.32932062e-02,\n",
       "         -6.79979762e-02,   8.88342024e-02,  -6.61781605e-02,\n",
       "         -1.80017531e-01,  -8.65782786e-02,  -9.08698647e-02,\n",
       "         -1.16381133e-02,   4.92313238e-02,   5.81555995e-04,\n",
       "         -1.78059657e-02,  -1.35362566e-02,   4.64269471e-02,\n",
       "         -2.08305517e-02,  -4.99159550e-03,  -3.42206350e-02,\n",
       "          2.03919509e-01,   4.72330475e-02,   5.78589610e-03,\n",
       "         -2.73457347e-02,  -4.58897243e-02,  -2.03792551e-02,\n",
       "          2.70837161e-02,   1.22147651e-01,  -1.04497036e-01,\n",
       "          3.31148726e-03,   2.80805167e-02,  -1.23454906e-02,\n",
       "         -5.23626598e-02,   4.61421211e-02,  -1.11363098e-01,\n",
       "          8.16612793e-02,  -3.98480795e-02,  -1.30526141e-01,\n",
       "         -4.44861579e-02,  -2.64850916e-02,  -2.66104233e-02,\n",
       "         -9.11391058e-03,  -6.47138724e-02,  -7.22406800e-02,\n",
       "         -2.25088263e-02,   1.77455084e-01,  -1.58078091e-02,\n",
       "         -6.76382539e-02,   1.47736461e-01,  -3.49320540e-02,\n",
       "         -7.62801629e-02,   7.87580053e-02,  -1.00771813e-01,\n",
       "         -3.59731353e-02,  -1.08171153e-02,  -6.78866986e-02,\n",
       "         -1.38169094e-01,  -6.71195331e-03,  -1.87199906e-02,\n",
       "         -5.76997570e-02,  -1.08879971e-02,  -3.48109872e-02,\n",
       "          3.28885983e-02,   4.23358545e-02,   7.37877378e-02,\n",
       "          3.95136523e-02,   6.84811125e-04,  -7.33909677e-02,\n",
       "          1.41569838e-02,  -2.23916513e-02,   4.58466799e-03,\n",
       "          6.87603299e-02,  -8.07117457e-02,  -2.54519208e-02,\n",
       "         -1.78593999e-03,  -2.29909586e-02,   1.37907359e-01,\n",
       "          6.75637189e-02,   1.23588609e-01,   7.61705532e-02,\n",
       "          2.45413461e-01,  -2.67955516e-02,   1.45311161e-01,\n",
       "         -1.38478635e-01,  -1.29168353e-02],\n",
       "       [  3.43759790e-01,  -1.46294582e-01,   2.37856992e-01,\n",
       "         -1.79751075e-01,  -4.34540841e-02,   9.10066191e-02,\n",
       "         -8.35875690e-02,  -4.77014314e-02,  -5.09332375e-02,\n",
       "         -4.59175770e-03,  -4.93318594e-02,   9.19979553e-02,\n",
       "         -3.75683757e-02,  -1.35474042e-02,  -1.35474042e-02,\n",
       "         -4.77177378e-02,   1.86607052e-01,   4.24021304e-02,\n",
       "         -5.97585807e-02,  -7.53019244e-02,   5.35320604e-02,\n",
       "          8.95575509e-02,   1.02122578e-02,  -1.73309097e-02,\n",
       "          1.58102848e-01,  -1.68900912e-02,  -6.17895164e-02,\n",
       "         -7.10196041e-02,  -4.76850841e-02,   6.77861512e-02,\n",
       "         -5.26249732e-02,  -1.44528994e-01,  -1.72075569e-02,\n",
       "          1.43519013e-01,   4.87136074e-02,   6.45316834e-02,\n",
       "         -3.03200880e-01,  -1.29916991e-01,  -4.12847614e-02,\n",
       "         -1.73309097e-02,  -4.83828715e-02,  -1.41499202e-02,\n",
       "         -4.60767975e-02,  -9.38152754e-02,  -5.65365832e-02,\n",
       "         -8.15946196e-01,  -1.56213789e-01,  -1.38108100e-01,\n",
       "         -4.19234512e-01,   1.15502412e+01,  -1.47238270e-01,\n",
       "         -1.05267818e-01,  -1.61892006e-01,  -4.00500939e-02,\n",
       "         -1.78059657e-02,  -4.76850841e-02,  -1.35474042e-02,\n",
       "         -2.08305517e-02,  -3.11203227e-02,  -6.09680134e-02,\n",
       "         -3.24532564e-01,  -3.81236872e-02,  -6.71386568e-02,\n",
       "         -1.69959575e-01,  -5.95740508e-02,  -1.29118054e-01,\n",
       "         -8.64804365e-02,  -1.35066531e-01,  -1.82268685e-01,\n",
       "         -9.02613176e-02,  -2.80679878e-01,  -1.31632484e-01,\n",
       "         -2.10678943e-01,  -1.81485952e-01,  -1.71843167e-01,\n",
       "         -1.32206329e-01,  -1.53559880e-01,   3.46701588e+00,\n",
       "         -6.24264006e-03,  -3.44156067e-01,  -1.09324232e-01,\n",
       "         -4.98243860e-02,  -1.75486713e-02,  -2.69472409e-01,\n",
       "         -2.96628850e-01,  -2.86646071e-01,  -3.93585341e-02,\n",
       "         -6.76382539e-02,  -4.75027589e-03,  -4.03846219e-02,\n",
       "          1.46952854e-01,  -1.70153450e-01,   4.66648102e-02,\n",
       "         -1.31374961e-02,  -3.44355014e-02,  -2.29070243e-02,\n",
       "          1.68429222e-01,   9.50840532e-02,  -1.87199906e-02,\n",
       "         -5.06575000e-02,  -5.51843416e-02,  -6.13801186e-02,\n",
       "         -2.71022706e-02,  -5.72742065e-02,  -3.67837512e-02,\n",
       "         -1.52673261e-02,  -5.45577993e-02,  -8.02315700e-02,\n",
       "          1.89990662e-01,  -4.10136540e-02,   1.87943320e-02,\n",
       "         -8.82995867e-02,   2.46039542e-01,   3.13353669e-02,\n",
       "         -1.96545963e-02,  -1.64211200e-01,  -9.69400729e-02,\n",
       "         -1.22243949e-01,  -1.00340420e-01,  -1.61865025e-01,\n",
       "         -1.80552711e-01,  -7.20985605e-02,  -1.22154934e-01,\n",
       "          1.45916417e-01,  -1.29168353e-02],\n",
       "       [  7.39733075e-02,  -8.16451058e-01,  -2.63515182e-01,\n",
       "         -6.54183524e-03,   3.96205043e-01,  -5.73920356e-02,\n",
       "          1.68858341e-01,  -2.73113846e-02,  -1.81453562e-02,\n",
       "          1.64977085e-02,  -1.74782487e-01,   1.05275254e-01,\n",
       "         -2.66136792e-02,  -9.00047885e-03,  -4.45355353e-03,\n",
       "         -3.40354398e-02,  -1.74216088e-02,  -2.10557356e-03,\n",
       "          3.95049788e-03,   2.33998680e-02,   1.09346698e-01,\n",
       "          2.27270808e-02,  -9.01618159e-02,  -1.37762071e-02,\n",
       "         -1.73309097e-02,  -3.86511133e-03,  -2.75766834e-03,\n",
       "          3.69724576e-02,   1.70393210e-02,   4.65813249e-02,\n",
       "         -1.57092439e-02,  -4.34010513e-02,   9.23182852e-04,\n",
       "          4.81703683e-02,  -3.19148828e-03,  -2.99299050e-02,\n",
       "         -5.26048319e-02,  -6.33932937e-02,  -2.33529042e-02,\n",
       "         -3.11209927e-03,  -3.72622903e-03,  -1.08976259e-03,\n",
       "         -1.92873979e-02,  -3.88479785e-02,  -2.48446591e-02,\n",
       "          2.30662013e-02,  -4.87833837e-02,   2.50374232e-02,\n",
       "          8.51222176e-02,  -8.65782786e-02,  -2.15961246e-02,\n",
       "         -2.83675201e-02,  -1.93977045e-02,  -1.54063489e-02,\n",
       "         -3.96627636e-03,   1.50546379e-03,  -4.45355353e-03,\n",
       "          8.74833630e-03,  -9.33002308e-03,  -1.12859564e-02,\n",
       "          1.52800652e-02,  -9.00293635e-03,   7.49931096e-03,\n",
       "          5.78422240e-02,   2.03111653e-02,  -1.32174301e-02,\n",
       "         -2.33418358e-02,  -2.08489416e-02,  -2.38226575e-02,\n",
       "          9.46849034e-02,  -1.98122126e-01,  -1.07357333e-01,\n",
       "          1.49844269e-01,  -4.87463455e-02,  -4.47738854e-02,\n",
       "          1.17900555e-02,   2.09128009e-02,   1.15003716e-01,\n",
       "         -4.89173720e-02,   7.52785644e-02,   1.66639676e-02,\n",
       "         -5.14254288e-03,   1.36517615e-02,   2.89924597e-02,\n",
       "         -1.48668110e-01,   3.91038723e-02,  -4.91246399e-02,\n",
       "         -6.76382539e-02,   1.53205842e-03,  -9.66404664e-03,\n",
       "          7.27541057e-02,   5.19878081e-03,   6.69481220e-02,\n",
       "         -1.24939340e-02,  -3.99502799e-03,   4.96831947e-02,\n",
       "          5.50706255e-02,  -7.24704742e-03,   1.02659447e-03,\n",
       "          4.62747354e-02,  -1.04069401e-02,   2.92645224e-02,\n",
       "         -2.08729380e-03,   4.21972843e-03,  -1.57547918e-03,\n",
       "         -1.46358986e-02,   6.07040307e-02,   5.06194448e-02,\n",
       "          3.64205925e-02,   8.93788386e-02,   5.00224387e-02,\n",
       "         -3.07638473e-02,  -3.19134642e-02,   2.16005657e-02,\n",
       "          1.43190147e-01,  -7.01815509e-02,  -1.19299251e+00,\n",
       "         -3.13283118e-02,  -4.20202804e-02,  -1.21866914e-02,\n",
       "         -2.93763764e-02,   7.75646767e-03,   3.47719508e-02,\n",
       "         -1.25068932e-02,  -3.37920386e-03],\n",
       "       [ -3.27525082e-01,  -1.08919461e-01,  -3.29695520e-01,\n",
       "          1.16339980e-01,   1.25287278e-01,  -2.82796607e-01,\n",
       "          1.05915207e-01,  -2.33131461e-02,   4.46435927e-01,\n",
       "          2.96316351e-01,   1.54445810e-01,   9.77681320e-03,\n",
       "          2.53612021e-01,  -1.35474042e-02,  -1.35474042e-02,\n",
       "          7.37208554e-02,   1.51151466e-01,   9.62110701e-02,\n",
       "          1.06278140e-01,  -7.50915775e-03,  -9.41915080e-02,\n",
       "         -7.45137161e-02,  -6.91097365e-02,  -1.73309097e-02,\n",
       "         -1.73309097e-02,   4.99634307e-01,   2.06762942e-02,\n",
       "          4.75949057e-02,   5.90083338e-02,  -1.06074864e-01,\n",
       "          4.97857920e-01,   1.81453457e-01,   3.46544558e-01,\n",
       "         -5.77686312e-01,   2.55968645e-01,   9.02459115e-01,\n",
       "          3.57264486e-01,   1.08473049e-01,   1.43668258e+00,\n",
       "         -1.73309097e-02,  -4.83828715e-02,  -1.41499202e-02,\n",
       "          6.43240859e-02,   6.99369108e-02,   7.54112104e-01,\n",
       "         -3.28883716e-01,   1.04214715e+00,   1.17155138e-02,\n",
       "         -3.48053438e-01,   3.15620207e-02,  -6.34586933e-03,\n",
       "          4.09988909e-02,   6.33462920e-02,   8.68980306e-02,\n",
       "         -1.78059657e-02,  -4.76850841e-02,  -1.35474042e-02,\n",
       "         -2.08305517e-02,  -3.11203227e-02,  -6.09680134e-02,\n",
       "          3.95404230e-03,   4.95247584e-01,  -6.71386568e-02,\n",
       "         -1.08500574e-01,  -5.95740508e-02,  -1.29118054e-01,\n",
       "         -2.73444501e-02,   4.00687544e-01,  -1.98206242e-01,\n",
       "         -1.16668498e-01,  -2.91977445e-01,  -1.31632484e-01,\n",
       "         -2.49501124e-01,  -1.97477857e-01,  -2.03020288e-01,\n",
       "         -1.52589654e-01,  -1.53559880e-01,  -2.55741312e-01,\n",
       "         -5.84352902e-02,  -3.80719305e-01,  -1.09324232e-01,\n",
       "         -8.55949750e-02,  -6.47138724e-02,  -2.81138383e-01,\n",
       "         -2.96628850e-01,  -2.97759077e-01,  -7.83772991e-02,\n",
       "          1.47845331e+01,   1.96905405e-01,   1.29346058e-01,\n",
       "          9.19570567e-02,   4.56509262e-01,   1.40298500e-01,\n",
       "          1.97343662e-02,  -3.44355014e-02,   7.23164075e-03,\n",
       "          2.36281189e-02,  -4.38415388e-02,  -1.87199906e-02,\n",
       "         -8.61862638e-02,  -5.51843416e-02,   2.16315586e-02,\n",
       "          1.60331130e-01,   3.87323274e-01,   5.15961438e-01,\n",
       "          1.69847300e-02,   4.62688552e-02,  -9.18616426e-02,\n",
       "          6.30268929e-02,   3.32885027e-01,   1.66223168e-01,\n",
       "          5.79497141e-02,  -1.36278977e-01,  -7.48888123e-02,\n",
       "          1.93029997e-01,   1.21412701e-01,   2.64467183e-03,\n",
       "          1.57637863e-01,   2.33444628e-01,  -4.60470782e-02,\n",
       "          7.15146360e-01,  -1.32698186e-03,   1.73083195e-01,\n",
       "         -1.39185652e-01,  -1.29168353e-02]])"
      ]
     },
     "execution_count": 35,
     "metadata": {},
     "output_type": "execute_result"
    }
   ],
   "source": [
    "kmeans.cluster_centers_"
   ]
  },
  {
   "cell_type": "code",
   "execution_count": 36,
   "metadata": {
    "collapsed": false
   },
   "outputs": [
    {
     "data": {
      "text/plain": [
       "array([3, 0, 3, ..., 0, 3, 3], dtype=int32)"
      ]
     },
     "execution_count": 36,
     "metadata": {},
     "output_type": "execute_result"
    }
   ],
   "source": [
    "kmeans.labels_"
   ]
  },
  {
   "cell_type": "code",
   "execution_count": 37,
   "metadata": {
    "collapsed": true
   },
   "outputs": [],
   "source": [
    "#The above KMeans can divide the the data into group, but limited at how many and validation"
   ]
  },
  {
   "cell_type": "code",
   "execution_count": 38,
   "metadata": {
    "collapsed": true
   },
   "outputs": [],
   "source": [
    "#give a label base on a personalize choice"
   ]
  },
  {
   "cell_type": "code",
   "execution_count": 39,
   "metadata": {
    "collapsed": true
   },
   "outputs": [],
   "source": [
    "from sklearn.linear_model import LogisticRegression"
   ]
  },
  {
   "cell_type": "code",
   "execution_count": 40,
   "metadata": {
    "collapsed": false
   },
   "outputs": [
    {
     "name": "stderr",
     "output_type": "stream",
     "text": [
      "/home/dave/miniconda2/lib/python2.7/site-packages/sklearn/utils/validation.py:526: DataConversionWarning: A column-vector y was passed when a 1d array was expected. Please change the shape of y to (n_samples, ), for example using ravel().\n",
      "  y = column_or_1d(y, warn=True)\n"
     ]
    },
    {
     "data": {
      "text/plain": [
       "LogisticRegression(C=1.0, class_weight=None, dual=False, fit_intercept=True,\n",
       "          intercept_scaling=1, max_iter=100, multi_class='ovr', n_jobs=1,\n",
       "          penalty='l2', random_state=None, solver='liblinear', tol=0.0001,\n",
       "          verbose=0, warm_start=False)"
      ]
     },
     "execution_count": 40,
     "metadata": {},
     "output_type": "execute_result"
    }
   ],
   "source": [
    "lgmodel = LogisticRegression()\n",
    "lgmodel.fit(X_train, y_train)"
   ]
  },
  {
   "cell_type": "code",
   "execution_count": 41,
   "metadata": {
    "collapsed": false
   },
   "outputs": [],
   "source": [
    "lg_predictions = lgmodel.predict(X_test)"
   ]
  },
  {
   "cell_type": "code",
   "execution_count": 42,
   "metadata": {
    "collapsed": true
   },
   "outputs": [],
   "source": [
    "from sklearn.metrics import classification_report, confusion_matrix"
   ]
  },
  {
   "cell_type": "code",
   "execution_count": 43,
   "metadata": {
    "collapsed": false
   },
   "outputs": [
    {
     "name": "stdout",
     "output_type": "stream",
     "text": [
      "Logistic Regression classfication report\n",
      "             precision    recall  f1-score   support\n",
      "\n",
      "        0.0       0.94      0.98      0.96     16507\n",
      "        1.0       0.48      0.25      0.33      1477\n",
      "\n",
      "avg / total       0.90      0.92      0.90     17984\n",
      "\n"
     ]
    }
   ],
   "source": [
    "print('Logistic Regression classfication report')\n",
    "print(classification_report(y_test,lg_predictions))"
   ]
  },
  {
   "cell_type": "code",
   "execution_count": 44,
   "metadata": {
    "collapsed": false
   },
   "outputs": [
    {
     "name": "stdout",
     "output_type": "stream",
     "text": [
      "Logistic Regression metric report\n",
      "[[16104   403]\n",
      " [ 1111   366]]\n"
     ]
    }
   ],
   "source": [
    "print('Logistic Regression metric report')\n",
    "print(confusion_matrix(y_test,lg_predictions))"
   ]
  },
  {
   "cell_type": "code",
   "execution_count": 45,
   "metadata": {
    "collapsed": true
   },
   "outputs": [],
   "source": [
    "# I have 90% accurate rate and 91% recall rate. "
   ]
  },
  {
   "cell_type": "code",
   "execution_count": 46,
   "metadata": {
    "collapsed": true
   },
   "outputs": [],
   "source": [
    "from sklearn.neighbors import KNeighborsClassifier"
   ]
  },
  {
   "cell_type": "code",
   "execution_count": 47,
   "metadata": {
    "collapsed": true
   },
   "outputs": [],
   "source": [
    "knn = KNeighborsClassifier(n_neighbors=1)"
   ]
  },
  {
   "cell_type": "code",
   "execution_count": 48,
   "metadata": {
    "collapsed": false
   },
   "outputs": [
    {
     "name": "stderr",
     "output_type": "stream",
     "text": [
      "/home/dave/miniconda2/lib/python2.7/site-packages/ipykernel/__main__.py:1: DataConversionWarning: A column-vector y was passed when a 1d array was expected. Please change the shape of y to (n_samples, ), for example using ravel().\n",
      "  if __name__ == '__main__':\n"
     ]
    },
    {
     "data": {
      "text/plain": [
       "KNeighborsClassifier(algorithm='auto', leaf_size=30, metric='minkowski',\n",
       "           metric_params=None, n_jobs=1, n_neighbors=1, p=2,\n",
       "           weights='uniform')"
      ]
     },
     "execution_count": 48,
     "metadata": {},
     "output_type": "execute_result"
    }
   ],
   "source": [
    "knn.fit(X_train, y_train)"
   ]
  },
  {
   "cell_type": "code",
   "execution_count": 49,
   "metadata": {
    "collapsed": true
   },
   "outputs": [],
   "source": [
    "knn_predictions = knn.predict(X_test)"
   ]
  },
  {
   "cell_type": "code",
   "execution_count": 50,
   "metadata": {
    "collapsed": false
   },
   "outputs": [
    {
     "name": "stdout",
     "output_type": "stream",
     "text": [
      "KNN classfication report\n",
      "             precision    recall  f1-score   support\n",
      "\n",
      "        0.0       0.94      0.94      0.94     16507\n",
      "        1.0       0.34      0.34      0.34      1477\n",
      "\n",
      "avg / total       0.89      0.89      0.89     17984\n",
      "\n",
      "\n",
      "\n",
      "KNN metric report\n",
      "[[15538   969]\n",
      " [  972   505]]\n"
     ]
    }
   ],
   "source": [
    "print('KNN classfication report')\n",
    "print(classification_report(y_test,knn_predictions))\n",
    "print('\\n')\n",
    "print('KNN metric report')\n",
    "print(confusion_matrix(y_test,knn_predictions))"
   ]
  },
  {
   "cell_type": "code",
   "execution_count": 51,
   "metadata": {
    "collapsed": true
   },
   "outputs": [],
   "source": [
    "from sklearn.tree import DecisionTreeClassifier"
   ]
  },
  {
   "cell_type": "code",
   "execution_count": 52,
   "metadata": {
    "collapsed": false
   },
   "outputs": [
    {
     "data": {
      "text/plain": [
       "DecisionTreeClassifier(class_weight=None, criterion='gini', max_depth=None,\n",
       "            max_features=None, max_leaf_nodes=None,\n",
       "            min_impurity_split=1e-07, min_samples_leaf=1,\n",
       "            min_samples_split=2, min_weight_fraction_leaf=0.0,\n",
       "            presort=False, random_state=None, splitter='best')"
      ]
     },
     "execution_count": 52,
     "metadata": {},
     "output_type": "execute_result"
    }
   ],
   "source": [
    "dtc = DecisionTreeClassifier()\n",
    "dtc.fit(X_train, y_train)"
   ]
  },
  {
   "cell_type": "code",
   "execution_count": 53,
   "metadata": {
    "collapsed": true
   },
   "outputs": [],
   "source": [
    "dtc_predictions = dtc.predict(X_test)"
   ]
  },
  {
   "cell_type": "code",
   "execution_count": 54,
   "metadata": {
    "collapsed": false
   },
   "outputs": [
    {
     "name": "stdout",
     "output_type": "stream",
     "text": [
      "Decision Tree classfication report\n",
      "             precision    recall  f1-score   support\n",
      "\n",
      "        0.0       0.94      0.94      0.94     16507\n",
      "        1.0       0.34      0.34      0.34      1477\n",
      "\n",
      "avg / total       0.89      0.89      0.89     17984\n",
      "\n",
      "\n",
      "\n",
      "Decision Tree metric report\n",
      "[[15538   969]\n",
      " [  972   505]]\n"
     ]
    }
   ],
   "source": [
    "print('Decision Tree classfication report')\n",
    "print(classification_report(y_test,knn_predictions))\n",
    "print('\\n')\n",
    "print('Decision Tree metric report')\n",
    "print(confusion_matrix(y_test,knn_predictions))"
   ]
  },
  {
   "cell_type": "code",
   "execution_count": 55,
   "metadata": {
    "collapsed": true
   },
   "outputs": [],
   "source": [
    "from sklearn.svm import SVC\n",
    "svm = SVC()\n"
   ]
  },
  {
   "cell_type": "code",
   "execution_count": 56,
   "metadata": {
    "collapsed": false
   },
   "outputs": [
    {
     "data": {
      "text/plain": [
       "SVC(C=1.0, cache_size=200, class_weight=None, coef0=0.0,\n",
       "  decision_function_shape=None, degree=3, gamma='auto', kernel='rbf',\n",
       "  max_iter=-1, probability=False, random_state=None, shrinking=True,\n",
       "  tol=0.001, verbose=False)"
      ]
     },
     "execution_count": 56,
     "metadata": {},
     "output_type": "execute_result"
    }
   ],
   "source": [
    "svm.fit(X_train, y_train)"
   ]
  },
  {
   "cell_type": "code",
   "execution_count": 57,
   "metadata": {
    "collapsed": true
   },
   "outputs": [],
   "source": [
    "svm_predictions = svm.predict(X_test)"
   ]
  },
  {
   "cell_type": "code",
   "execution_count": 58,
   "metadata": {
    "collapsed": false
   },
   "outputs": [
    {
     "name": "stdout",
     "output_type": "stream",
     "text": [
      "SVM classfication report\n",
      "             precision    recall  f1-score   support\n",
      "\n",
      "        0.0       0.94      0.94      0.94     16507\n",
      "        1.0       0.34      0.34      0.34      1477\n",
      "\n",
      "avg / total       0.89      0.89      0.89     17984\n",
      "\n",
      "\n",
      "\n",
      "SVM metric report\n",
      "[[15538   969]\n",
      " [  972   505]]\n"
     ]
    }
   ],
   "source": [
    "print('SVM classfication report')\n",
    "print(classification_report(y_test,knn_predictions))\n",
    "print('\\n')\n",
    "print('SVM metric report')\n",
    "print(confusion_matrix(y_test,knn_predictions))"
   ]
  },
  {
   "cell_type": "code",
   "execution_count": 59,
   "metadata": {
    "collapsed": true
   },
   "outputs": [],
   "source": [
    "#SOME Notes: 1. classcification reports or metrics report might be different\n",
    "#when running again because the train test split is not with random state\n",
    "#Project is not finished because the following columns are removed considering \n",
    "#computer capability"
   ]
  },
  {
   "cell_type": "code",
   "execution_count": null,
   "metadata": {
    "collapsed": true
   },
   "outputs": [],
   "source": [
    "#essay_list = ['essay0','essay1','essay2','essay3','essay4','essay5','essay6','essay7','essay8','essay9']\n",
    "#temp_remove = ['last_online','ethnicity','location','religion']"
   ]
  }
 ],
 "metadata": {
  "anaconda-cloud": {},
  "kernelspec": {
   "display_name": "Python [conda root]",
   "language": "python",
   "name": "conda-root-py"
  },
  "language_info": {
   "codemirror_mode": {
    "name": "ipython",
    "version": 2
   },
   "file_extension": ".py",
   "mimetype": "text/x-python",
   "name": "python",
   "nbconvert_exporter": "python",
   "pygments_lexer": "ipython2",
   "version": "2.7.12"
  }
 },
 "nbformat": 4,
 "nbformat_minor": 1
}
