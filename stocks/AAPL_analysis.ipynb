{
 "cells": [
  {
   "cell_type": "code",
   "execution_count": 1,
   "metadata": {
    "collapsed": true
   },
   "outputs": [],
   "source": [
    "import pandas as pd\n",
    "import numpy as np\n",
    "import matplotlib.pyplot as plt"
   ]
  },
  {
   "cell_type": "code",
   "execution_count": 22,
   "metadata": {
    "collapsed": true
   },
   "outputs": [],
   "source": [
    "appleprice=pd.read_csv('AAPL.csv',sep=',')"
   ]
  },
  {
   "cell_type": "code",
   "execution_count": 32,
   "metadata": {
    "collapsed": false
   },
   "outputs": [
    {
     "data": {
      "text/html": [
       "<div>\n",
       "<table border=\"1\" class=\"dataframe\">\n",
       "  <thead>\n",
       "    <tr style=\"text-align: right;\">\n",
       "      <th></th>\n",
       "      <th>Open</th>\n",
       "      <th>High</th>\n",
       "      <th>Low</th>\n",
       "      <th>Close</th>\n",
       "      <th>Volume</th>\n",
       "      <th>Adj Close</th>\n",
       "    </tr>\n",
       "    <tr>\n",
       "      <th>Date</th>\n",
       "      <th></th>\n",
       "      <th></th>\n",
       "      <th></th>\n",
       "      <th></th>\n",
       "      <th></th>\n",
       "      <th></th>\n",
       "    </tr>\n",
       "  </thead>\n",
       "  <tbody>\n",
       "    <tr>\n",
       "      <th>2017-02-17</th>\n",
       "      <td>135.100006</td>\n",
       "      <td>135.830002</td>\n",
       "      <td>135.100006</td>\n",
       "      <td>135.720001</td>\n",
       "      <td>22084500</td>\n",
       "      <td>135.720001</td>\n",
       "    </tr>\n",
       "    <tr>\n",
       "      <th>2017-02-16</th>\n",
       "      <td>135.669998</td>\n",
       "      <td>135.899994</td>\n",
       "      <td>134.839996</td>\n",
       "      <td>135.350006</td>\n",
       "      <td>22118000</td>\n",
       "      <td>135.350006</td>\n",
       "    </tr>\n",
       "    <tr>\n",
       "      <th>2017-02-15</th>\n",
       "      <td>135.520004</td>\n",
       "      <td>136.270004</td>\n",
       "      <td>134.619995</td>\n",
       "      <td>135.509995</td>\n",
       "      <td>35501600</td>\n",
       "      <td>135.509995</td>\n",
       "    </tr>\n",
       "    <tr>\n",
       "      <th>2017-02-14</th>\n",
       "      <td>133.470001</td>\n",
       "      <td>135.089996</td>\n",
       "      <td>133.250000</td>\n",
       "      <td>135.020004</td>\n",
       "      <td>32815500</td>\n",
       "      <td>135.020004</td>\n",
       "    </tr>\n",
       "    <tr>\n",
       "      <th>2017-02-13</th>\n",
       "      <td>133.080002</td>\n",
       "      <td>133.820007</td>\n",
       "      <td>132.750000</td>\n",
       "      <td>133.289993</td>\n",
       "      <td>23035400</td>\n",
       "      <td>133.289993</td>\n",
       "    </tr>\n",
       "  </tbody>\n",
       "</table>\n",
       "</div>"
      ],
      "text/plain": [
       "                  Open        High         Low       Close    Volume  \\\n",
       "Date                                                                   \n",
       "2017-02-17  135.100006  135.830002  135.100006  135.720001  22084500   \n",
       "2017-02-16  135.669998  135.899994  134.839996  135.350006  22118000   \n",
       "2017-02-15  135.520004  136.270004  134.619995  135.509995  35501600   \n",
       "2017-02-14  133.470001  135.089996  133.250000  135.020004  32815500   \n",
       "2017-02-13  133.080002  133.820007  132.750000  133.289993  23035400   \n",
       "\n",
       "             Adj Close  \n",
       "Date                    \n",
       "2017-02-17  135.720001  \n",
       "2017-02-16  135.350006  \n",
       "2017-02-15  135.509995  \n",
       "2017-02-14  135.020004  \n",
       "2017-02-13  133.289993  "
      ]
     },
     "execution_count": 32,
     "metadata": {},
     "output_type": "execute_result"
    }
   ],
   "source": [
    "appleprice.head()"
   ]
  },
  {
   "cell_type": "code",
   "execution_count": 24,
   "metadata": {
    "collapsed": false
   },
   "outputs": [
    {
     "data": {
      "text/plain": [
       "dtype('O')"
      ]
     },
     "execution_count": 24,
     "metadata": {},
     "output_type": "execute_result"
    }
   ],
   "source": [
    "appleprice['Date'].dtype"
   ]
  },
  {
   "cell_type": "code",
   "execution_count": 25,
   "metadata": {
    "collapsed": true
   },
   "outputs": [],
   "source": [
    "def convert(string):\n",
    "    from datetime import datetime\n",
    "    return datetime.strptime(string,\"%Y-%m-%d\").date()"
   ]
  },
  {
   "cell_type": "code",
   "execution_count": 26,
   "metadata": {
    "collapsed": false
   },
   "outputs": [],
   "source": [
    "appleprice[\"Date\"]=appleprice[\"Date\"].apply(convert)"
   ]
  },
  {
   "cell_type": "code",
   "execution_count": 27,
   "metadata": {
    "collapsed": false
   },
   "outputs": [
    {
     "data": {
      "text/plain": [
       "dtype('O')"
      ]
     },
     "execution_count": 27,
     "metadata": {},
     "output_type": "execute_result"
    }
   ],
   "source": [
    "appleprice[\"Date\"].dtype"
   ]
  },
  {
   "cell_type": "code",
   "execution_count": 29,
   "metadata": {
    "collapsed": true
   },
   "outputs": [],
   "source": [
    "appleprice.index = appleprice[\"Date\"]"
   ]
  },
  {
   "cell_type": "code",
   "execution_count": 31,
   "metadata": {
    "collapsed": true
   },
   "outputs": [],
   "source": [
    "del appleprice['Date']"
   ]
  },
  {
   "cell_type": "code",
   "execution_count": 46,
   "metadata": {
    "collapsed": false
   },
   "outputs": [
    {
     "name": "stdout",
     "output_type": "stream",
     "text": [
      "Date\n",
      "2014-01-08    72.820202\n",
      "2014-01-07    72.361944\n",
      "2014-01-06    72.883175\n",
      "2014-01-03    72.487897\n",
      "2014-01-02    74.115916\n",
      "Name: Adj Close, dtype: float64\n",
      "Date\n",
      "2017-02-17    135.720001\n",
      "2017-02-16    135.350006\n",
      "2017-02-15    135.509995\n",
      "2017-02-14    135.020004\n",
      "2017-02-13    133.289993\n",
      "Name: Adj Close, dtype: float64\n"
     ]
    }
   ],
   "source": [
    "priceSeries=appleprice['Adj Close']\n",
    "print(priceSeries[1:].tail())\n",
    "print(priceSeries[:-1].head())"
   ]
  },
  {
   "cell_type": "code",
   "execution_count": 43,
   "metadata": {
    "collapsed": true
   },
   "outputs": [],
   "source": [
    "returns=priceSeries[:-1]/priceSeries[1:]-1"
   ]
  },
  {
   "cell_type": "code",
   "execution_count": 48,
   "metadata": {
    "collapsed": false
   },
   "outputs": [],
   "source": [
    "priceShifted=priceSeries[1:]\n",
    "newIndex=priceSeries.index[0:-1]\n",
    "priceShifted.index=newIndex\n",
    "priceShifted.name='PreviousDatePrice'"
   ]
  },
  {
   "cell_type": "code",
   "execution_count": 74,
   "metadata": {
    "collapsed": false
   },
   "outputs": [],
   "source": [
    "priceSeries.sort_index(ascending=True,inplace=True)\n",
    "\n",
    "priceSeriesRollingSum=pd.Series.rolling(priceSeries,10).sum()\n",
    "priceSeriesRollingSum.sort_index(ascending=False,inplace=True)"
   ]
  },
  {
   "cell_type": "code",
   "execution_count": 75,
   "metadata": {
    "collapsed": false
   },
   "outputs": [
    {
     "data": {
      "text/plain": [
       "Date\n",
       "2017-02-17    1331.589736\n",
       "2017-02-16    1324.392516\n",
       "2017-02-15    1317.017662\n",
       "2017-02-14    1309.701870\n",
       "2017-02-13    1295.508013\n",
       "2017-02-10    1283.322957\n",
       "2017-02-09    1272.626517\n",
       "2017-02-08    1261.620123\n",
       "2017-02-07    1251.503987\n",
       "2017-02-06    1239.993893\n",
       "2017-02-03    1229.827977\n",
       "2017-02-02    1220.787172\n",
       "2017-02-01    1212.074945\n",
       "2017-01-31    1203.352759\n",
       "2017-01-30    1202.008588\n",
       "2017-01-27    1199.429772\n",
       "2017-01-26    1196.741431\n",
       "2017-01-25    1194.560882\n",
       "2017-01-24    1191.802843\n",
       "2017-01-23    1190.827070\n",
       "2017-01-20    1188.666439\n",
       "2017-01-19    1185.291074\n",
       "2017-01-18    1181.547303\n",
       "2017-01-17    1177.723883\n",
       "2017-01-13    1173.561927\n",
       "2017-01-12    1171.261902\n",
       "2017-01-11    1168.782653\n",
       "2017-01-10    1166.303404\n",
       "2017-01-09    1163.724580\n",
       "2017-01-06    1161.036239\n",
       "                 ...     \n",
       "2014-02-13     699.449555\n",
       "2014-02-12     693.030079\n",
       "2014-02-11     687.887689\n",
       "2014-02-10     683.510369\n",
       "2014-02-07     685.968300\n",
       "2014-02-06     689.087588\n",
       "2014-02-05     694.528033\n",
       "2014-02-04     699.743064\n",
       "2014-02-03     705.140323\n",
       "2014-01-31     710.384837\n",
       "2014-01-30     717.573603\n",
       "2014-01-29     725.288960\n",
       "2014-01-28     731.404435\n",
       "2014-01-27     735.321075\n",
       "2014-01-24     732.968143\n",
       "2014-01-23     731.688501\n",
       "2014-01-22     729.984106\n",
       "2014-01-21     728.447205\n",
       "2014-01-17     727.758480\n",
       "2014-01-16     727.800021\n",
       "2014-01-15     727.649944\n",
       "2014-01-14            NaN\n",
       "2014-01-13            NaN\n",
       "2014-01-10            NaN\n",
       "2014-01-09            NaN\n",
       "2014-01-08            NaN\n",
       "2014-01-07            NaN\n",
       "2014-01-06            NaN\n",
       "2014-01-03            NaN\n",
       "2014-01-02            NaN\n",
       "Name: Adj Close, dtype: float64"
      ]
     },
     "execution_count": 75,
     "metadata": {},
     "output_type": "execute_result"
    }
   ],
   "source": [
    "priceSeriesRollingSum"
   ]
  },
  {
   "cell_type": "code",
   "execution_count": null,
   "metadata": {
    "collapsed": true
   },
   "outputs": [],
   "source": []
  }
 ],
 "metadata": {
  "kernelspec": {
   "display_name": "Python 3",
   "language": "python",
   "name": "python3"
  },
  "language_info": {
   "codemirror_mode": {
    "name": "ipython",
    "version": 3
   },
   "file_extension": ".py",
   "mimetype": "text/x-python",
   "name": "python",
   "nbconvert_exporter": "python",
   "pygments_lexer": "ipython3",
   "version": "3.5.1"
  }
 },
 "nbformat": 4,
 "nbformat_minor": 0
}
