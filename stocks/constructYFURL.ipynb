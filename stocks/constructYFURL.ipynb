{
 "cells": [
  {
   "cell_type": "code",
   "execution_count": 26,
   "metadata": {
    "collapsed": false
   },
   "outputs": [],
   "source": [
    "from datetime import datetime\n",
    "import requests\n",
    "import pandas as pd"
   ]
  },
  {
   "cell_type": "code",
   "execution_count": 27,
   "metadata": {
    "collapsed": true
   },
   "outputs": [],
   "source": [
    "GOOG = 'http://chart.finance.yahoo.com/table.csv?s=GOOG&a=00&b=1&c=2016&d=08&e=22&f=2016&g=d&ignore=.csv'    "
   ]
  },
  {
   "cell_type": "code",
   "execution_count": 28,
   "metadata": {
    "collapsed": false
   },
   "outputs": [],
   "source": [
    "#Fuction getnerate url\n",
    "def constructYFURL(ticker, start_date, end_date, freq):\n",
    "    global current_ticker\n",
    "    current_ticker=ticker\n",
    "    \n",
    "    start_date = datetime.strptime(start_date,\"%Y-%m-%d\").date()\n",
    "    end_date = datetime.strptime(end_date,\"%Y-%m-%d\").date()\n",
    "    \n",
    "    s = ticker.replace(\"^\",\"%5E\")\n",
    "    a = str(start_date.month-1)\n",
    "##    if start_date.month-1 < 10:\n",
    "##        a = \"0\"+str(start_date.month-1)\n",
    "##    else:\n",
    "##        a = str(start_date.month-1)\n",
    "    #month potion but from 0\n",
    "    b = str(start_date.day)\n",
    "    c = str(start_date.year)\n",
    "    if end_date.month-1 < 10:\n",
    "        d = \"0\"+str(end_date.month-1)\n",
    "    else:\n",
    "        d = str(end_date.month-1)\n",
    "    e = str(end_date.day)\n",
    "    f = str(end_date.year)\n",
    "    g = freq\n",
    "    #g stands freq d = daily w = weekly m = monthly\n",
    "    \n",
    "    yURL = 'http://real-chart.finance.yahoo.com/table.csv?s='+s+'&a='+a+'&b='+b+'&c='+c+'&d='+d+'&e='+e+'&f='+f+'&g='+g+'&ignore=.csv'\n",
    "    return yURL    "
   ]
  },
  {
   "cell_type": "code",
   "execution_count": 29,
   "metadata": {
    "collapsed": false
   },
   "outputs": [
    {
     "data": {
      "text/plain": [
       "'GOOG'"
      ]
     },
     "execution_count": 29,
     "metadata": {},
     "output_type": "execute_result"
    }
   ],
   "source": [
    "url = constructYFURL('GOOG', '2001-01-01', '2016-09-22', 'd')\n",
    "current_ticker"
   ]
  },
  {
   "cell_type": "code",
   "execution_count": 30,
   "metadata": {
    "collapsed": false
   },
   "outputs": [],
   "source": [
    "#Fuction download price data from Yahoo Finance\n",
    "#We can use the NASDAQ ticker list to download very stock\n",
    "def download(filePath, urlOfFile):\n",
    "    import requests\n",
    "    \n",
    "    header={'User-Agent':'Mozilla/5.0 (Windows NT 10.0; WOW64) AppleWebKit/537.36 (KHTML, like Gecko) Chrome/53.0.2785.116 Safari/537.36',\n",
    "         'Accept':'text/html,application/xhtml+xml,application/xml;q=0.9,*/*;q=0.8',\n",
    "         'Accept-Charset':'ISO-8859-1,utf-8;q=0.7,*;q=0.3',\n",
    "         'Accept-Language':'en-US,en;q=0.8',\n",
    "         'Accept-Encoding':'none',\n",
    "         'Connection':'keep-alive'}\n",
    "    \n",
    "    try:\n",
    "        page = requests.get(urlOfFile,headers=header)\n",
    "        content=page.content\n",
    "        \n",
    "        with open(filePath, 'wb') as output:\n",
    "            output.write(bytearray(content))\n",
    "    except requests.HTTPError:\n",
    "        e=requests.HTTPError.strerror\n",
    "        print(\"e\")"
   ]
  },
  {
   "cell_type": "code",
   "execution_count": 166,
   "metadata": {
    "collapsed": false
   },
   "outputs": [],
   "source": [
    "pth = \"D:\\\\hotma\\\\AlgorTrading\\\\data\\\\\"+current_ticker+\".csv\"\n",
    "download(pth,url)\n",
    "file_add=[]\n",
    "with open(pth) as file:\n",
    "    for line in file:\n",
    "        if line.split(',')[0]=='Date': Header=['Ticker','Date','Open','High','Low','Close','Volume','Adj Close']\n",
    "        else:\n",
    "            file_add.append((current_ticker+','+line).strip().split(','))\n",
    "    file_add_df=pd.DataFrame(file_add,columns=Header)\n",
    "    file_add_df.to_csv('D:\\\\hotma\\\\AlgorTrading\\\\data\\\\'+current_ticker+'.csv',index=False)    "
   ]
  },
  {
   "cell_type": "code",
   "execution_count": 167,
   "metadata": {
    "collapsed": false
   },
   "outputs": [
    {
     "data": {
      "text/plain": [
       "('GOOG',\n",
       " '2004-08-19',\n",
       " 100.000168,\n",
       " 104.060182,\n",
       " 95.960165000000003,\n",
       " 100.340176,\n",
       " 44871300,\n",
       " 50.119968)"
      ]
     },
     "execution_count": 167,
     "metadata": {},
     "output_type": "execute_result"
    }
   ],
   "source": [
    "path='D:\\\\hotma\\\\AlgorTrading\\\\data\\\\'\n",
    "file='GOOG'\n",
    "filename=path+file+'.csv'\n",
    "\n",
    "df=pd.read_csv(filename)\n",
    "load=[]\n",
    "for ind in df.index:\n",
    "    t=tuple(df.iloc[ind])\n",
    "t"
   ]
  },
  {
   "cell_type": "code",
   "execution_count": 174,
   "metadata": {
    "collapsed": false
   },
   "outputs": [],
   "source": [
    "#Load files in data folder\n",
    "-"
   ]
  },
  {
   "cell_type": "code",
   "execution_count": 175,
   "metadata": {
    "collapsed": false
   },
   "outputs": [],
   "source": [
    "#run insertRows function to insert data into database\n",
    "insertRows(load,c)\n",
    "c.close()\n",
    "conn.close()"
   ]
  },
  {
   "cell_type": "code",
   "execution_count": 12,
   "metadata": {
    "collapsed": true
   },
   "outputs": [],
   "source": [
    "import os"
   ]
  },
  {
   "cell_type": "code",
   "execution_count": 14,
   "metadata": {
    "collapsed": false
   },
   "outputs": [
    {
     "data": {
      "text/plain": [
       "['.ipynb_checkpoints',\n",
       " 'bk',\n",
       " 'constructYFURL.ipynb',\n",
       " 'data',\n",
       " 'dataGOOG.csv',\n",
       " 'documentation',\n",
       " 'GOOG.csv',\n",
       " 'NASDAQ_companylist.csv']"
      ]
     },
     "execution_count": 14,
     "metadata": {},
     "output_type": "execute_result"
    }
   ],
   "source": [
    "os.listdir()"
   ]
  },
  {
   "cell_type": "code",
   "execution_count": 1,
   "metadata": {
    "collapsed": true
   },
   "outputs": [],
   "source": [
    "from datetime import datetime\n",
    "def constructYFURL(ticker,start_date,end_date,freq):\n",
    "    start_date=datetime.strptime(start_date,\"%Y-%m-%d\").date()\n",
    "    end_date=datetime.strptime(end_date,\"%Y-%m-%d\").date()\n",
    "\n",
    "    s=ticker.replace(\"^\",\"%5E\")\n",
    "    if start_date.month-1<=10:\n",
    "        a=\"0\"+str(start_date.month-1)\n",
    "    else:\n",
    "        a=str(start_date.month-1)\n",
    "    b=start_date.day\n",
    "    c=start_date.year\n",
    "    if start_date.month-1<=10:\n",
    "        d=\"0\"+str(end_date.month-1)\n",
    "    else:\n",
    "        d=str(end_date.month-1)\n",
    "    e=end_date.day\n",
    "    f=end_date.year\n",
    "    g=freq\n",
    "    #d=daily, w=weekly\n",
    "\n",
    "    yfURL='http://chart.finance.yahoo.com/table.csv?s='+s+'&a='+a+'&b='+b+'&c='+c+'&d='+d+'&e='+e+'&f='+f+'&g='+g+'&ignore=.csv'\n",
    "    return yfURL"
   ]
  },
  {
   "cell_type": "code",
   "execution_count": 2,
   "metadata": {
    "collapsed": false
   },
   "outputs": [
    {
     "ename": "TypeError",
     "evalue": "Can't convert 'int' object to str implicitly",
     "output_type": "error",
     "traceback": [
      "\u001b[1;31m---------------------------------------------------------------------------\u001b[0m",
      "\u001b[1;31mTypeError\u001b[0m                                 Traceback (most recent call last)",
      "\u001b[1;32m<ipython-input-2-3817c847ecd5>\u001b[0m in \u001b[0;36m<module>\u001b[1;34m()\u001b[0m\n\u001b[0;32m      3\u001b[0m \u001b[0mend_date\u001b[0m\u001b[1;33m=\u001b[0m\u001b[1;34m'2016-11-1'\u001b[0m\u001b[1;33m\u001b[0m\u001b[0m\n\u001b[0;32m      4\u001b[0m \u001b[0mfreq\u001b[0m\u001b[1;33m=\u001b[0m\u001b[1;34m'd'\u001b[0m\u001b[1;33m\u001b[0m\u001b[0m\n\u001b[1;32m----> 5\u001b[1;33m \u001b[0mconstructYFURL\u001b[0m\u001b[1;33m(\u001b[0m\u001b[0mticker\u001b[0m\u001b[1;33m,\u001b[0m\u001b[0mstart_date\u001b[0m\u001b[1;33m,\u001b[0m\u001b[0mend_date\u001b[0m\u001b[1;33m,\u001b[0m\u001b[0mfreq\u001b[0m\u001b[1;33m)\u001b[0m\u001b[1;33m\u001b[0m\u001b[0m\n\u001b[0m",
      "\u001b[1;32m<ipython-input-1-9bdeec828c71>\u001b[0m in \u001b[0;36mconstructYFURL\u001b[1;34m(ticker, start_date, end_date, freq)\u001b[0m\n\u001b[0;32m     20\u001b[0m     \u001b[1;31m#d=daily, w=weekly\u001b[0m\u001b[1;33m\u001b[0m\u001b[1;33m\u001b[0m\u001b[0m\n\u001b[0;32m     21\u001b[0m \u001b[1;33m\u001b[0m\u001b[0m\n\u001b[1;32m---> 22\u001b[1;33m     \u001b[0myfURL\u001b[0m\u001b[1;33m=\u001b[0m\u001b[1;34m'http://chart.finance.yahoo.com/table.csv?s='\u001b[0m\u001b[1;33m+\u001b[0m\u001b[0ms\u001b[0m\u001b[1;33m+\u001b[0m\u001b[1;34m'&a='\u001b[0m\u001b[1;33m+\u001b[0m\u001b[0ma\u001b[0m\u001b[1;33m+\u001b[0m\u001b[1;34m'&b='\u001b[0m\u001b[1;33m+\u001b[0m\u001b[0mb\u001b[0m\u001b[1;33m+\u001b[0m\u001b[1;34m'&c='\u001b[0m\u001b[1;33m+\u001b[0m\u001b[0mc\u001b[0m\u001b[1;33m+\u001b[0m\u001b[1;34m'&d='\u001b[0m\u001b[1;33m+\u001b[0m\u001b[0md\u001b[0m\u001b[1;33m+\u001b[0m\u001b[1;34m'&e='\u001b[0m\u001b[1;33m+\u001b[0m\u001b[0me\u001b[0m\u001b[1;33m+\u001b[0m\u001b[1;34m'&f='\u001b[0m\u001b[1;33m+\u001b[0m\u001b[0mf\u001b[0m\u001b[1;33m+\u001b[0m\u001b[1;34m'&g='\u001b[0m\u001b[1;33m+\u001b[0m\u001b[0mg\u001b[0m\u001b[1;33m+\u001b[0m\u001b[1;34m'&ignore=.csv'\u001b[0m\u001b[1;33m\u001b[0m\u001b[0m\n\u001b[0m\u001b[0;32m     23\u001b[0m     \u001b[1;32mreturn\u001b[0m \u001b[0myfURL\u001b[0m\u001b[1;33m\u001b[0m\u001b[0m\n",
      "\u001b[1;31mTypeError\u001b[0m: Can't convert 'int' object to str implicitly"
     ]
    }
   ],
   "source": [
    "ticker='^GSPC'\n",
    "start_date='2015-1-1'\n",
    "end_date='2016-11-1'\n",
    "freq='d'\n",
    "constructYFURL(ticker,start_date,end_date,freq)"
   ]
  },
  {
   "cell_type": "code",
   "execution_count": null,
   "metadata": {
    "collapsed": true
   },
   "outputs": [],
   "source": []
  }
 ],
 "metadata": {
  "kernelspec": {
   "display_name": "Python 3",
   "language": "python",
   "name": "python3"
  },
  "language_info": {
   "codemirror_mode": {
    "name": "ipython",
    "version": 3
   },
   "file_extension": ".py",
   "mimetype": "text/x-python",
   "name": "python",
   "nbconvert_exporter": "python",
   "pygments_lexer": "ipython3",
   "version": "3.5.1"
  }
 },
 "nbformat": 4,
 "nbformat_minor": 0
}
