{
 "cells": [
  {
   "cell_type": "code",
   "execution_count": 132,
   "metadata": {
    "collapsed": false
   },
   "outputs": [
    {
     "name": "stdout",
     "output_type": "stream",
     "text": [
      "[{'account_number': 31480, 'user_id': 1205, 'first_name': 'Doris', 'email': 'dharvey0@163.com', 'last_name': 'Harvey', 'gender': 'Female', 'date_of_entry': '2016/06/14'}, {'account_number': 45300, 'user_id': 3581, 'first_name': 'Ralph', 'email': 'rprice1@netscape.com', 'last_name': 'Price', 'gender': 'Male', 'date_of_entry': '2016/04/29'}, {'account_number': 96839, 'user_id': 8480, 'first_name': 'Ronald', 'email': 'rmorris2@imgur.com', 'last_name': 'Morris', 'gender': 'Male', 'date_of_entry': '2016/06/04'}, {'account_number': 99468, 'user_id': 4152, 'first_name': 'Norma', 'email': 'njenkins3@trellian.com', 'last_name': 'Jenkins', 'gender': 'Female', 'date_of_entry': '2015/12/23'}, {'account_number': 98595, 'user_id': 6148, 'first_name': 'Larry', 'email': 'lfernandezj@guardian.co.uk', 'last_name': 'Fernandez', 'gender': 'Male', 'date_of_entry': '2015/10/11'}]\n"
     ]
    }
   ],
   "source": [
    "import pandas as pd\n",
    "import numpy as np\n",
    "import json\n",
    "import psycopg2\n",
    "import sys\n",
    "\n",
    "with open('test.json') as fh:\n",
    "    file=json.load(fh)\n",
    "\n",
    "df = pd.DataFrame(file)\n",
    "\n",
    "conn_string = \"host='localhost' dbname='postgres' user='postgres' password='whh001'\"\n",
    "\n",
    "# get a connection, if a connect cannot be made an exception will be raised here\n",
    "conn = psycopg2.connect(conn_string)\n",
    " \n",
    "# conn.cursor will return a cursor object, you can use this cursor to perform queries\n",
    "cursor = conn.cursor()\n",
    "\n",
    "for index, item in df.iterrows():\n",
    "    account_number= item[0]\n",
    "    date_of_entry = item[1]\n",
    "    email=item[2]\n",
    "    first_name = item[3]\n",
    "    gender = item[4]\n",
    "    last_name = item[5]\n",
    "    user_id = item[6]\n",
    "\n",
    "    query = \"INSERT INTO dataeng_test (user_id, date_of_entry, email, first_name,gender,last_name,account_number)  VALUES (%s, %s, %s, %s, %s, %s, %s);\"\n",
    "    data = (account_number, date_of_entry, email, first_name,gender,last_name,user_id)\n",
    "    \n",
    "    cursor.execute(query,data)\n",
    "conn.commit()"
   ]
  },
  {
   "cell_type": "code",
   "execution_count": 144,
   "metadata": {
    "collapsed": false
   },
   "outputs": [
    {
     "data": {
      "text/plain": [
       "5"
      ]
     },
     "execution_count": 144,
     "metadata": {},
     "output_type": "execute_result"
    }
   ],
   "source": [
    "len(file)"
   ]
  },
  {
   "cell_type": "code",
   "execution_count": 2,
   "metadata": {
    "collapsed": false
   },
   "outputs": [],
   "source": [
    "import json\n",
    "import psycopg2\n",
    "import sys\n",
    "\n",
    "with open('test.json') as fh:\n",
    "    file=json.load(fh)\n",
    "\n",
    "conn_string = \"host='localhost' dbname='postgres' user='postgres' password='whh001'\"\n",
    "conn = psycopg2.connect(conn_string)\n",
    "cursor = conn.cursor()\n",
    "\n",
    "for i in range(0,len(file)):\n",
    "    account_number= file[i]['account_number']\n",
    "    date_of_entry = file[i]['date_of_entry']\n",
    "    email=file[i]['email']\n",
    "    first_name = file[i]['first_name']\n",
    "    gender = file[i]['gender']\n",
    "    last_name = file[i]['last_name']\n",
    "    user_id = file[i]['user_id']\n",
    "    \n",
    "    query = \"INSERT INTO dataeng_test (user_id, date_of_entry, email, first_name,gender,last_name,account_number)  VALUES (%s, %s, %s, %s, %s, %s, %s);\"\n",
    "    data = (account_number, date_of_entry, email, first_name,gender,last_name,user_id)\n",
    "    \n",
    "    cursor.execute(query,data)\n",
    "conn.commit()\n",
    "    "
   ]
  },
  {
   "cell_type": "code",
   "execution_count": 170,
   "metadata": {
    "collapsed": false
   },
   "outputs": [
    {
     "name": "stdout",
     "output_type": "stream",
     "text": [
      "1-2-3\n"
     ]
    }
   ],
   "source": [
    "my_list = ['1','2','3']\n",
    "print (\"-\".join(my_list))"
   ]
  },
  {
   "cell_type": "code",
   "execution_count": 206,
   "metadata": {
    "collapsed": false
   },
   "outputs": [],
   "source": []
  },
  {
   "cell_type": "code",
   "execution_count": 207,
   "metadata": {
    "collapsed": false
   },
   "outputs": [
    {
     "data": {
      "text/plain": [
       "('account_number',\n",
       " 'user_id',\n",
       " 'first_name',\n",
       " 'email',\n",
       " 'last_name',\n",
       " 'gender',\n",
       " 'date_of_entry')"
      ]
     },
     "execution_count": 207,
     "metadata": {},
     "output_type": "execute_result"
    }
   ],
   "source": [
    "table_columns(file)"
   ]
  },
  {
   "cell_type": "code",
   "execution_count": 180,
   "metadata": {
    "collapsed": false
   },
   "outputs": [
    {
     "ename": "TypeError",
     "evalue": "'method' object is not subscriptable",
     "output_type": "error",
     "traceback": [
      "\u001b[1;31m---------------------------------------------------------------------------\u001b[0m",
      "\u001b[1;31mTypeError\u001b[0m                                 Traceback (most recent call last)",
      "\u001b[1;32m<ipython-input-180-a134f934c679>\u001b[0m in \u001b[0;36m<module>\u001b[1;34m()\u001b[0m\n\u001b[1;32m----> 1\u001b[1;33m \u001b[0ml_tuple\u001b[0m \u001b[1;33m=\u001b[0m \u001b[1;34m','\u001b[0m\u001b[1;33m.\u001b[0m\u001b[0mjoin\u001b[0m\u001b[1;33m(\u001b[0m\u001b[1;33m[\u001b[0m\u001b[0mi\u001b[0m \u001b[1;32mfor\u001b[0m \u001b[0mi\u001b[0m \u001b[1;32min\u001b[0m \u001b[0minput\u001b[0m\u001b[1;33m[\u001b[0m\u001b[1;36m0\u001b[0m\u001b[1;33m]\u001b[0m\u001b[1;33m]\u001b[0m\u001b[1;33m)\u001b[0m\u001b[1;33m\u001b[0m\u001b[0m\n\u001b[0m",
      "\u001b[1;31mTypeError\u001b[0m: 'method' object is not subscriptable"
     ]
    }
   ],
   "source": [
    "l_tuple = ','.join([i for i in input[0]])"
   ]
  },
  {
   "cell_type": "code",
   "execution_count": 139,
   "metadata": {
    "collapsed": false
   },
   "outputs": [
    {
     "data": {
      "text/plain": [
       "[(31480,\n",
       "  'Doris',\n",
       "  'last_name',\n",
       "  'dharvey0@163.com',\n",
       "  'Female',\n",
       "  datetime.date(2016, 6, 14),\n",
       "  1205),\n",
       " (31480,\n",
       "  'Doris',\n",
       "  'last_name',\n",
       "  'dharvey0@163.com',\n",
       "  'Female',\n",
       "  datetime.date(2016, 6, 14),\n",
       "  1205),\n",
       " (31480,\n",
       "  'Doris',\n",
       "  'last_name',\n",
       "  'dharvey0@163.com',\n",
       "  'Female',\n",
       "  datetime.date(2016, 6, 14),\n",
       "  1205)]"
      ]
     },
     "execution_count": 139,
     "metadata": {},
     "output_type": "execute_result"
    }
   ],
   "source": [
    "cursor.execute(\"select * from dataeng_test;\")\n",
    "cursor.fetchall()"
   ]
  },
  {
   "cell_type": "code",
   "execution_count": 72,
   "metadata": {
    "collapsed": false
   },
   "outputs": [
    {
     "name": "stdout",
     "output_type": "stream",
     "text": [
      "31480 2016/06/14 dharvey0@163.com Doris Female Harvey\n",
      "45300 2016/04/29 rprice1@netscape.com Ralph Male Price\n",
      "96839 2016/06/04 rmorris2@imgur.com Ronald Male Morris\n",
      "99468 2015/12/23 njenkins3@trellian.com Norma Female Jenkins\n",
      "98595 2015/10/11 lfernandezj@guardian.co.uk Larry Male Fernandez\n"
     ]
    }
   ],
   "source": [
    "for index,row in df.iterrows():\n",
    "   print( row[0],row[1],row[2],row[3],row[4],row[5])"
   ]
  },
  {
   "cell_type": "code",
   "execution_count": null,
   "metadata": {
    "collapsed": true
   },
   "outputs": [],
   "source": [
    "import json\n",
    "import psycopg2\n",
    "import sys\n",
    "\n",
    "with open('test.json') as fh:\n",
    "    file=json.load(fh)\n",
    "\n",
    "conn_string = \"host='localhost' dbname='postgres' user='postgres' password='whh001'\"\n",
    "conn = psycopg2.connect(conn_string)\n",
    "cursor = conn.cursor()\n",
    "\n",
    "for i in range(0,len(file)):\n",
    "    account_number= file[i]['account_number']\n",
    "    date_of_entry = file[i]['date_of_entry']\n",
    "    email=file[i]['email']\n",
    "    first_name = file[i]['first_name']\n",
    "    gender = file[i]['gender']\n",
    "    last_name = file[i]['last_name']\n",
    "    user_id = file[i]['user_id']\n",
    "    \n",
    "    query = \"INSERT INTO dataeng_test (user_id, date_of_entry, email, first_name,gender,last_name,account_number)  VALUES (%s, %s, %s, %s, %s, %s, %s);\"\n",
    "    data = (account_number, date_of_entry, email, first_name,gender,last_name,user_id)\n",
    "    \n",
    "    cursor.execute(query,data)\n",
    "conn.commit()\n",
    "class open_json(json):\n",
    "    def read_json(self,filename):\n",
    "        with open(filename) as fh:\n",
    "            file = self.load(fh)\n",
    "\n",
    "class \n",
    "        "
   ]
  }
 ],
 "metadata": {
  "kernelspec": {
   "display_name": "Python 3",
   "language": "python",
   "name": "python3"
  },
  "language_info": {
   "codemirror_mode": {
    "name": "ipython",
    "version": 3
   },
   "file_extension": ".py",
   "mimetype": "text/x-python",
   "name": "python",
   "nbconvert_exporter": "python",
   "pygments_lexer": "ipython3",
   "version": "3.5.1"
  }
 },
 "nbformat": 4,
 "nbformat_minor": 0
}
