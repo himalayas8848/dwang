{
 "cells": [
  {
   "cell_type": "code",
   "execution_count": 375,
   "metadata": {
    "collapsed": false
   },
   "outputs": [],
   "source": [
    "import numpy as np\n",
    "import pandas as pd\n",
    "import seaborn as sns\n",
    "from scipy import stats\n",
    "from datetime import datetime\n",
    "import math\n",
    "\n",
    "%matplotlib inline"
   ]
  },
  {
   "cell_type": "code",
   "execution_count": 429,
   "metadata": {
    "collapsed": false
   },
   "outputs": [
    {
     "name": "stdout",
     "output_type": "stream",
     "text": [
      "(30471, 391)\n",
      "(30471, 292)\n",
      "(2484, 100)\n",
      "(7662, 291)\n",
      "7662\n",
      "(7662, 390)\n"
     ]
    }
   ],
   "source": [
    "data1 = pd.read_csv('train/train.csv',parse_dates=['timestamp'])\n",
    "macro=pd.read_csv('macro.csv',parse_dates=['timestamp'])\n",
    "test =pd.read_csv('test/test.csv',parse_dates=['timestamp'])\n",
    "test_size = test.shape[0]\n",
    "# merge two dataset into one\n",
    "\n",
    "datatemp = pd.merge(data1, macro,how='left',on='timestamp',sort=True)\n",
    "testtemp = pd.merge(test, macro,how='left',on='timestamp',sort=True)\n",
    "#datatemp.dropna(subset=['id'],inplace=True)\n",
    "print(datatemp.shape)\n",
    "print(data1.shape)\n",
    "print(macro.shape)\n",
    "print(test.shape)\n",
    "print(test_size)\n",
    "print(testtemp.shape)"
   ]
  },
  {
   "cell_type": "code",
   "execution_count": null,
   "metadata": {
    "collapsed": false
   },
   "outputs": [],
   "source": []
  },
  {
   "cell_type": "code",
   "execution_count": 377,
   "metadata": {
    "collapsed": false
   },
   "outputs": [
    {
     "data": {
      "text/html": [
       "<div>\n",
       "<style>\n",
       "    .dataframe thead tr:only-child th {\n",
       "        text-align: right;\n",
       "    }\n",
       "\n",
       "    .dataframe thead th {\n",
       "        text-align: left;\n",
       "    }\n",
       "\n",
       "    .dataframe tbody tr th {\n",
       "        vertical-align: top;\n",
       "    }\n",
       "</style>\n",
       "<table border=\"1\" class=\"dataframe\">\n",
       "  <thead>\n",
       "    <tr style=\"text-align: right;\">\n",
       "      <th></th>\n",
       "      <th>DataType</th>\n",
       "      <th>Counts</th>\n",
       "    </tr>\n",
       "  </thead>\n",
       "  <tbody>\n",
       "    <tr>\n",
       "      <th>0</th>\n",
       "      <td>float64</td>\n",
       "      <td>213</td>\n",
       "    </tr>\n",
       "    <tr>\n",
       "      <th>1</th>\n",
       "      <td>int64</td>\n",
       "      <td>159</td>\n",
       "    </tr>\n",
       "    <tr>\n",
       "      <th>2</th>\n",
       "      <td>object</td>\n",
       "      <td>18</td>\n",
       "    </tr>\n",
       "    <tr>\n",
       "      <th>3</th>\n",
       "      <td>datetime64[ns]</td>\n",
       "      <td>1</td>\n",
       "    </tr>\n",
       "  </tbody>\n",
       "</table>\n",
       "</div>"
      ],
      "text/plain": [
       "         DataType  Counts\n",
       "0         float64     213\n",
       "1           int64     159\n",
       "2          object      18\n",
       "3  datetime64[ns]       1"
      ]
     },
     "execution_count": 377,
     "metadata": {},
     "output_type": "execute_result"
    }
   ],
   "source": [
    "pd.DataFrame(datatemp.dtypes.value_counts()).reset_index().rename(columns={'index':'DataType',0:'Counts'})"
   ]
  },
  {
   "cell_type": "code",
   "execution_count": 378,
   "metadata": {
    "collapsed": true
   },
   "outputs": [],
   "source": [
    "class find_info(object):\n",
    "    def __init__(self,df):\n",
    "        \"\"\"\n",
    "        Please give the parameters: df is the data frame and id is the unique column.\n",
    "        \"\"\"\n",
    "        self.df = df\n",
    "    \n",
    "    def func_desc(self,id):\n",
    "        \n",
    "        meanvar=np.round(self.df.mean(),1)\n",
    "        minvar=self.df.min()\n",
    "        maxvar=self.df.max()\n",
    "        stdvar=np.round(self.df.std(),1)\n",
    "        countvar=self.df.count()\n",
    "        totalvar=self.df.id.count()\n",
    "        missing_pct=np.round(100*(totalvar-countvar)/totalvar,1)\n",
    "        statistics=pd.concat([meanvar, minvar, maxvar, stdvar, countvar,missing_pct], axis=1) \n",
    "        stat_df = pd.DataFrame(statistics).reset_index()\n",
    "        orname=list(stat_df.columns.values)\n",
    "        stat_df.rename(columns={orname[0]: 'variable', orname[1]: 'mean', \n",
    "                    orname[2]: 'min', orname[3]: 'max',\n",
    "                    orname[4]: 'std',orname[5]: 'non_missing',\n",
    "                    orname[6]: 'missing_pct'},                  \n",
    "                    inplace = True)\n",
    "        stat_df.sort_values(by='missing_pct',ascending=True,inplace=True)\n",
    "        return stat_df\n",
    "\n",
    "    def find_conlumns_by_type(self,type):\n",
    "        objtype = type\n",
    "        objdf = self.df.select_dtypes(include=objtype)\n",
    "        return objdf"
   ]
  },
  {
   "cell_type": "code",
   "execution_count": null,
   "metadata": {
    "collapsed": true
   },
   "outputs": [],
   "source": []
  },
  {
   "cell_type": "code",
   "execution_count": 379,
   "metadata": {
    "collapsed": false
   },
   "outputs": [
    {
     "data": {
      "text/html": [
       "<div>\n",
       "<style>\n",
       "    .dataframe thead tr:only-child th {\n",
       "        text-align: right;\n",
       "    }\n",
       "\n",
       "    .dataframe thead th {\n",
       "        text-align: left;\n",
       "    }\n",
       "\n",
       "    .dataframe tbody tr th {\n",
       "        vertical-align: top;\n",
       "    }\n",
       "</style>\n",
       "<table border=\"1\" class=\"dataframe\">\n",
       "  <thead>\n",
       "    <tr style=\"text-align: right;\">\n",
       "      <th></th>\n",
       "      <th>variable</th>\n",
       "      <th>mean</th>\n",
       "      <th>min</th>\n",
       "      <th>max</th>\n",
       "      <th>std</th>\n",
       "      <th>non_missing</th>\n",
       "      <th>missing_pct</th>\n",
       "    </tr>\n",
       "  </thead>\n",
       "  <tbody>\n",
       "    <tr>\n",
       "      <th>0</th>\n",
       "      <td>0_13_all</td>\n",
       "      <td>9841.1</td>\n",
       "      <td>322</td>\n",
       "      <td>36035</td>\n",
       "      <td>7290.0</td>\n",
       "      <td>30471</td>\n",
       "      <td>0.0</td>\n",
       "    </tr>\n",
       "    <tr>\n",
       "      <th>178</th>\n",
       "      <td>market_count_500</td>\n",
       "      <td>0.1</td>\n",
       "      <td>0</td>\n",
       "      <td>4</td>\n",
       "      <td>0.4</td>\n",
       "      <td>30471</td>\n",
       "      <td>0.0</td>\n",
       "    </tr>\n",
       "    <tr>\n",
       "      <th>179</th>\n",
       "      <td>market_count_5000</td>\n",
       "      <td>6.0</td>\n",
       "      <td>0</td>\n",
       "      <td>21</td>\n",
       "      <td>4.9</td>\n",
       "      <td>30471</td>\n",
       "      <td>0.0</td>\n",
       "    </tr>\n",
       "    <tr>\n",
       "      <th>180</th>\n",
       "      <td>market_shop_km</td>\n",
       "      <td>4.0</td>\n",
       "      <td>0.00384715</td>\n",
       "      <td>41.1037</td>\n",
       "      <td>3.4</td>\n",
       "      <td>30471</td>\n",
       "      <td>0.0</td>\n",
       "    </tr>\n",
       "    <tr>\n",
       "      <th>183</th>\n",
       "      <td>metro_km_avto</td>\n",
       "      <td>3.7</td>\n",
       "      <td>0</td>\n",
       "      <td>74.9058</td>\n",
       "      <td>5.8</td>\n",
       "      <td>30471</td>\n",
       "      <td>0.0</td>\n",
       "    </tr>\n",
       "  </tbody>\n",
       "</table>\n",
       "</div>"
      ],
      "text/plain": [
       "              variable    mean         min      max     std  non_missing  \\\n",
       "0             0_13_all  9841.1         322    36035  7290.0        30471   \n",
       "178   market_count_500     0.1           0        4     0.4        30471   \n",
       "179  market_count_5000     6.0           0       21     4.9        30471   \n",
       "180     market_shop_km     4.0  0.00384715  41.1037     3.4        30471   \n",
       "183      metro_km_avto     3.7           0  74.9058     5.8        30471   \n",
       "\n",
       "     missing_pct  \n",
       "0            0.0  \n",
       "178          0.0  \n",
       "179          0.0  \n",
       "180          0.0  \n",
       "183          0.0  "
      ]
     },
     "execution_count": 379,
     "metadata": {},
     "output_type": "execute_result"
    }
   ],
   "source": [
    "# Using create function to look into datatemp\n",
    "\n",
    "find_information_temp = find_info(data1)\n",
    "\n",
    "des_temp = find_information_temp.func_desc('id')\n",
    "des_temp.head()"
   ]
  },
  {
   "cell_type": "code",
   "execution_count": 474,
   "metadata": {
    "collapsed": false
   },
   "outputs": [
    {
     "data": {
      "text/plain": [
       "<matplotlib.axes._subplots.AxesSubplot at 0x1a7846bc2b0>"
      ]
     },
     "execution_count": 474,
     "metadata": {},
     "output_type": "execute_result"
    },
    {
     "data": {
      "image/png": "[encoded data removed]",
      "text/plain": [
       "<matplotlib.figure.Figure at 0x1a79215e240>"
      ]
     },
     "metadata": {},
     "output_type": "display_data"
    }
   ],
   "source": [
    "sns.distplot(data1['price_doc'],bins=1000)"
   ]
  },
  {
   "cell_type": "code",
   "execution_count": 381,
   "metadata": {
    "collapsed": false
   },
   "outputs": [
    {
     "data": {
      "text/html": [
       "<div>\n",
       "<style>\n",
       "    .dataframe thead tr:only-child th {\n",
       "        text-align: right;\n",
       "    }\n",
       "\n",
       "    .dataframe thead th {\n",
       "        text-align: left;\n",
       "    }\n",
       "\n",
       "    .dataframe tbody tr th {\n",
       "        vertical-align: top;\n",
       "    }\n",
       "</style>\n",
       "<table border=\"1\" class=\"dataframe\">\n",
       "  <thead>\n",
       "    <tr style=\"text-align: right;\">\n",
       "      <th></th>\n",
       "      <th>price</th>\n",
       "      <th>year</th>\n",
       "    </tr>\n",
       "  </thead>\n",
       "  <tbody>\n",
       "    <tr>\n",
       "      <th>0</th>\n",
       "      <td>5850000</td>\n",
       "      <td>2011</td>\n",
       "    </tr>\n",
       "    <tr>\n",
       "      <th>1</th>\n",
       "      <td>6000000</td>\n",
       "      <td>2011</td>\n",
       "    </tr>\n",
       "    <tr>\n",
       "      <th>2</th>\n",
       "      <td>5700000</td>\n",
       "      <td>2011</td>\n",
       "    </tr>\n",
       "    <tr>\n",
       "      <th>3</th>\n",
       "      <td>13100000</td>\n",
       "      <td>2011</td>\n",
       "    </tr>\n",
       "    <tr>\n",
       "      <th>4</th>\n",
       "      <td>16331452</td>\n",
       "      <td>2011</td>\n",
       "    </tr>\n",
       "  </tbody>\n",
       "</table>\n",
       "</div>"
      ],
      "text/plain": [
       "      price  year\n",
       "0   5850000  2011\n",
       "1   6000000  2011\n",
       "2   5700000  2011\n",
       "3  13100000  2011\n",
       "4  16331452  2011"
      ]
     },
     "execution_count": 381,
     "metadata": {},
     "output_type": "execute_result"
    }
   ],
   "source": [
    "from datetime import datetime as dt\n",
    "\n",
    "data2=pd.DataFrame()\n",
    "data2['price'] = data1.price_doc\n",
    "data2['year'] = data1.timestamp.dt.year\n",
    "datatemp['year'] = data1.timestamp.dt.year\n",
    "data2.head()"
   ]
  },
  {
   "cell_type": "code",
   "execution_count": 382,
   "metadata": {
    "collapsed": false
   },
   "outputs": [
    {
     "data": {
      "text/plain": [
       "<matplotlib.axes._subplots.AxesSubplot at 0x1a7892b79e8>"
      ]
     },
     "execution_count": 382,
     "metadata": {},
     "output_type": "execute_result"
    },
    {
     "data": {
      "image/png": "[encoded data removed]",
      "text/plain": [
       "<matplotlib.figure.Figure at 0x1a7823fd860>"
      ]
     },
     "metadata": {},
     "output_type": "display_data"
    }
   ],
   "source": [
    "sns.boxplot(x=data2.year,y=data2.price,data=data2)"
   ]
  },
  {
   "cell_type": "code",
   "execution_count": 383,
   "metadata": {
    "collapsed": false
   },
   "outputs": [
    {
     "name": "stdout",
     "output_type": "stream",
     "text": [
      "Year 2011: 0.010624169986719787\n",
      "Year 2012: 0.010539367637941723\n",
      "Year 2013: 0.010779644021057909\n",
      "Year 2014: 0.00922266139657444\n",
      "Year 2015: 0.010805804260574252\n"
     ]
    }
   ],
   "source": [
    "total_cnts = datatemp[datatemp['year']==2011]['price_doc'].value_counts().sum()\n",
    "cnts = datatemp[(datatemp['year']==2011) & (datatemp['price_doc']>20000000)]['price_doc'].value_counts().sum()\n",
    "print(\"Year 2011: \" + str(cnts/total_cnts))\n",
    "\n",
    "total_cnts = datatemp[datatemp['year']==2012]['price_doc'].value_counts().sum()\n",
    "cnts = datatemp[(datatemp['year']==2012) & (datatemp['price_doc']>22000000)]['price_doc'].value_counts().sum()\n",
    "print(\"Year 2012: \" + str(cnts/total_cnts))\n",
    "\n",
    "total_cnts = datatemp[datatemp['year']==2013]['price_doc'].value_counts().sum()\n",
    "cnts = datatemp[(datatemp['year']==2013) & (datatemp['price_doc']>22000000)]['price_doc'].value_counts().sum()\n",
    "print(\"Year 2013: \" + str(cnts/total_cnts))\n",
    "\n",
    "total_cnts = datatemp[datatemp['year']==2014]['price_doc'].value_counts().sum()\n",
    "cnts = datatemp[(datatemp['year']==2014) & (datatemp['price_doc']>27000000)]['price_doc'].value_counts().sum()\n",
    "print(\"Year 2014: \" + str(cnts/total_cnts))\n",
    "\n",
    "total_cnts = datatemp[datatemp['year']==2015]['price_doc'].value_counts().sum()\n",
    "cnts = datatemp[(datatemp['year']==2015) & (datatemp['price_doc']>30000000)]['price_doc'].value_counts().sum()\n",
    "print(\"Year 2015: \" + str(cnts/total_cnts))"
   ]
  },
  {
   "cell_type": "code",
   "execution_count": 384,
   "metadata": {
    "collapsed": false
   },
   "outputs": [
    {
     "data": {
      "text/plain": [
       "(30469, 391)"
      ]
     },
     "execution_count": 384,
     "metadata": {},
     "output_type": "execute_result"
    }
   ],
   "source": [
    "#We will delete the price greater than 25000000 for now 9.8% of the datatemp\n",
    "for year in [2011,2012,2013,2014,2015]:\n",
    "    if 2011:\n",
    "        data=datatemp.drop(datatemp.price_doc>=20000000,axis=0)\n",
    "    if 2012:\n",
    "        data=datatemp.drop(datatemp.price_doc>=22000000,axis=0)\n",
    "    if 2013:\n",
    "        data=datatemp.drop(datatemp.price_doc>=22000000,axis=0)\n",
    "    if 2014:\n",
    "        data=datatemp.drop(datatemp.price_doc>=27000000,axis=0)\n",
    "    if 2015:\n",
    "        data=datatemp.drop(datatemp.price_doc>=30000000,axis=0)\n",
    "    else:\n",
    "        print(\"check data\")\n",
    "data.drop('year',axis=1,inplace=True)\n",
    "data.shape"
   ]
  },
  {
   "cell_type": "code",
   "execution_count": 385,
   "metadata": {
    "collapsed": false
   },
   "outputs": [
    {
     "name": "stdout",
     "output_type": "stream",
     "text": [
      "Column name product_type distinct values:\n",
      "Investment       19446\n",
      "OwnerOccupier    11023\n",
      "Name: product_type, dtype: int64\n",
      "Column name sub_area distinct values:\n",
      "Poselenie Sosenskoe               1776\n",
      "Nekrasovka                        1611\n",
      "Poselenie Vnukovskoe              1372\n",
      "Poselenie Moskovskij               925\n",
      "Poselenie Voskresenskoe            713\n",
      "Mitino                             679\n",
      "Tverskoe                           678\n",
      "Krjukovo                           518\n",
      "Mar'ino                            508\n",
      "Poselenie Filimonkovskoe           496\n",
      "Juzhnoe Butovo                     451\n",
      "Poselenie Shherbinka               443\n",
      "Solncevo                           421\n",
      "Zapadnoe Degunino                  410\n",
      "Poselenie Desjonovskoe             362\n",
      "Otradnoe                           353\n",
      "Nagatinskij Zaton                  326\n",
      "Nagornoe                           305\n",
      "Bogorodskoe                        305\n",
      "Strogino                           301\n",
      "Izmajlovo                          300\n",
      "Tekstil'shhiki                     298\n",
      "Ljublino                           297\n",
      "Gol'janovo                         295\n",
      "Severnoe Tushino                   282\n",
      "Chertanovo Juzhnoe                 273\n",
      "Birjulevo Vostochnoe               268\n",
      "Vyhino-Zhulebino                   264\n",
      "Horoshevo-Mnevniki                 262\n",
      "Zjuzino                            259\n",
      "                                  ... \n",
      "Ostankinskoe                        79\n",
      "Gagarinskoe                         79\n",
      "Nizhegorodskoe                      77\n",
      "Sokol                               72\n",
      "Altuf'evskoe                        68\n",
      "Rostokino                           64\n",
      "Kurkino                             62\n",
      "Begovoe                             60\n",
      "Sokol'niki                          60\n",
      "Metrogorodok                        58\n",
      "Dorogomilovo                        56\n",
      "Zamoskvorech'e                      50\n",
      "Kapotnja                            49\n",
      "Vnukovo                             44\n",
      "Severnoe                            37\n",
      "Krasnosel'skoe                      37\n",
      "Poselenie Rjazanovskoe              34\n",
      "Poselenie Rogovskoe                 31\n",
      "Poselenie Krasnopahorskoe           27\n",
      "Poselenie Kokoshkino                20\n",
      "Poselenie Mosrentgen                19\n",
      "Arbat                               15\n",
      "Vostochnoe                           7\n",
      "Poselenie Voronovskoe                7\n",
      "Poselenie Marushkinskoe              6\n",
      "Molzhaninovskoe                      3\n",
      "Poselenie Kievskij                   2\n",
      "Poselenie Shhapovskoe                2\n",
      "Poselenie Klenovskoe                 1\n",
      "Poselenie Mihajlovo-Jarcevskoe       1\n",
      "Name: sub_area, Length: 146, dtype: int64\n",
      "Column name culture_objects_top_25 distinct values:\n",
      "no     28542\n",
      "yes     1927\n",
      "Name: culture_objects_top_25, dtype: int64\n",
      "Column name thermal_power_plant_raion distinct values:\n",
      "no     28815\n",
      "yes     1654\n",
      "Name: thermal_power_plant_raion, dtype: int64\n",
      "Column name incineration_raion distinct values:\n",
      "no     28153\n",
      "yes     2316\n",
      "Name: incineration_raion, dtype: int64\n",
      "Column name oil_chemistry_raion distinct values:\n",
      "no     30173\n",
      "yes      296\n",
      "Name: oil_chemistry_raion, dtype: int64\n",
      "Column name radiation_raion distinct values:\n",
      "no     19598\n",
      "yes    10871\n",
      "Name: radiation_raion, dtype: int64\n",
      "Column name railroad_terminal_raion distinct values:\n",
      "no     29333\n",
      "yes     1136\n",
      "Name: railroad_terminal_raion, dtype: int64\n",
      "Column name big_market_raion distinct values:\n",
      "no     27647\n",
      "yes     2822\n",
      "Name: big_market_raion, dtype: int64\n",
      "Column name nuclear_reactor_raion distinct values:\n",
      "no     29606\n",
      "yes      863\n",
      "Name: nuclear_reactor_raion, dtype: int64\n",
      "Column name detention_facility_raion distinct values:\n",
      "no     27425\n",
      "yes     3044\n",
      "Name: detention_facility_raion, dtype: int64\n",
      "Column name water_1line distinct values:\n",
      "no     28132\n",
      "yes     2337\n",
      "Name: water_1line, dtype: int64\n",
      "Column name big_road1_1line distinct values:\n",
      "no     29688\n",
      "yes      781\n",
      "Name: big_road1_1line, dtype: int64\n",
      "Column name railroad_1line distinct values:\n",
      "no     29576\n",
      "yes      893\n",
      "Name: railroad_1line, dtype: int64\n",
      "Column name ecology distinct values:\n",
      "poor            8018\n",
      "no data         7656\n",
      "good            7173\n",
      "excellent       3937\n",
      "satisfactory    3685\n",
      "Name: ecology, dtype: int64\n",
      "Column name child_on_acc_pre_school distinct values:\n",
      "16,765    13662\n",
      "3,013      7978\n",
      "7,311      4839\n",
      "#!          751\n",
      "Name: child_on_acc_pre_school, dtype: int64\n",
      "Column name modern_education_share distinct values:\n",
      "93,08      13662\n",
      "90,92       7978\n",
      "95,4918     3239\n",
      "Name: modern_education_share, dtype: int64\n",
      "Column name old_education_build_share distinct values:\n",
      "25,47     13662\n",
      "23,14      7978\n",
      "8,2517     3239\n",
      "Name: old_education_build_share, dtype: int64\n"
     ]
    }
   ],
   "source": [
    "# Using distince value counts to find out stange value in data\n",
    "# Found old_education_build_share and modern_education_share has value of 8,12345\n",
    "# child_on_acc_pre_school has \"#!\"\n",
    "obj_name_list = data.select_dtypes(include=['object']).columns\n",
    "for distin in obj_name_list:\n",
    "    print(\"Column name \"+distin+\" distinct values:\")\n",
    "    print(data[distin].value_counts())"
   ]
  },
  {
   "cell_type": "code",
   "execution_count": 422,
   "metadata": {
    "collapsed": false
   },
   "outputs": [
    {
     "name": "stdout",
     "output_type": "stream",
     "text": [
      "Column name product_type distinct values:\n",
      "Investment       4998\n",
      "OwnerOccupier    2631\n",
      "Name: product_type, dtype: int64\n",
      "Column name sub_area distinct values:\n",
      "Poselenie Vnukovskoe              584\n",
      "Poselenie Sosenskoe               297\n",
      "Solncevo                          285\n",
      "Nagatinskij Zaton                 244\n",
      "Poselenie Moskovskij              229\n",
      "Tverskoe                          181\n",
      "Mitino                            173\n",
      "Poselenie Desjonovskoe            167\n",
      "Zapadnoe Degunino                 146\n",
      "Mar'ino                           125\n",
      "Juzhnoe Butovo                    118\n",
      "Nekrasovka                         99\n",
      "Poselenie Shherbinka               98\n",
      "Otradnoe                           97\n",
      "Poselenie Novofedorovskoe          95\n",
      "Sviblovo                           95\n",
      "Golovinskoe                        94\n",
      "Filevskij Park                     83\n",
      "Krjukovo                           82\n",
      "Danilovskoe                        79\n",
      "Chertanovo Juzhnoe                 77\n",
      "Nagornoe                           72\n",
      "Ljublino                           72\n",
      "Ochakovo-Matveevskoe               71\n",
      "Horoshevo-Mnevniki                 71\n",
      "Jasenevo                           70\n",
      "Gol'janovo                         70\n",
      "Vyhino-Zhulebino                   67\n",
      "Timirjazevskoe                     65\n",
      "Kuncevo                            65\n",
      "                                 ... \n",
      "Jaroslavskoe                       19\n",
      "Meshhanskoe                        19\n",
      "Zamoskvorech'e                     18\n",
      "Kurkino                            18\n",
      "Prospekt Vernadskogo               16\n",
      "Matushkino                         16\n",
      "Sokol'niki                         13\n",
      "Dorogomilovo                       13\n",
      "Staroe Krjukovo                    13\n",
      "Nizhegorodskoe                     12\n",
      "Silino                             12\n",
      "Altuf'evskoe                       12\n",
      "Begovoe                            10\n",
      "Kapotnja                           10\n",
      "Poselenie Rjazanovskoe              9\n",
      "Vnukovo                             8\n",
      "Metrogorodok                        8\n",
      "Arbat                               7\n",
      "Krasnosel'skoe                      7\n",
      "Vostochnoe                          5\n",
      "Poselenie Mosrentgen                4\n",
      "Poselenie Kokoshkino                3\n",
      "Poselenie Voronovskoe               2\n",
      "Poselenie Rogovskoe                 2\n",
      "Poselenie Shhapovskoe               2\n",
      "Poselenie Marushkinskoe             1\n",
      "Poselenie Krasnopahorskoe           1\n",
      "Molzhaninovskoe                     1\n",
      "Poselenie Kievskij                  1\n",
      "Poselenie Mihajlovo-Jarcevskoe      1\n",
      "Name: sub_area, Length: 145, dtype: int64\n",
      "Column name culture_objects_top_25 distinct values:\n",
      "no     6971\n",
      "yes     691\n",
      "Name: culture_objects_top_25, dtype: int64\n",
      "Column name thermal_power_plant_raion distinct values:\n",
      "no     7248\n",
      "yes     414\n",
      "Name: thermal_power_plant_raion, dtype: int64\n",
      "Column name incineration_raion distinct values:\n",
      "no     7396\n",
      "yes     266\n",
      "Name: incineration_raion, dtype: int64\n",
      "Column name oil_chemistry_raion distinct values:\n",
      "no     7597\n",
      "yes      65\n",
      "Name: oil_chemistry_raion, dtype: int64\n",
      "Column name radiation_raion distinct values:\n",
      "no     4864\n",
      "yes    2798\n",
      "Name: radiation_raion, dtype: int64\n",
      "Column name railroad_terminal_raion distinct values:\n",
      "no     7344\n",
      "yes     318\n",
      "Name: railroad_terminal_raion, dtype: int64\n",
      "Column name big_market_raion distinct values:\n",
      "no     7130\n",
      "yes     532\n",
      "Name: big_market_raion, dtype: int64\n",
      "Column name nuclear_reactor_raion distinct values:\n",
      "no     7413\n",
      "yes     249\n",
      "Name: nuclear_reactor_raion, dtype: int64\n",
      "Column name detention_facility_raion distinct values:\n",
      "no     6876\n",
      "yes     786\n",
      "Name: detention_facility_raion, dtype: int64\n",
      "Column name water_1line distinct values:\n",
      "no     7104\n",
      "yes     558\n",
      "Name: water_1line, dtype: int64\n",
      "Column name big_road1_1line distinct values:\n",
      "no     7339\n",
      "yes     323\n",
      "Name: big_road1_1line, dtype: int64\n",
      "Column name railroad_1line distinct values:\n",
      "no     7423\n",
      "yes     239\n",
      "Name: railroad_1line, dtype: int64\n",
      "Column name ecology distinct values:\n",
      "poor            2060\n",
      "no data         1765\n",
      "good            1611\n",
      "excellent       1226\n",
      "satisfactory    1000\n",
      "Name: ecology, dtype: int64\n",
      "Column name child_on_acc_pre_school distinct values:\n",
      "Series([], Name: child_on_acc_pre_school, dtype: int64)\n",
      "Column name modern_education_share distinct values:\n",
      "95,4918    3679\n",
      "Name: modern_education_share, dtype: int64\n",
      "Column name old_education_build_share distinct values:\n",
      "8,2517    3679\n",
      "Name: old_education_build_share, dtype: int64\n"
     ]
    }
   ],
   "source": [
    "obj_name_list = testtemp.select_dtypes(include=['object']).columns\n",
    "for distin in obj_name_list:\n",
    "    print(\"Column name \"+distin+\" distinct values:\")\n",
    "    print(testtemp[distin].value_counts())"
   ]
  },
  {
   "cell_type": "code",
   "execution_count": 386,
   "metadata": {
    "collapsed": false
   },
   "outputs": [
    {
     "name": "stdout",
     "output_type": "stream",
     "text": [
      "[82517, 82517, 82517, 82517, 82517, 82517, 82517, 82517, 82517, 82517]\n",
      "[954918, 954918, 954918, 954918, 954918, 954918, 954918, 954918, 954918, 954918]\n",
      "[nan, nan, nan, nan, nan, nan, nan, nan, nan, nan]\n"
     ]
    }
   ],
   "source": [
    "\n",
    "# Then come back to clean up this column\n",
    "import re\n",
    "from collections import Counter\n",
    "\n",
    "def clean_comma(line):\n",
    "    c=Counter(list(line))\n",
    "    if c[',']<=0:\n",
    "        pass\n",
    "    else:\n",
    "        line_num = int(re.sub(',','',line))\n",
    "        return line_num\n",
    "    \n",
    "columns2clean = ['old_education_build_share', 'modern_education_share','child_on_acc_pre_school']\n",
    "for col in columns2clean:\n",
    "    col_new = []\n",
    "    for item in data[col]:\n",
    "        if pd.isnull(item) or item.strip() == '#!':\n",
    "            col_new.append(np.nan)\n",
    "        else:\n",
    "            col_new.append(clean_comma(str(item)))\n",
    "    data[col] = col_new\n",
    "    print(col_new[-10:])"
   ]
  },
  {
   "cell_type": "code",
   "execution_count": 387,
   "metadata": {
    "collapsed": false
   },
   "outputs": [
    {
     "data": {
      "text/html": [
       "<div>\n",
       "<style>\n",
       "    .dataframe thead tr:only-child th {\n",
       "        text-align: right;\n",
       "    }\n",
       "\n",
       "    .dataframe thead th {\n",
       "        text-align: left;\n",
       "    }\n",
       "\n",
       "    .dataframe tbody tr th {\n",
       "        vertical-align: top;\n",
       "    }\n",
       "</style>\n",
       "<table border=\"1\" class=\"dataframe\">\n",
       "  <thead>\n",
       "    <tr style=\"text-align: right;\">\n",
       "      <th></th>\n",
       "      <th>variable</th>\n",
       "      <th>mean</th>\n",
       "      <th>min</th>\n",
       "      <th>max</th>\n",
       "      <th>std</th>\n",
       "      <th>non_missing</th>\n",
       "      <th>missing_pct</th>\n",
       "    </tr>\n",
       "  </thead>\n",
       "  <tbody>\n",
       "    <tr>\n",
       "      <th>0</th>\n",
       "      <td>0_13_all</td>\n",
       "      <td>9840.7</td>\n",
       "      <td>322</td>\n",
       "      <td>36035</td>\n",
       "      <td>7290.0</td>\n",
       "      <td>30469</td>\n",
       "      <td>0.0</td>\n",
       "    </tr>\n",
       "    <tr>\n",
       "      <th>253</th>\n",
       "      <td>net_capital_export</td>\n",
       "      <td>0.0</td>\n",
       "      <td>-0.277116</td>\n",
       "      <td>0.614395</td>\n",
       "      <td>0.2</td>\n",
       "      <td>30469</td>\n",
       "      <td>0.0</td>\n",
       "    </tr>\n",
       "    <tr>\n",
       "      <th>251</th>\n",
       "      <td>museum_km</td>\n",
       "      <td>7.1</td>\n",
       "      <td>0.00790269</td>\n",
       "      <td>59.2031</td>\n",
       "      <td>5.7</td>\n",
       "      <td>30469</td>\n",
       "      <td>0.0</td>\n",
       "    </tr>\n",
       "    <tr>\n",
       "      <th>250</th>\n",
       "      <td>mosque_km</td>\n",
       "      <td>7.7</td>\n",
       "      <td>0.00554452</td>\n",
       "      <td>44.8498</td>\n",
       "      <td>5.8</td>\n",
       "      <td>30469</td>\n",
       "      <td>0.0</td>\n",
       "    </tr>\n",
       "    <tr>\n",
       "      <th>249</th>\n",
       "      <td>mosque_count_5000</td>\n",
       "      <td>0.4</td>\n",
       "      <td>0</td>\n",
       "      <td>2</td>\n",
       "      <td>0.6</td>\n",
       "      <td>30469</td>\n",
       "      <td>0.0</td>\n",
       "    </tr>\n",
       "  </tbody>\n",
       "</table>\n",
       "</div>"
      ],
      "text/plain": [
       "               variable    mean         min       max     std  non_missing  \\\n",
       "0              0_13_all  9840.7         322     36035  7290.0        30469   \n",
       "253  net_capital_export     0.0   -0.277116  0.614395     0.2        30469   \n",
       "251           museum_km     7.1  0.00790269   59.2031     5.7        30469   \n",
       "250           mosque_km     7.7  0.00554452   44.8498     5.8        30469   \n",
       "249   mosque_count_5000     0.4           0         2     0.6        30469   \n",
       "\n",
       "     missing_pct  \n",
       "0            0.0  \n",
       "253          0.0  \n",
       "251          0.0  \n",
       "250          0.0  \n",
       "249          0.0  "
      ]
     },
     "execution_count": 387,
     "metadata": {},
     "output_type": "execute_result"
    }
   ],
   "source": [
    "# Using create function to look into datatemp\n",
    "\n",
    "find_information = find_info(data)\n",
    "\n",
    "des = find_information.func_desc('id')\n",
    "des.head()"
   ]
  },
  {
   "cell_type": "code",
   "execution_count": 388,
   "metadata": {
    "collapsed": false
   },
   "outputs": [],
   "source": [
    "from sklearn.preprocessing import LabelEncoder\n",
    "from sklearn.preprocessing import OneHotEncoder"
   ]
  },
  {
   "cell_type": "code",
   "execution_count": 389,
   "metadata": {
    "collapsed": false
   },
   "outputs": [
    {
     "name": "stdout",
     "output_type": "stream",
     "text": [
      "(38133, 392)\n",
      "0\n"
     ]
    }
   ],
   "source": [
    "combined = pd.concat([datatemp.drop('price_doc',axis=1),testtemp],axis=0).reset_index()\n",
    "print(combined.shape)\n",
    "print(sum(combined.index.value_counts()>1))"
   ]
  },
  {
   "cell_type": "code",
   "execution_count": 390,
   "metadata": {
    "collapsed": false
   },
   "outputs": [
    {
     "data": {
      "text/plain": [
       "array(['ID_railroad_station_walk', 'apartment_build', 'apartment_fund_sqm',\n",
       "       'average_life_exp', 'bandwidth_sports', 'baths_share',\n",
       "       'build_count_1921-1945', 'build_count_1946-1970',\n",
       "       'build_count_1971-1995', 'build_count_after_1995',\n",
       "       'build_count_before_1920', 'build_count_block', 'build_count_brick',\n",
       "       'build_count_foam', 'build_count_frame', 'build_count_mix',\n",
       "       'build_count_monolith', 'build_count_panel', 'build_count_slag',\n",
       "       'build_count_wood'], dtype=object)"
      ]
     },
     "execution_count": 390,
     "metadata": {},
     "output_type": "execute_result"
    }
   ],
   "source": [
    "num = combined.select_dtypes(include=['int16','int32','int64','float16','float32','float64'])\n",
    "obj = combined.select_dtypes(include=['object'])\n",
    "head = pd.DataFrame(pd.isnull(num).sum(),columns=['cnt'])\n",
    "missing = head[head.cnt>0].index.values\n",
    "missing[:20]"
   ]
  },
  {
   "cell_type": "code",
   "execution_count": 391,
   "metadata": {
    "collapsed": false
   },
   "outputs": [
    {
     "data": {
      "text/plain": [
       "(38133, 374)"
      ]
     },
     "execution_count": 391,
     "metadata": {},
     "output_type": "execute_result"
    }
   ],
   "source": [
    "combined.drop(obj.columns,axis=1,inplace=True)\n",
    "combined.shape"
   ]
  },
  {
   "cell_type": "code",
   "execution_count": 392,
   "metadata": {
    "collapsed": false
   },
   "outputs": [],
   "source": [
    "for name in missing:\n",
    "    combined[name+\"_missing\"] = pd.isnull(combined[name])+0\n",
    "    combined[name].fillna(combined[name].mean(),inplace=True)"
   ]
  },
  {
   "cell_type": "code",
   "execution_count": 475,
   "metadata": {
    "collapsed": false
   },
   "outputs": [
    {
     "name": "stderr",
     "output_type": "stream",
     "text": [
      "C:\\Users\\hotma\\Anaconda3\\lib\\site-packages\\pandas\\core\\frame.py:2852: SettingWithCopyWarning: \n",
      "A value is trying to be set on a copy of a slice from a DataFrame\n",
      "\n",
      "See the caveats in the documentation: http://pandas.pydata.org/pandas-docs/stable/indexing.html#indexing-view-versus-copy\n",
      "  downcast=downcast, **kwargs)\n"
     ]
    },
    {
     "data": {
      "text/plain": [
       "big_market_raion             0\n",
       "big_road1_1line              0\n",
       "child_on_acc_pre_school      0\n",
       "culture_objects_top_25       0\n",
       "detention_facility_raion     0\n",
       "ecology                      0\n",
       "incineration_raion           0\n",
       "modern_education_share       0\n",
       "nuclear_reactor_raion        0\n",
       "oil_chemistry_raion          0\n",
       "old_education_build_share    0\n",
       "product_type                 0\n",
       "radiation_raion              0\n",
       "railroad_1line               0\n",
       "railroad_terminal_raion      0\n",
       "sub_area                     0\n",
       "thermal_power_plant_raion    0\n",
       "water_1line                  0\n",
       "dtype: int64"
      ]
     },
     "execution_count": 475,
     "metadata": {},
     "output_type": "execute_result"
    }
   ],
   "source": [
    "obj.fillna(value='missing',inplace=True)\n",
    "pd.isnull(obj).sum()"
   ]
  },
  {
   "cell_type": "code",
   "execution_count": 394,
   "metadata": {
    "collapsed": false
   },
   "outputs": [],
   "source": [
    "le = LabelEncoder()\n",
    "obj_2 = le.fit_transform(np.array(obj)[:,0])\n",
    "\n",
    "for i in range(1, np.array(obj).shape[1]):\n",
    "        enc_label = LabelEncoder()\n",
    "        obj_2 = np.column_stack((obj_2, enc_label.fit_transform(np.array(obj)[:,i])))\n",
    "train_categorical_values = obj_2.astype(float)"
   ]
  },
  {
   "cell_type": "code",
   "execution_count": 395,
   "metadata": {
    "collapsed": false
   },
   "outputs": [],
   "source": [
    "enc_onehot = OneHotEncoder()\n",
    "train_cat_data = enc_onehot.fit_transform(train_categorical_values)"
   ]
  },
  {
   "cell_type": "code",
   "execution_count": 396,
   "metadata": {
    "collapsed": false
   },
   "outputs": [],
   "source": [
    "cols = [obj.columns[i] + '_' + str(j) for i in range(0,len(obj.columns)) for j in range(0,enc_onehot.n_values_[i]) ]\n",
    "train_cat_data_df = pd.DataFrame(train_cat_data.toarray(),columns=cols)"
   ]
  },
  {
   "cell_type": "code",
   "execution_count": 432,
   "metadata": {
    "collapsed": false
   },
   "outputs": [],
   "source": [
    "data_cleaned = pd.concat([combined, train_cat_data_df],axis=1)\n",
    "id_list=data_cleaned.id[-test_size:]"
   ]
  },
  {
   "cell_type": "code",
   "execution_count": null,
   "metadata": {
    "collapsed": false
   },
   "outputs": [],
   "source": []
  },
  {
   "cell_type": "code",
   "execution_count": 433,
   "metadata": {
    "collapsed": true
   },
   "outputs": [],
   "source": [
    "data_cleaned.drop(['index','id','timestamp'],axis=1,inplace=True)"
   ]
  },
  {
   "cell_type": "code",
   "execution_count": 461,
   "metadata": {
    "collapsed": false
   },
   "outputs": [],
   "source": [
    "train2model = data_cleaned[:-test_size]\n",
    "test2model = data_cleaned[-test_size:]"
   ]
  },
  {
   "cell_type": "code",
   "execution_count": 435,
   "metadata": {
    "collapsed": false
   },
   "outputs": [],
   "source": [
    "# Try log the price\n",
    "y = data1['price_doc']\n",
    "#y = [np.log(y) for y in data1['price_doc']]\n",
    "X = train2model"
   ]
  },
  {
   "cell_type": "code",
   "execution_count": 436,
   "metadata": {
    "collapsed": false
   },
   "outputs": [],
   "source": [
    "from sklearn.cross_validation import train_test_split\n",
    "from sklearn.feature_selection import SelectKBest\n",
    "from sklearn.feature_selection import chi2, f_classif"
   ]
  },
  {
   "cell_type": "code",
   "execution_count": 437,
   "metadata": {
    "collapsed": true
   },
   "outputs": [],
   "source": [
    "X_train,X_test, y_train, y_test = train_test_split(X, y, test_size=0.3, random_state=101)"
   ]
  },
  {
   "cell_type": "code",
   "execution_count": null,
   "metadata": {
    "collapsed": true
   },
   "outputs": [],
   "source": []
  },
  {
   "cell_type": "code",
   "execution_count": 438,
   "metadata": {
    "collapsed": true
   },
   "outputs": [],
   "source": [
    "def rmsle(preds, actual):\n",
    "    labels = list(actual)\n",
    "    preds = list(preds)\n",
    "    terms_to_sum = [(math.log(labels[i] + 1) - math.log(max(0, preds[i]) + 1)) ** 2.0 for i, pred in enumerate(labels)]\n",
    "    return 'rmsle', (sum(terms_to_sum) * (1.0 / len(preds))) ** 0.5"
   ]
  },
  {
   "cell_type": "code",
   "execution_count": 439,
   "metadata": {
    "collapsed": true
   },
   "outputs": [],
   "source": [
    "from sklearn.linear_model import LinearRegression\n",
    "from sklearn.metrics import roc_curve, auc, r2_score"
   ]
  },
  {
   "cell_type": "code",
   "execution_count": 440,
   "metadata": {
    "collapsed": false
   },
   "outputs": [],
   "source": [
    "linear_model = LinearRegression()\n",
    "linear = linear_model.fit(X_train, y_train)\n",
    "pred_train=linear.predict(X_train)\n",
    "pred_linear=linear.predict(X_test)"
   ]
  },
  {
   "cell_type": "code",
   "execution_count": 441,
   "metadata": {
    "collapsed": true
   },
   "outputs": [],
   "source": [
    "from sklearn.metrics import confusion_matrix\n",
    "from sklearn.metrics import mean_squared_error"
   ]
  },
  {
   "cell_type": "code",
   "execution_count": 442,
   "metadata": {
    "collapsed": false
   },
   "outputs": [
    {
     "name": "stdout",
     "output_type": "stream",
     "text": [
      "0.471028353274\n",
      "-2520.45702568\n"
     ]
    }
   ],
   "source": [
    "#fpr,tpr,thresholds=roc_curve(y_test, pred_linear,pos_label=2)\n",
    "#roc_auc = auc(fpr,tpr)\n",
    "#print(roc_auc)\n",
    "\n",
    "#print(math.sqrt(mean_squared_error(np.array(y_test),pred_linear)))\n",
    "print(linear.score(X_train, y_train))\n",
    "print(r2_score(y_test,pred_linear))"
   ]
  },
  {
   "cell_type": "code",
   "execution_count": 443,
   "metadata": {
    "collapsed": false
   },
   "outputs": [
    {
     "data": {
      "text/plain": [
       "('rmsle', 0.583391594071928)"
      ]
     },
     "execution_count": 443,
     "metadata": {},
     "output_type": "execute_result"
    }
   ],
   "source": [
    "rmsle(pred_linear, y_test)"
   ]
  },
  {
   "cell_type": "code",
   "execution_count": 444,
   "metadata": {
    "collapsed": false
   },
   "outputs": [],
   "source": [
    "import matplotlib.pyplot as plt\n",
    "%matplotlib inline\n"
   ]
  },
  {
   "cell_type": "code",
   "execution_count": 445,
   "metadata": {
    "collapsed": false
   },
   "outputs": [
    {
     "data": {
      "text/plain": [
       "<matplotlib.text.Text at 0x1a784e077f0>"
      ]
     },
     "execution_count": 445,
     "metadata": {},
     "output_type": "execute_result"
    },
    {
     "data": {
      "image/png": "[encoded data removed]",
      "text/plain": [
       "<matplotlib.figure.Figure at 0x1a7863d2b70>"
      ]
     },
     "metadata": {},
     "output_type": "display_data"
    }
   ],
   "source": [
    "# Residual plot\n",
    "train = plt.scatter(pred_train,(pred_train-y_train),c='r',alpha=0.5)\n",
    "test = plt.scatter(pred_linear,(pred_linear-y_test),c='b',alpha=0.5)\n",
    "plt.hlines(y=0,xmin=-10,xmax=10)\n",
    "plt.legend((train,test),('Training Resisual','Testing Resisual'),loc='lower left')\n",
    "plt.title('Residual Plot')"
   ]
  },
  {
   "cell_type": "code",
   "execution_count": 462,
   "metadata": {
    "collapsed": false
   },
   "outputs": [
    {
     "data": {
      "text/plain": [
       "array([  4815132.59008896,   8350475.95253766,   5766309.24836433, ...,\n",
       "         4355191.99207938,   5800062.76571023,  10084339.39388537])"
      ]
     },
     "execution_count": 462,
     "metadata": {},
     "output_type": "execute_result"
    }
   ],
   "source": [
    "# Price predicting\n",
    "result_lin = linear.predict(test2model)\n",
    "result_lin"
   ]
  },
  {
   "cell_type": "code",
   "execution_count": 447,
   "metadata": {
    "collapsed": true
   },
   "outputs": [],
   "source": [
    "from sklearn.ensemble import GradientBoostingRegressor"
   ]
  },
  {
   "cell_type": "code",
   "execution_count": 448,
   "metadata": {
    "collapsed": true
   },
   "outputs": [],
   "source": [
    "r=GradientBoostingRegressor(n_estimators=100, learning_rate=0.1,max_depth=5,loss='ls')"
   ]
  },
  {
   "cell_type": "code",
   "execution_count": 449,
   "metadata": {
    "collapsed": false
   },
   "outputs": [],
   "source": [
    "fit_gd = r.fit(X_train, y_train)\n",
    "pred_gd = fit_gd.predict(X_test)\n",
    "#print(math.sqrt(mean_squared_error(y_test,pred_gd)))\n",
    "#print(fit_gd.score())\n"
   ]
  },
  {
   "cell_type": "code",
   "execution_count": 450,
   "metadata": {
    "collapsed": false
   },
   "outputs": [
    {
     "name": "stdout",
     "output_type": "stream",
     "text": [
      "0.83590094617\n",
      "0.699298748828\n"
     ]
    }
   ],
   "source": [
    "print(fit_gd.score(X_train, y_train))\n",
    "print(r2_score(y_test,pred_gd))"
   ]
  },
  {
   "cell_type": "code",
   "execution_count": 451,
   "metadata": {
    "collapsed": false
   },
   "outputs": [],
   "source": [
    "pred_gd_train = fit_gd.predict(X_train)"
   ]
  },
  {
   "cell_type": "code",
   "execution_count": 452,
   "metadata": {
    "collapsed": false
   },
   "outputs": [
    {
     "data": {
      "text/plain": [
       "<matplotlib.text.Text at 0x1a784f3c828>"
      ]
     },
     "execution_count": 452,
     "metadata": {},
     "output_type": "execute_result"
    },
    {
     "data": {
      "image/png": "[encoded data removed]",
      "text/plain": [
       "<matplotlib.figure.Figure at 0x1a7801a4d30>"
      ]
     },
     "metadata": {},
     "output_type": "display_data"
    }
   ],
   "source": [
    "train = plt.scatter(pred_gd_train,(pred_gd_train-y_train),c='r',alpha=0.5)\n",
    "test = plt.scatter(pred_gd,(pred_gd-y_test),c='b',alpha=0.5)\n",
    "plt.hlines(y=0,xmin=-10,xmax=10)\n",
    "plt.legend((train,test),('Training Resisual','Testing Resisual'),loc='lower left')\n",
    "plt.title('Residual Plot for XG Boost')"
   ]
  },
  {
   "cell_type": "code",
   "execution_count": 495,
   "metadata": {
    "collapsed": false
   },
   "outputs": [],
   "source": [
    "# Price predicting\n",
    "result_gd = fit_gd.predict(test2model)\n",
    "result_gd_final = pd.DataFrame()\n",
    "result_gd_final['id'] = id_list\n",
    "result_gd_final['price_doc'] = result_gd\n",
    "result_gd_final.to_csv('price_results.csv',index=False)"
   ]
  },
  {
   "cell_type": "code",
   "execution_count": 485,
   "metadata": {
    "collapsed": false
   },
   "outputs": [],
   "source": [
    "test_merge = testtemp\n",
    "test_merge['predicted_price'] = result_gd\n",
    "test_merge.sort_values(by='timestamp',ascending=False)\n",
    "test_merge.set_index('timestamp',inplace=True)"
   ]
  },
  {
   "cell_type": "code",
   "execution_count": 488,
   "metadata": {
    "collapsed": false
   },
   "outputs": [
    {
     "data": {
      "text/plain": [
       "Index(['id', 'full_sq', 'life_sq', 'floor', 'max_floor', 'material',\n",
       "       'build_year', 'num_room', 'kitch_sq', 'state',\n",
       "       ...\n",
       "       'turnover_catering_per_cap', 'theaters_viewers_per_1000_cap',\n",
       "       'seats_theather_rfmin_per_100000_cap', 'museum_visitis_per_100_cap',\n",
       "       'bandwidth_sports', 'population_reg_sports_share',\n",
       "       'students_reg_sports_share', 'apartment_build', 'apartment_fund_sqm',\n",
       "       'predicted_price'],\n",
       "      dtype='object', length=390)"
      ]
     },
     "execution_count": 488,
     "metadata": {},
     "output_type": "execute_result"
    }
   ],
   "source": [
    "test_merge.columns"
   ]
  },
  {
   "cell_type": "code",
   "execution_count": 493,
   "metadata": {
    "collapsed": false
   },
   "outputs": [
    {
     "data": {
      "text/plain": [
       "[<matplotlib.lines.Line2D at 0x1a7919de5f8>]"
      ]
     },
     "execution_count": 493,
     "metadata": {},
     "output_type": "execute_result"
    },
    {
     "data": {
      "image/png": "[encoded data removed]",
      "text/plain": [
       "<matplotlib.figure.Figure at 0x1a7926a8160>"
      ]
     },
     "metadata": {},
     "output_type": "display_data"
    }
   ],
   "source": [
    "plt.figure(figsize=(15,7))\n",
    "plt.plot(test_merge['predicted_price'],)"
   ]
  },
  {
   "cell_type": "code",
   "execution_count": 464,
   "metadata": {
    "collapsed": true
   },
   "outputs": [],
   "source": [
    "from sklearn.ensemble import RandomForestRegressor"
   ]
  },
  {
   "cell_type": "code",
   "execution_count": 465,
   "metadata": {
    "collapsed": true
   },
   "outputs": [],
   "source": [
    "rf = RandomForestRegressor()"
   ]
  },
  {
   "cell_type": "code",
   "execution_count": 466,
   "metadata": {
    "collapsed": true
   },
   "outputs": [],
   "source": [
    "rf_model = rf.fit(X_train, y_train)"
   ]
  },
  {
   "cell_type": "code",
   "execution_count": 467,
   "metadata": {
    "collapsed": false
   },
   "outputs": [
    {
     "name": "stdout",
     "output_type": "stream",
     "text": [
      "2784200.9023111826\n"
     ]
    }
   ],
   "source": [
    "pred_rf_train = rf_model.predict(X_train)\n",
    "pred_rf_test = rf_model.predict(X_test)\n",
    "print(math.sqrt(mean_squared_error(pred_rf_test,y_test)))"
   ]
  },
  {
   "cell_type": "code",
   "execution_count": 468,
   "metadata": {
    "collapsed": false
   },
   "outputs": [
    {
     "name": "stdout",
     "output_type": "stream",
     "text": [
      "0.939292460905\n",
      "0.667821791205\n"
     ]
    }
   ],
   "source": [
    "print(rf_model.score(X_train, y_train))\n",
    "print(r2_score(y_test,pred_rf_test))"
   ]
  },
  {
   "cell_type": "code",
   "execution_count": 469,
   "metadata": {
    "collapsed": false
   },
   "outputs": [
    {
     "data": {
      "text/plain": [
       "<matplotlib.text.Text at 0x1a79215e908>"
      ]
     },
     "execution_count": 469,
     "metadata": {},
     "output_type": "execute_result"
    },
    {
     "data": {
      "image/png": "[encoded data removed]",
      "text/plain": [
       "<matplotlib.figure.Figure at 0x1a78b0a9dd8>"
      ]
     },
     "metadata": {},
     "output_type": "display_data"
    }
   ],
   "source": [
    "train = plt.scatter(pred_rf_train,(pred_rf_train-y_train),c='r',alpha=0.5)\n",
    "test = plt.scatter(pred_rf_test,(pred_rf_test-y_test),c='b',alpha=0.5)\n",
    "plt.hlines(y=0,xmin=-10,xmax=10)\n",
    "plt.legend((train,test),('Training Resisual','Testing Resisual'),loc='lower left')\n",
    "plt.title('Residual Plot for Random Forest')"
   ]
  },
  {
   "cell_type": "code",
   "execution_count": 470,
   "metadata": {
    "collapsed": false
   },
   "outputs": [
    {
     "data": {
      "text/plain": [
       "array([ 5977000. ,  8824837.4,  5590000. , ...,  4604685.7,  5155000. ,\n",
       "        7471449.3])"
      ]
     },
     "execution_count": 470,
     "metadata": {},
     "output_type": "execute_result"
    }
   ],
   "source": [
    "# Price predicting\n",
    "result_rf = rf_model.predict(test2model)\n",
    "result_rf"
   ]
  },
  {
   "cell_type": "code",
   "execution_count": 471,
   "metadata": {
    "collapsed": true
   },
   "outputs": [],
   "source": [
    "# Price predicting\n",
    "result_rf = rf_model.predict(test2model)\n",
    "\n",
    "result_rf_final = pd.DataFrame()\n",
    "result_rf_final['id'] = id_list\n",
    "result_rf_final['price'] = result_rf"
   ]
  },
  {
   "cell_type": "code",
   "execution_count": null,
   "metadata": {
    "collapsed": true
   },
   "outputs": [],
   "source": []
  }
 ],
 "metadata": {
  "kernelspec": {
   "display_name": "Python 3",
   "language": "python",
   "name": "python3"
  },
  "language_info": {
   "codemirror_mode": {
    "name": "ipython",
    "version": 3
   },
   "file_extension": ".py",
   "mimetype": "text/x-python",
   "name": "python",
   "nbconvert_exporter": "python",
   "pygments_lexer": "ipython3",
   "version": "3.5.1"
  }
 },
 "nbformat": 4,
 "nbformat_minor": 0
}
