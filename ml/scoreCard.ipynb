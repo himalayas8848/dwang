{
 "cells": [
  {
   "cell_type": "code",
   "execution_count": 1,
   "metadata": {
    "collapsed": false
   },
   "outputs": [
    {
     "data": {
      "text/html": [
       "<div>\n",
       "<table border=\"1\" class=\"dataframe\">\n",
       "  <thead>\n",
       "    <tr style=\"text-align: right;\">\n",
       "      <th></th>\n",
       "      <th>ID</th>\n",
       "      <th>SeriousDlqin2yrs</th>\n",
       "      <th>RevolvingUtilizationOfUnsecuredLines</th>\n",
       "      <th>age</th>\n",
       "      <th>NumberOfTime30-59DaysPastDueNotWorse</th>\n",
       "      <th>DebtRatio</th>\n",
       "      <th>MonthlyIncome</th>\n",
       "      <th>NumberOfOpenCreditLinesAndLoans</th>\n",
       "      <th>NumberOfTimes90DaysLate</th>\n",
       "      <th>NumberRealEstateLoansOrLines</th>\n",
       "      <th>NumberOfTime60-89DaysPastDueNotWorse</th>\n",
       "      <th>NumberOfDependents</th>\n",
       "    </tr>\n",
       "  </thead>\n",
       "  <tbody>\n",
       "    <tr>\n",
       "      <th>0</th>\n",
       "      <td>1</td>\n",
       "      <td>1</td>\n",
       "      <td>0.766127</td>\n",
       "      <td>45</td>\n",
       "      <td>2</td>\n",
       "      <td>0.802982</td>\n",
       "      <td>9120.0</td>\n",
       "      <td>13</td>\n",
       "      <td>0</td>\n",
       "      <td>6</td>\n",
       "      <td>0</td>\n",
       "      <td>2.0</td>\n",
       "    </tr>\n",
       "    <tr>\n",
       "      <th>1</th>\n",
       "      <td>2</td>\n",
       "      <td>0</td>\n",
       "      <td>0.957151</td>\n",
       "      <td>40</td>\n",
       "      <td>0</td>\n",
       "      <td>0.121876</td>\n",
       "      <td>2600.0</td>\n",
       "      <td>4</td>\n",
       "      <td>0</td>\n",
       "      <td>0</td>\n",
       "      <td>0</td>\n",
       "      <td>1.0</td>\n",
       "    </tr>\n",
       "    <tr>\n",
       "      <th>2</th>\n",
       "      <td>3</td>\n",
       "      <td>0</td>\n",
       "      <td>0.658180</td>\n",
       "      <td>38</td>\n",
       "      <td>1</td>\n",
       "      <td>0.085113</td>\n",
       "      <td>3042.0</td>\n",
       "      <td>2</td>\n",
       "      <td>1</td>\n",
       "      <td>0</td>\n",
       "      <td>0</td>\n",
       "      <td>0.0</td>\n",
       "    </tr>\n",
       "    <tr>\n",
       "      <th>3</th>\n",
       "      <td>4</td>\n",
       "      <td>0</td>\n",
       "      <td>0.233810</td>\n",
       "      <td>30</td>\n",
       "      <td>0</td>\n",
       "      <td>0.036050</td>\n",
       "      <td>3300.0</td>\n",
       "      <td>5</td>\n",
       "      <td>0</td>\n",
       "      <td>0</td>\n",
       "      <td>0</td>\n",
       "      <td>0.0</td>\n",
       "    </tr>\n",
       "    <tr>\n",
       "      <th>4</th>\n",
       "      <td>5</td>\n",
       "      <td>0</td>\n",
       "      <td>0.907239</td>\n",
       "      <td>49</td>\n",
       "      <td>1</td>\n",
       "      <td>0.024926</td>\n",
       "      <td>63588.0</td>\n",
       "      <td>7</td>\n",
       "      <td>0</td>\n",
       "      <td>1</td>\n",
       "      <td>0</td>\n",
       "      <td>0.0</td>\n",
       "    </tr>\n",
       "  </tbody>\n",
       "</table>\n",
       "</div>"
      ],
      "text/plain": [
       "   ID  SeriousDlqin2yrs  RevolvingUtilizationOfUnsecuredLines  age  \\\n",
       "0   1                 1                              0.766127   45   \n",
       "1   2                 0                              0.957151   40   \n",
       "2   3                 0                              0.658180   38   \n",
       "3   4                 0                              0.233810   30   \n",
       "4   5                 0                              0.907239   49   \n",
       "\n",
       "   NumberOfTime30-59DaysPastDueNotWorse  DebtRatio  MonthlyIncome  \\\n",
       "0                                     2   0.802982         9120.0   \n",
       "1                                     0   0.121876         2600.0   \n",
       "2                                     1   0.085113         3042.0   \n",
       "3                                     0   0.036050         3300.0   \n",
       "4                                     1   0.024926        63588.0   \n",
       "\n",
       "   NumberOfOpenCreditLinesAndLoans  NumberOfTimes90DaysLate  \\\n",
       "0                               13                        0   \n",
       "1                                4                        0   \n",
       "2                                2                        1   \n",
       "3                                5                        0   \n",
       "4                                7                        0   \n",
       "\n",
       "   NumberRealEstateLoansOrLines  NumberOfTime60-89DaysPastDueNotWorse  \\\n",
       "0                             6                                     0   \n",
       "1                             0                                     0   \n",
       "2                             0                                     0   \n",
       "3                             0                                     0   \n",
       "4                             1                                     0   \n",
       "\n",
       "   NumberOfDependents  \n",
       "0                 2.0  \n",
       "1                 1.0  \n",
       "2                 0.0  \n",
       "3                 0.0  \n",
       "4                 0.0  "
      ]
     },
     "execution_count": 1,
     "metadata": {},
     "output_type": "execute_result"
    }
   ],
   "source": [
    "import numpy as np\n",
    "import pandas as pd\n",
    "from sklearn import (metrics, cross_validation, linear_model, preprocessing)\n",
    "%matplotlib inline\n",
    "\n",
    "# read the CSV file\n",
    "path = r'D:\\hotma\\mchine_learning\\cs'\n",
    "\n",
    "path1 = path + r'\\cs-training.csv'\n",
    "\n",
    "scorecard=pd.read_csv(path1, na_values='NA')\n",
    "# obtain the summarized statistics and get several 'pandas.core.series.Series' object \n",
    "scorecard.head()"
   ]
  },
  {
   "cell_type": "code",
   "execution_count": 11,
   "metadata": {
    "collapsed": false
   },
   "outputs": [
    {
     "data": {
      "text/html": [
       "<div>\n",
       "<table border=\"1\" class=\"dataframe\">\n",
       "  <thead>\n",
       "    <tr style=\"text-align: right;\">\n",
       "      <th></th>\n",
       "      <th>variable</th>\n",
       "      <th>mean</th>\n",
       "      <th>min</th>\n",
       "      <th>max</th>\n",
       "      <th>std</th>\n",
       "      <th>non_missing</th>\n",
       "    </tr>\n",
       "  </thead>\n",
       "  <tbody>\n",
       "    <tr>\n",
       "      <th>0</th>\n",
       "      <td>ID</td>\n",
       "      <td>75000.5</td>\n",
       "      <td>1.0</td>\n",
       "      <td>150000.0</td>\n",
       "      <td>43301.4</td>\n",
       "      <td>150000</td>\n",
       "    </tr>\n",
       "    <tr>\n",
       "      <th>1</th>\n",
       "      <td>SeriousDlqin2yrs</td>\n",
       "      <td>0.1</td>\n",
       "      <td>0.0</td>\n",
       "      <td>1.0</td>\n",
       "      <td>0.2</td>\n",
       "      <td>150000</td>\n",
       "    </tr>\n",
       "    <tr>\n",
       "      <th>2</th>\n",
       "      <td>RevolvingUtilizationOfUnsecuredLines</td>\n",
       "      <td>6.0</td>\n",
       "      <td>0.0</td>\n",
       "      <td>50708.0</td>\n",
       "      <td>249.8</td>\n",
       "      <td>150000</td>\n",
       "    </tr>\n",
       "    <tr>\n",
       "      <th>3</th>\n",
       "      <td>age</td>\n",
       "      <td>52.3</td>\n",
       "      <td>0.0</td>\n",
       "      <td>109.0</td>\n",
       "      <td>14.8</td>\n",
       "      <td>150000</td>\n",
       "    </tr>\n",
       "    <tr>\n",
       "      <th>4</th>\n",
       "      <td>NumberOfTime30-59DaysPastDueNotWorse</td>\n",
       "      <td>0.4</td>\n",
       "      <td>0.0</td>\n",
       "      <td>98.0</td>\n",
       "      <td>4.2</td>\n",
       "      <td>150000</td>\n",
       "    </tr>\n",
       "  </tbody>\n",
       "</table>\n",
       "</div>"
      ],
      "text/plain": [
       "                               variable     mean  min       max      std  \\\n",
       "0                                    ID  75000.5  1.0  150000.0  43301.4   \n",
       "1                      SeriousDlqin2yrs      0.1  0.0       1.0      0.2   \n",
       "2  RevolvingUtilizationOfUnsecuredLines      6.0  0.0   50708.0    249.8   \n",
       "3                                   age     52.3  0.0     109.0     14.8   \n",
       "4  NumberOfTime30-59DaysPastDueNotWorse      0.4  0.0      98.0      4.2   \n",
       "\n",
       "   non_missing  \n",
       "0       150000  \n",
       "1       150000  \n",
       "2       150000  \n",
       "3       150000  \n",
       "4       150000  "
      ]
     },
     "execution_count": 11,
     "metadata": {},
     "output_type": "execute_result"
    }
   ],
   "source": [
    "\n",
    "countvar=scorecard.count()\n",
    "meanvar=np.round(scorecard.mean(),1)\n",
    "minvar=scorecard.min()\n",
    "maxvar=scorecard.max()\n",
    "stdvar=np.round(scorecard.std(),1)\n",
    "# merge above Series' objects into a data frame, so that it is easy to check and operate\n",
    "statistics=pd.concat([meanvar, minvar, maxvar, stdvar, countvar], axis=1)  \n",
    "# remove the index of the data frame\n",
    "DF=pd.DataFrame(statistics).reset_index()\n",
    "# return the name list of the data frame\n",
    "orname=list(DF.columns.values)\n",
    "# rename the data frame\n",
    "DF.rename(columns={orname[0]: 'variable', orname[1]: 'mean', \n",
    "                   orname[2]: 'min', orname[3]: 'max',\n",
    "                   orname[4]: 'std',orname[5]: 'non_missing'},                  \n",
    "                   inplace = True)\n",
    "DF.head()"
   ]
  },
  {
   "cell_type": "code",
   "execution_count": 12,
   "metadata": {
    "collapsed": false
   },
   "outputs": [
    {
     "data": {
      "text/html": [
       "<div>\n",
       "<table border=\"1\" class=\"dataframe\">\n",
       "  <thead>\n",
       "    <tr style=\"text-align: right;\">\n",
       "      <th></th>\n",
       "      <th>ID</th>\n",
       "      <th>SeriousDlqin2yrs</th>\n",
       "      <th>RevolvingUtilizationOfUnsecuredLines</th>\n",
       "      <th>age</th>\n",
       "      <th>NumberOfTime30-59DaysPastDueNotWorse</th>\n",
       "      <th>DebtRatio</th>\n",
       "      <th>MonthlyIncome</th>\n",
       "      <th>NumberOfOpenCreditLinesAndLoans</th>\n",
       "      <th>NumberOfTimes90DaysLate</th>\n",
       "      <th>NumberRealEstateLoansOrLines</th>\n",
       "      <th>NumberOfTime60-89DaysPastDueNotWorse</th>\n",
       "      <th>NumberOfDependents</th>\n",
       "      <th>MonthIncome_miss</th>\n",
       "      <th>NumDependents_miss</th>\n",
       "    </tr>\n",
       "  </thead>\n",
       "  <tbody>\n",
       "    <tr>\n",
       "      <th>0</th>\n",
       "      <td>1</td>\n",
       "      <td>1</td>\n",
       "      <td>0.766127</td>\n",
       "      <td>45</td>\n",
       "      <td>2</td>\n",
       "      <td>0.802982</td>\n",
       "      <td>9120.0</td>\n",
       "      <td>13</td>\n",
       "      <td>0</td>\n",
       "      <td>6</td>\n",
       "      <td>0</td>\n",
       "      <td>2.0</td>\n",
       "      <td>0</td>\n",
       "      <td>0</td>\n",
       "    </tr>\n",
       "    <tr>\n",
       "      <th>1</th>\n",
       "      <td>2</td>\n",
       "      <td>0</td>\n",
       "      <td>0.957151</td>\n",
       "      <td>40</td>\n",
       "      <td>0</td>\n",
       "      <td>0.121876</td>\n",
       "      <td>2600.0</td>\n",
       "      <td>4</td>\n",
       "      <td>0</td>\n",
       "      <td>0</td>\n",
       "      <td>0</td>\n",
       "      <td>1.0</td>\n",
       "      <td>0</td>\n",
       "      <td>0</td>\n",
       "    </tr>\n",
       "    <tr>\n",
       "      <th>2</th>\n",
       "      <td>3</td>\n",
       "      <td>0</td>\n",
       "      <td>0.658180</td>\n",
       "      <td>38</td>\n",
       "      <td>1</td>\n",
       "      <td>0.085113</td>\n",
       "      <td>3042.0</td>\n",
       "      <td>2</td>\n",
       "      <td>1</td>\n",
       "      <td>0</td>\n",
       "      <td>0</td>\n",
       "      <td>0.0</td>\n",
       "      <td>0</td>\n",
       "      <td>0</td>\n",
       "    </tr>\n",
       "    <tr>\n",
       "      <th>3</th>\n",
       "      <td>4</td>\n",
       "      <td>0</td>\n",
       "      <td>0.233810</td>\n",
       "      <td>30</td>\n",
       "      <td>0</td>\n",
       "      <td>0.036050</td>\n",
       "      <td>3300.0</td>\n",
       "      <td>5</td>\n",
       "      <td>0</td>\n",
       "      <td>0</td>\n",
       "      <td>0</td>\n",
       "      <td>0.0</td>\n",
       "      <td>0</td>\n",
       "      <td>0</td>\n",
       "    </tr>\n",
       "    <tr>\n",
       "      <th>4</th>\n",
       "      <td>5</td>\n",
       "      <td>0</td>\n",
       "      <td>0.907239</td>\n",
       "      <td>49</td>\n",
       "      <td>1</td>\n",
       "      <td>0.024926</td>\n",
       "      <td>63588.0</td>\n",
       "      <td>7</td>\n",
       "      <td>0</td>\n",
       "      <td>1</td>\n",
       "      <td>0</td>\n",
       "      <td>0.0</td>\n",
       "      <td>0</td>\n",
       "      <td>0</td>\n",
       "    </tr>\n",
       "  </tbody>\n",
       "</table>\n",
       "</div>"
      ],
      "text/plain": [
       "   ID  SeriousDlqin2yrs  RevolvingUtilizationOfUnsecuredLines  age  \\\n",
       "0   1                 1                              0.766127   45   \n",
       "1   2                 0                              0.957151   40   \n",
       "2   3                 0                              0.658180   38   \n",
       "3   4                 0                              0.233810   30   \n",
       "4   5                 0                              0.907239   49   \n",
       "\n",
       "   NumberOfTime30-59DaysPastDueNotWorse  DebtRatio  MonthlyIncome  \\\n",
       "0                                     2   0.802982         9120.0   \n",
       "1                                     0   0.121876         2600.0   \n",
       "2                                     1   0.085113         3042.0   \n",
       "3                                     0   0.036050         3300.0   \n",
       "4                                     1   0.024926        63588.0   \n",
       "\n",
       "   NumberOfOpenCreditLinesAndLoans  NumberOfTimes90DaysLate  \\\n",
       "0                               13                        0   \n",
       "1                                4                        0   \n",
       "2                                2                        1   \n",
       "3                                5                        0   \n",
       "4                                7                        0   \n",
       "\n",
       "   NumberRealEstateLoansOrLines  NumberOfTime60-89DaysPastDueNotWorse  \\\n",
       "0                             6                                     0   \n",
       "1                             0                                     0   \n",
       "2                             0                                     0   \n",
       "3                             0                                     0   \n",
       "4                             1                                     0   \n",
       "\n",
       "   NumberOfDependents  MonthIncome_miss  NumDependents_miss  \n",
       "0                 2.0                 0                   0  \n",
       "1                 1.0                 0                   0  \n",
       "2                 0.0                 0                   0  \n",
       "3                 0.0                 0                   0  \n",
       "4                 0.0                 0                   0  "
      ]
     },
     "execution_count": 12,
     "metadata": {},
     "output_type": "execute_result"
    }
   ],
   "source": [
    "# get the total row number and append the column\n",
    "DF['totcount']=scorecard['ID'].count()\n",
    "#calculate missing percentage\n",
    "DF['miss_per']=np.round(100*(DF['totcount']-DF['non_missing'])/DF['totcount'],1)\n",
    "\n",
    "scorecard['MonthIncome_miss']=pd.isnull(scorecard['MonthlyIncome'])+0\n",
    "scorecard['NumDependents_miss']=pd.isnull(scorecard['NumberOfDependents'])+0\n",
    "scorecard[['ID', 'NumberOfDependents', 'MonthlyIncome', 'MonthIncome_miss', 'NumDependents_miss']].head(10)\n",
    "scorecard_fix=scorecard.fillna(scorecard.mean())\n",
    "#***bins for scorecard_fix['Utilization']******\n",
    "scorecard_fix.head()\n"
   ]
  },
  {
   "cell_type": "code",
   "execution_count": 15,
   "metadata": {
    "collapsed": false
   },
   "outputs": [
    {
     "data": {
      "text/plain": [
       "0     142396\n",
       "1       5731\n",
       "2       1118\n",
       "3        318\n",
       "98       264\n",
       "4        105\n",
       "5         34\n",
       "6         16\n",
       "7          9\n",
       "96         5\n",
       "8          2\n",
       "11         1\n",
       "9          1\n",
       "Name: NumberOfTime60-89DaysPastDueNotWorse, dtype: int64"
      ]
     },
     "execution_count": 15,
     "metadata": {},
     "output_type": "execute_result"
    }
   ],
   "source": [
    "scorecard_fix['NumberOfTime60-89DaysPastDueNotWorse'].value_counts()"
   ]
  },
  {
   "cell_type": "code",
   "execution_count": 17,
   "metadata": {
    "collapsed": false
   },
   "outputs": [
    {
     "name": "stdout",
     "output_type": "stream",
     "text": [
      "1    0\n",
      "2    0\n",
      "3    0\n",
      "4    0\n",
      "Name: Bad, dtype: int64\n"
     ]
    },
    {
     "data": {
      "text/html": [
       "<div>\n",
       "<table border=\"1\" class=\"dataframe\">\n",
       "  <thead>\n",
       "    <tr style=\"text-align: right;\">\n",
       "      <th></th>\n",
       "      <th>ID</th>\n",
       "      <th>Bad</th>\n",
       "      <th>RevolvingUtilizationOfUnsecuredLines</th>\n",
       "      <th>age</th>\n",
       "      <th>NumberOfTime30-59DaysPastDueNotWorse</th>\n",
       "      <th>DebtRatio</th>\n",
       "      <th>MonthlyIncome</th>\n",
       "      <th>NumberOfOpenCreditLinesAndLoans</th>\n",
       "      <th>NumberOfTimes90DaysLate</th>\n",
       "      <th>NumberRealEstateLoansOrLines</th>\n",
       "      <th>...</th>\n",
       "      <th>DebtRatio_bin3</th>\n",
       "      <th>DebtRatio_bin4</th>\n",
       "      <th>DebtRatio_bin5</th>\n",
       "      <th>DebtRatio_bin6</th>\n",
       "      <th>DebtRatio_bin7</th>\n",
       "      <th>DebtRatio_bin8</th>\n",
       "      <th>NumCreditLine_bin1</th>\n",
       "      <th>NumCreditLine_bin2</th>\n",
       "      <th>NumCreditLine_bin3</th>\n",
       "      <th>NumCreditLine_bin4</th>\n",
       "    </tr>\n",
       "  </thead>\n",
       "  <tbody>\n",
       "    <tr>\n",
       "      <th>0</th>\n",
       "      <td>1</td>\n",
       "      <td>1</td>\n",
       "      <td>0.766127</td>\n",
       "      <td>45</td>\n",
       "      <td>2</td>\n",
       "      <td>0.802982</td>\n",
       "      <td>9120.0</td>\n",
       "      <td>13</td>\n",
       "      <td>0</td>\n",
       "      <td>6</td>\n",
       "      <td>...</td>\n",
       "      <td>0</td>\n",
       "      <td>0</td>\n",
       "      <td>0</td>\n",
       "      <td>1</td>\n",
       "      <td>0</td>\n",
       "      <td>0</td>\n",
       "      <td>0</td>\n",
       "      <td>0</td>\n",
       "      <td>0</td>\n",
       "      <td>1</td>\n",
       "    </tr>\n",
       "    <tr>\n",
       "      <th>1</th>\n",
       "      <td>2</td>\n",
       "      <td>0</td>\n",
       "      <td>0.957151</td>\n",
       "      <td>40</td>\n",
       "      <td>0</td>\n",
       "      <td>0.121876</td>\n",
       "      <td>2600.0</td>\n",
       "      <td>4</td>\n",
       "      <td>0</td>\n",
       "      <td>0</td>\n",
       "      <td>...</td>\n",
       "      <td>0</td>\n",
       "      <td>0</td>\n",
       "      <td>0</td>\n",
       "      <td>0</td>\n",
       "      <td>0</td>\n",
       "      <td>0</td>\n",
       "      <td>1</td>\n",
       "      <td>0</td>\n",
       "      <td>0</td>\n",
       "      <td>0</td>\n",
       "    </tr>\n",
       "    <tr>\n",
       "      <th>2</th>\n",
       "      <td>3</td>\n",
       "      <td>0</td>\n",
       "      <td>0.658180</td>\n",
       "      <td>38</td>\n",
       "      <td>1</td>\n",
       "      <td>0.085113</td>\n",
       "      <td>3042.0</td>\n",
       "      <td>2</td>\n",
       "      <td>1</td>\n",
       "      <td>0</td>\n",
       "      <td>...</td>\n",
       "      <td>0</td>\n",
       "      <td>0</td>\n",
       "      <td>0</td>\n",
       "      <td>0</td>\n",
       "      <td>0</td>\n",
       "      <td>0</td>\n",
       "      <td>1</td>\n",
       "      <td>0</td>\n",
       "      <td>0</td>\n",
       "      <td>0</td>\n",
       "    </tr>\n",
       "    <tr>\n",
       "      <th>3</th>\n",
       "      <td>4</td>\n",
       "      <td>0</td>\n",
       "      <td>0.233810</td>\n",
       "      <td>30</td>\n",
       "      <td>0</td>\n",
       "      <td>0.036050</td>\n",
       "      <td>3300.0</td>\n",
       "      <td>5</td>\n",
       "      <td>0</td>\n",
       "      <td>0</td>\n",
       "      <td>...</td>\n",
       "      <td>0</td>\n",
       "      <td>0</td>\n",
       "      <td>0</td>\n",
       "      <td>0</td>\n",
       "      <td>0</td>\n",
       "      <td>0</td>\n",
       "      <td>0</td>\n",
       "      <td>1</td>\n",
       "      <td>0</td>\n",
       "      <td>0</td>\n",
       "    </tr>\n",
       "    <tr>\n",
       "      <th>4</th>\n",
       "      <td>5</td>\n",
       "      <td>0</td>\n",
       "      <td>0.907239</td>\n",
       "      <td>49</td>\n",
       "      <td>1</td>\n",
       "      <td>0.024926</td>\n",
       "      <td>63588.0</td>\n",
       "      <td>7</td>\n",
       "      <td>0</td>\n",
       "      <td>1</td>\n",
       "      <td>...</td>\n",
       "      <td>0</td>\n",
       "      <td>0</td>\n",
       "      <td>0</td>\n",
       "      <td>0</td>\n",
       "      <td>0</td>\n",
       "      <td>0</td>\n",
       "      <td>0</td>\n",
       "      <td>1</td>\n",
       "      <td>0</td>\n",
       "      <td>0</td>\n",
       "    </tr>\n",
       "  </tbody>\n",
       "</table>\n",
       "<p>5 rows × 43 columns</p>\n",
       "</div>"
      ],
      "text/plain": [
       "   ID  Bad  RevolvingUtilizationOfUnsecuredLines  age  \\\n",
       "0   1    1                              0.766127   45   \n",
       "1   2    0                              0.957151   40   \n",
       "2   3    0                              0.658180   38   \n",
       "3   4    0                              0.233810   30   \n",
       "4   5    0                              0.907239   49   \n",
       "\n",
       "   NumberOfTime30-59DaysPastDueNotWorse  DebtRatio  MonthlyIncome  \\\n",
       "0                                     2   0.802982         9120.0   \n",
       "1                                     0   0.121876         2600.0   \n",
       "2                                     1   0.085113         3042.0   \n",
       "3                                     0   0.036050         3300.0   \n",
       "4                                     1   0.024926        63588.0   \n",
       "\n",
       "   NumberOfOpenCreditLinesAndLoans  NumberOfTimes90DaysLate  \\\n",
       "0                               13                        0   \n",
       "1                                4                        0   \n",
       "2                                2                        1   \n",
       "3                                5                        0   \n",
       "4                                7                        0   \n",
       "\n",
       "   NumberRealEstateLoansOrLines        ...          DebtRatio_bin3  \\\n",
       "0                             6        ...                       0   \n",
       "1                             0        ...                       0   \n",
       "2                             0        ...                       0   \n",
       "3                             0        ...                       0   \n",
       "4                             1        ...                       0   \n",
       "\n",
       "   DebtRatio_bin4  DebtRatio_bin5  DebtRatio_bin6  DebtRatio_bin7  \\\n",
       "0               0               0               1               0   \n",
       "1               0               0               0               0   \n",
       "2               0               0               0               0   \n",
       "3               0               0               0               0   \n",
       "4               0               0               0               0   \n",
       "\n",
       "   DebtRatio_bin8  NumCreditLine_bin1  NumCreditLine_bin2  NumCreditLine_bin3  \\\n",
       "0               0                   0                   0                   0   \n",
       "1               0                   1                   0                   0   \n",
       "2               0                   1                   0                   0   \n",
       "3               0                   0                   1                   0   \n",
       "4               0                   0                   1                   0   \n",
       "\n",
       "  NumCreditLine_bin4  \n",
       "0                  1  \n",
       "1                  0  \n",
       "2                  0  \n",
       "3                  0  \n",
       "4                  0  \n",
       "\n",
       "[5 rows x 43 columns]"
      ]
     },
     "execution_count": 17,
     "metadata": {},
     "output_type": "execute_result"
    }
   ],
   "source": [
    "u=scorecard_fix['RevolvingUtilizationOfUnsecuredLines']\n",
    "scorecard_fix['Utilization_bin1']=(u<=0)+0\n",
    "scorecard_fix['Utilization_bin2']= ((u> 0) & (u <= 0.03))+0\n",
    "scorecard_fix['Utilization_bin3']=((u>0.03) & (u <= 0.15))+0\n",
    "scorecard_fix['Utilization_bin4']=((u>0.15) & (u <= 0.56))+0\n",
    "scorecard_fix['Utilization_bin5']=((u>0.56) & (u <= 0.98))+0\n",
    "#***bins for scorecard_fix['Numbe30_59PD']******\n",
    "\n",
    "p30_59=scorecard_fix['NumberOfTime30-59DaysPastDueNotWorse']\n",
    "p60_89=scorecard_fix['NumberOfTime60-89DaysPastDueNotWorse']\n",
    "p90=scorecard_fix['NumberOfTimes90DaysLate']\n",
    "\n",
    "scorecard_fix['Numbe30_59PD_bin1']=(p30_59<=0)\n",
    "scorecard_fix['Numbe30_59PD_bin2']= ((p30_59 > 1) & (p30_59 <= 4))+0\n",
    "#***bins for scorecard_fix['Num60_89PD']******\n",
    "scorecard_fix['Num60_89PD_bin1']=(p60_89<=0)\n",
    "scorecard_fix['Num60_89PD_bin2']= (p60_89 == 1)+0\n",
    "scorecard_fix['Num60_89PD_bin3']= (p60_89 == 2)+0\n",
    "#***bins for scorecard_fix['Number90PD']******\n",
    "scorecard_fix['Number90PD_bin1']=(p90==0)\n",
    "scorecard_fix['Number90PD_bin2']=(p90==1)\n",
    "\n",
    "#***bins for scorecard_fix['Age']******\n",
    "scorecard_fix['Age_bin1']=((scorecard_fix['age'] > 0) & (scorecard_fix['age'] <= 30))+0\n",
    "scorecard_fix['Age_bin2']=((scorecard_fix['age'] > 30) & (scorecard_fix['age'] <= 40))+0\n",
    "#***bins for scorecard_fix['Age']******\n",
    "scorecard_fix['Age_bin3']=((scorecard_fix['age'] > 40) & (scorecard_fix['age'] <= 50))+0\n",
    "scorecard_fix['Age_bin4']=((scorecard_fix['age'] > 50) & (scorecard_fix['age'] <= 60))+0\n",
    "scorecard_fix['Age_bin5']=((scorecard_fix['age'] > 60) & (scorecard_fix['age'] <= 70))+0\n",
    "#***bins for scorecard_fix['DebtRatio']******\n",
    "scorecard_fix['DebtRatio_bin1']=(scorecard_fix['DebtRatio']==0)\n",
    "scorecard_fix['DebtRatio_bin2']=((scorecard_fix['DebtRatio'] > 0) & (scorecard_fix['DebtRatio'] <= 0.15))+0\n",
    "scorecard_fix['DebtRatio_bin3']=((scorecard_fix['DebtRatio'] > 0.15) & (scorecard_fix['DebtRatio'] <= 0.3))+0\n",
    "scorecard_fix['DebtRatio_bin4']=((scorecard_fix['DebtRatio'] > 0.3) & (scorecard_fix['DebtRatio'] <= 0.5))+0\n",
    "scorecard_fix['DebtRatio_bin5']=((scorecard_fix['DebtRatio'] > 0.5) & (scorecard_fix['DebtRatio'] <= 0.8))+0\n",
    "scorecard_fix['DebtRatio_bin6']=((scorecard_fix['DebtRatio'] > 0.8) & (scorecard_fix['DebtRatio'] <= 1))+0\n",
    "scorecard_fix['DebtRatio_bin7']=((scorecard_fix['DebtRatio'] > 1) & (scorecard_fix['DebtRatio'] <= 1000))+0\n",
    "scorecard_fix['DebtRatio_bin8']=((scorecard_fix['DebtRatio'] > 1000) & (scorecard_fix['DebtRatio'] <= 2000))+0\n",
    "#***bins for scorecard_fix.NumCreditLine******/\n",
    "NumCreditLine=scorecard_fix['NumberOfOpenCreditLinesAndLoans']\n",
    "scorecard_fix['NumCreditLine_bin1']=(NumCreditLine<=4)+0\n",
    "scorecard_fix['NumCreditLine_bin2']=((NumCreditLine>4) & (NumCreditLine<=7))+0\n",
    "scorecard_fix['NumCreditLine_bin3']=((NumCreditLine>7) & (NumCreditLine<=10))+0\n",
    "scorecard_fix['NumCreditLine_bin4']=((NumCreditLine>10) & (NumCreditLine<=16))+0\n",
    "# we compute correlation between 'Bad' and independent variables\n",
    "\n",
    "scorecard_fix.rename(columns={'SeriousDlqin2yrs' : 'Bad'}, inplace = True) \n",
    "Y=scorecard_fix['Bad'] \n",
    "\n",
    "print Y[1:5]\n",
    "scorecard_fix.head()\n"
   ]
  },
  {
   "cell_type": "code",
   "execution_count": 18,
   "metadata": {
    "collapsed": false
   },
   "outputs": [
    {
     "name": "stdout",
     "output_type": "stream",
     "text": [
      "(150000, 30)\n",
      "[[  1.   1.   0.   1.   0.   0.   0.   1.   2.   0.  45.   0.   0.   0.\n",
      "    0.   0.   0.   0.   2.   0.   0.   0.   1.  13.   1.   0.   0.   0.\n",
      "    0.]\n",
      " [  1.   1.   1.   0.   0.   0.   0.   1.   0.   0.  40.   0.   0.   0.\n",
      "    0.   1.   1.   0.   1.   0.   0.   0.   0.   4.   0.   0.   0.   0.\n",
      "    0.]\n",
      " [  0.   1.   0.   0.   1.   0.   0.   1.   1.   1.  38.   0.   0.   0.\n",
      "    0.   1.   1.   0.   0.   0.   0.   0.   0.   2.   0.   0.   0.   0.\n",
      "    0.]\n",
      " [  1.   1.   1.   0.   0.   0.   0.   0.   0.   0.  30.   0.   0.   0.\n",
      "    0.   0.   0.   1.   0.   0.   0.   1.   0.   5.   0.   0.   0.   0.\n",
      "    1.]\n",
      " [  1.   1.   0.   0.   0.   0.   0.   1.   1.   0.  49.   0.   0.   0.\n",
      "    0.   0.   0.   0.   0.   0.   0.   0.   1.   7.   0.   0.   0.   0.\n",
      "    1.]]\n"
     ]
    },
    {
     "name": "stderr",
     "output_type": "stream",
     "text": [
      "C:\\Anaconda2\\lib\\site-packages\\ipykernel\\__main__.py:15: FutureWarning: sort(columns=....) is deprecated, use sort_values(by=.....)\n"
     ]
    }
   ],
   "source": [
    "varnamelist=list(scorecard_fix.columns.values)\n",
    "corr=list()   # define an empty list\n",
    "# loop for all independent variables\n",
    "for vname in varnamelist: \n",
    "        X=scorecard_fix[vname]    # loop all the variables in the data frame\n",
    "        C=np.corrcoef(X, Y)             # calculate correlation matrix\n",
    "        beta=np.round(C[1, 0],3)\n",
    "        corr=corr+[beta]      # gather all correlation coefficients in a list\n",
    "# change column names\n",
    "corrdf=pd.DataFrame({'varname': varnamelist, 'correlation': corr})\n",
    "filtercond=corrdf['correlation'] < 1\n",
    "corrdf=corrdf[filtercond]\n",
    "corrdf['abscorr']=np.abs(corrdf['correlation'])\n",
    "# sort absolute value of correlation in descending order\n",
    "corrdf.sort(['abscorr'], ascending=False, inplace=True)\n",
    "seq=range(1,len(corrdf)+1)\n",
    "corrdf['order']=seq  # add a sequential number column\n",
    "selectedvar0=corrdf[corrdf.abscorr>0.02]['varname'] # Series containing the names of qualified features \n",
    "selectedscorecard=scorecard_fix[['Bad']+list(selectedvar0)]+0 # slicing the data frame and get a sub data set \n",
    "selectedscorecard.head(10)\n",
    "\n",
    "print selectedscorecard.shape                \n",
    "\n",
    "npscorecardx=selectedscorecard[list(selectedvar0)].values          # independent variables\n",
    "npscorecardy=np.array(list(selectedscorecard.Bad))         \n",
    "print npscorecardx[0:5]\n"
   ]
  },
  {
   "cell_type": "code",
   "execution_count": null,
   "metadata": {
    "collapsed": true
   },
   "outputs": [],
   "source": []
  },
  {
   "cell_type": "code",
   "execution_count": 19,
   "metadata": {
    "collapsed": false
   },
   "outputs": [
    {
     "data": {
      "text/plain": [
       "['ID',\n",
       " 'Bad',\n",
       " 'RevolvingUtilizationOfUnsecuredLines',\n",
       " 'age',\n",
       " 'NumberOfTime30-59DaysPastDueNotWorse',\n",
       " 'DebtRatio',\n",
       " 'MonthlyIncome',\n",
       " 'NumberOfOpenCreditLinesAndLoans',\n",
       " 'NumberOfTimes90DaysLate',\n",
       " 'NumberRealEstateLoansOrLines',\n",
       " 'NumberOfTime60-89DaysPastDueNotWorse',\n",
       " 'NumberOfDependents',\n",
       " 'MonthIncome_miss',\n",
       " 'NumDependents_miss',\n",
       " 'Utilization_bin1',\n",
       " 'Utilization_bin2',\n",
       " 'Utilization_bin3',\n",
       " 'Utilization_bin4',\n",
       " 'Utilization_bin5',\n",
       " 'Numbe30_59PD_bin1',\n",
       " 'Numbe30_59PD_bin2',\n",
       " 'Num60_89PD_bin1',\n",
       " 'Num60_89PD_bin2',\n",
       " 'Num60_89PD_bin3',\n",
       " 'Number90PD_bin1',\n",
       " 'Number90PD_bin2',\n",
       " 'Age_bin1',\n",
       " 'Age_bin2',\n",
       " 'Age_bin3',\n",
       " 'Age_bin4',\n",
       " 'Age_bin5',\n",
       " 'DebtRatio_bin1',\n",
       " 'DebtRatio_bin2',\n",
       " 'DebtRatio_bin3',\n",
       " 'DebtRatio_bin4',\n",
       " 'DebtRatio_bin5',\n",
       " 'DebtRatio_bin6',\n",
       " 'DebtRatio_bin7',\n",
       " 'DebtRatio_bin8',\n",
       " 'NumCreditLine_bin1',\n",
       " 'NumCreditLine_bin2',\n",
       " 'NumCreditLine_bin3',\n",
       " 'NumCreditLine_bin4']"
      ]
     },
     "execution_count": 19,
     "metadata": {},
     "output_type": "execute_result"
    }
   ],
   "source": [
    "list(scorecard_fix.columns)"
   ]
  },
  {
   "cell_type": "code",
   "execution_count": 8,
   "metadata": {
    "collapsed": false
   },
   "outputs": [
    {
     "name": "stdout",
     "output_type": "stream",
     "text": [
      "C statistics regression cross cv 0.854468\n"
     ]
    },
    {
     "data": {
      "image/png": "[encoded data removed]",
      "text/plain": [
       "<matplotlib.figure.Figure at 0x130060b8>"
      ]
     },
     "metadata": {},
     "output_type": "display_data"
    }
   ],
   "source": [
    "# now we use cross validation based on logistic regression\n",
    "\n",
    "# Run classifier with cross-validation and plot ROC curves\n",
    "# third method -- use KFOLD\n",
    "\n",
    "\n",
    "from scipy import interp\n",
    "import matplotlib.pyplot as plt\n",
    "from sklearn import svm, datasets\n",
    "from sklearn.metrics import roc_curve, auc\n",
    "from sklearn.cross_validation import StratifiedKFold\n",
    "\n",
    "cv = StratifiedKFold(npscorecardy, n_folds=5)\n",
    "logisfits = linear_model.LogisticRegression(C=1e5, penalty='l1')\n",
    "\n",
    "mean_tpr = 0.0\n",
    "mean_fpr = np.linspace(0, 1, 100)\n",
    "all_tpr = []\n",
    "\n",
    "for i, (train, test) in enumerate(cv):\n",
    "    probas_ = logisfits.fit(npscorecardx[train], npscorecardy[train]).predict_proba(npscorecardx[test])\n",
    "    # Compute ROC curve and area the curve\n",
    "    fpr, tpr, thresholds = roc_curve(npscorecardy[test], probas_[:, 1])\n",
    "    mean_tpr += interp(mean_fpr, fpr, tpr)\n",
    "    mean_tpr[0] = 0.0\n",
    "    roc_auc = auc(fpr, tpr)\n",
    "    plt.plot(fpr, tpr, lw=1, label='ROC fold %d (area = %0.2f)' % (i, roc_auc))\n",
    "\n",
    "mean_tpr /= len(cv)\n",
    "mean_tpr[-1] = 1.0\n",
    "mean_auc = auc(mean_fpr, mean_tpr)\n",
    "print \"C statistics regression cross cv %f\" % (mean_auc)\n",
    "\n"
   ]
  },
  {
   "cell_type": "code",
   "execution_count": 9,
   "metadata": {
    "collapsed": false
   },
   "outputs": [
    {
     "data": {
      "image/png": "[encoded data removed]",
      "text/plain": [
       "<matplotlib.figure.Figure at 0x130203c8>"
      ]
     },
     "metadata": {},
     "output_type": "display_data"
    }
   ],
   "source": [
    "plt.plot(mean_fpr, mean_tpr, 'k--', label='Mean ROC (area = %0.2f)' % mean_auc, lw=2)\n",
    "\n",
    "plt.xlim([-0.05, 1.05])\n",
    "plt.ylim([-0.05, 1.05])\n",
    "plt.xlabel('False Positive Rate')\n",
    "plt.ylabel('True Positive Rate')\n",
    "plt.title('Receiver operating characteristic example')\n",
    "plt.legend(loc=\"lower right\")\n",
    "plt.show()"
   ]
  },
  {
   "cell_type": "code",
   "execution_count": null,
   "metadata": {
    "collapsed": false
   },
   "outputs": [],
   "source": []
  },
  {
   "cell_type": "code",
   "execution_count": 20,
   "metadata": {
    "collapsed": false
   },
   "outputs": [
    {
     "data": {
      "text/plain": [
       "(150000, 2)"
      ]
     },
     "execution_count": 20,
     "metadata": {},
     "output_type": "execute_result"
    }
   ],
   "source": [
    "def modeling(SEED):\n",
    "    SUM_C = 0.0\n",
    "    folders = 5      \n",
    "    X = npscorecardx\n",
    "    y= npscorecardy    \n",
    "    dec=pd.DataFrame([])\n",
    "    for k in range(folders):\n",
    "        X_train, X_test, y_train, y_test = cross_validation.train_test_split(X, y, test_size=.2, random_state=2*k+SEED)\n",
    "        fits = linear_model.LogisticRegression(C=1e5, penalty='l1')\n",
    "        fits.fit(X_train, y_train) \n",
    "        predict_p = fits.predict_proba(X_test)[:, 1]\n",
    "        dec['score']=predict_p   # merge X data and y into one data frame\n",
    "        dec['target']= y_test\n",
    "        if (k == 0): \n",
    "            scoredata=dec.copy()\n",
    "        else:    \n",
    "            scoredata=pd.concat([scoredata, dec])  # stack all validation data with scores, it has duplicates, as we use 5 folds            \n",
    "    return(scoredata) \n",
    "\n",
    "scoredata=modeling(31) \n",
    "scoredata.shape   # (180000, 30),   we need to select some random samples from it"
   ]
  },
  {
   "cell_type": "code",
   "execution_count": null,
   "metadata": {
    "collapsed": false
   },
   "outputs": [],
   "source": []
  },
  {
   "cell_type": "code",
   "execution_count": 11,
   "metadata": {
    "collapsed": false
   },
   "outputs": [
    {
     "name": "stderr",
     "output_type": "stream",
     "text": [
      "C:\\Anaconda2\\lib\\site-packages\\ipykernel\\__main__.py:9: SettingWithCopyWarning: \n",
      "A value is trying to be set on a copy of a slice from a DataFrame.\n",
      "Try using .loc[row_indexer,col_indexer] = value instead\n",
      "\n",
      "See the caveats in the documentation: http://pandas.pydata.org/pandas-docs/stable/indexing.html#indexing-view-versus-copy\n"
     ]
    },
    {
     "data": {
      "text/html": [
       "<div>\n",
       "<table border=\"1\" class=\"dataframe\">\n",
       "  <thead>\n",
       "    <tr style=\"text-align: right;\">\n",
       "      <th></th>\n",
       "      <th>target</th>\n",
       "      <th>score</th>\n",
       "    </tr>\n",
       "    <tr>\n",
       "      <th>ranks</th>\n",
       "      <th></th>\n",
       "      <th></th>\n",
       "    </tr>\n",
       "  </thead>\n",
       "  <tbody>\n",
       "    <tr>\n",
       "      <th>9</th>\n",
       "      <td>0.351658</td>\n",
       "      <td>0.353094</td>\n",
       "    </tr>\n",
       "    <tr>\n",
       "      <th>8</th>\n",
       "      <td>0.113732</td>\n",
       "      <td>0.104137</td>\n",
       "    </tr>\n",
       "    <tr>\n",
       "      <th>7</th>\n",
       "      <td>0.065880</td>\n",
       "      <td>0.066943</td>\n",
       "    </tr>\n",
       "    <tr>\n",
       "      <th>6</th>\n",
       "      <td>0.047407</td>\n",
       "      <td>0.043983</td>\n",
       "    </tr>\n",
       "    <tr>\n",
       "      <th>5</th>\n",
       "      <td>0.030721</td>\n",
       "      <td>0.031760</td>\n",
       "    </tr>\n",
       "    <tr>\n",
       "      <th>4</th>\n",
       "      <td>0.021812</td>\n",
       "      <td>0.023822</td>\n",
       "    </tr>\n",
       "    <tr>\n",
       "      <th>3</th>\n",
       "      <td>0.012909</td>\n",
       "      <td>0.018297</td>\n",
       "    </tr>\n",
       "    <tr>\n",
       "      <th>2</th>\n",
       "      <td>0.008903</td>\n",
       "      <td>0.014524</td>\n",
       "    </tr>\n",
       "    <tr>\n",
       "      <th>1</th>\n",
       "      <td>0.007345</td>\n",
       "      <td>0.011213</td>\n",
       "    </tr>\n",
       "    <tr>\n",
       "      <th>0</th>\n",
       "      <td>0.004006</td>\n",
       "      <td>0.008127</td>\n",
       "    </tr>\n",
       "  </tbody>\n",
       "</table>\n",
       "</div>"
      ],
      "text/plain": [
       "         target     score\n",
       "ranks                    \n",
       "9      0.351658  0.353094\n",
       "8      0.113732  0.104137\n",
       "7      0.065880  0.066943\n",
       "6      0.047407  0.043983\n",
       "5      0.030721  0.031760\n",
       "4      0.021812  0.023822\n",
       "3      0.012909  0.018297\n",
       "2      0.008903  0.014524\n",
       "1      0.007345  0.011213\n",
       "0      0.004006  0.008127"
      ]
     },
     "execution_count": 11,
     "metadata": {},
     "output_type": "execute_result"
    }
   ],
   "source": [
    "# generate a column containing random numbers    \n",
    "scoredata['random']=np.random.random_sample(size=len(scoredata)) \n",
    "\n",
    "# Randomly selecting data frame with 30% population\n",
    "validation=scoredata[scoredata.random>0.7]\n",
    "\n",
    "def grouping(data, grpnum):\n",
    "    grp=pd.qcut(data['score'], grpnum, labels=False)\n",
    "    data['ranks']=grp\n",
    "    return data\n",
    "\n",
    "validation=grouping(validation, 10)\n",
    "validation[['target', 'score', 'ranks']].head(n=10)\n",
    "G=validation.groupby('ranks')\n",
    "M=G[['target', 'score']].mean()\n",
    "M=M.sort_values(by='score', ascending=False) # put the worst at the top\n",
    "M"
   ]
  },
  {
   "cell_type": "code",
   "execution_count": 12,
   "metadata": {
    "collapsed": false
   },
   "outputs": [
    {
     "data": {
      "image/png": "[encoded data removed]",
      "text/plain": [
       "<matplotlib.figure.Figure at 0x124bd908>"
      ]
     },
     "metadata": {},
     "output_type": "display_data"
    }
   ],
   "source": [
    "M.plot(kind='bar');"
   ]
  },
  {
   "cell_type": "code",
   "execution_count": 23,
   "metadata": {
    "collapsed": false
   },
   "outputs": [
    {
     "name": "stdout",
     "output_type": "stream",
     "text": [
      "29\n",
      "[[-1.60304906 -2.13222633 -0.64592951  0.24850894 -0.37735271 -0.9349298\n",
      "  -0.4334258  -0.3823172   0.14710897  0.09344588 -0.01583984 -1.76865206\n",
      "  -0.26073224 -2.04160506 -0.18480539  0.00842891 -0.12766963  0.03396189\n",
      "   0.02699086 -1.50833376  0.15742834 -1.16305566  0.04857242  0.02370503\n",
      "   0.37433316 -0.15303079  0.01163973 -0.16743712 -0.18891252]]\n"
     ]
    }
   ],
   "source": [
    "X = npscorecardx\n",
    "y= npscorecardy    \n",
    "    \n",
    "X_train, X_test, y_train, y_test = cross_validation.train_test_split(X, y, test_size=.2, random_state=2)\n",
    "fits = linear_model.LogisticRegression(C=1e5, penalty='l1')\n",
    "fits.fit(X_train, y_train) \n",
    "\n",
    "print(np.count_nonzero(fits.coef_))  # 20 non-zero coefficients\n",
    "\n",
    "# check lr_cv.coef_ \n",
    "print(fits.coef_)"
   ]
  },
  {
   "cell_type": "code",
   "execution_count": 26,
   "metadata": {
    "collapsed": false
   },
   "outputs": [
    {
     "data": {
      "text/plain": [
       "0.049881421461860406"
      ]
     },
     "execution_count": 26,
     "metadata": {},
     "output_type": "execute_result"
    }
   ],
   "source": [
    "import numpy as np\n",
    "import pandas as pd\n",
    "\n",
    "fits = linear_model.LogisticRegression(C=1e5, penalty='l1')\n",
    "fits.fit(X_train, y_train) \n",
    "\n",
    "predict_p = fits.predict_proba(X_train)[:, 1]\n",
    "sse = np.sum((predict_p - y_train) ** 2, axis=0) / float(X_train.shape[0] - X_train.shape[1])\n",
    "sse        "
   ]
  },
  {
   "cell_type": "code",
   "execution_count": 39,
   "metadata": {
    "collapsed": false
   },
   "outputs": [
    {
     "data": {
      "text/plain": [
       "array([[  9.98595563e-03,   1.21777280e-02,   3.04749783e-03,\n",
       "          4.21392835e-03,   8.14607860e-03,   1.00625755e-02,\n",
       "          1.05515334e-02,   2.79693422e-03,   1.90403746e-03,\n",
       "          2.92326251e-03,   8.67083178e-05,   2.70560488e-03,\n",
       "          3.42664970e-03,   2.86069386e-03,   1.87371389e-03,\n",
       "          2.98045119e-03,   3.65105082e-03,   4.11879769e-03,\n",
       "          6.33407657e-04,   3.28778343e-03,   2.17917518e-03,\n",
       "          2.67077934e-03,   2.24385056e-03,   2.62332086e-04,\n",
       "          4.10101159e-03,   2.36868662e-03,   1.76195119e-03,\n",
       "          1.73730648e-03,   2.86605052e-03]])"
      ]
     },
     "execution_count": 39,
     "metadata": {},
     "output_type": "execute_result"
    }
   ],
   "source": [
    "from sklearn import linear_model\n",
    "from scipy import stats\n",
    "\n",
    "numofvar=X_train.shape[1]\n",
    "se = np.array([np.sqrt(np.diagonal(sse * np.linalg.inv(np.dot(X_train.T, X_train))))])\n",
    "\n",
    "se"
   ]
  },
  {
   "cell_type": "code",
   "execution_count": 43,
   "metadata": {
    "collapsed": false
   },
   "outputs": [
    {
     "name": "stdout",
     "output_type": "stream",
     "text": [
      "t statistics [[-159.9476004  -175.95301719 -211.73101836   58.80676828  -45.87502729\n",
      "   -93.6966715   -41.58230343 -136.70815661   77.56255102   32.6552131\n",
      "  -183.00980664 -653.693477    -76.85782693 -713.64622866  -98.58707323\n",
      "     2.59129166  -35.03015439    7.99941361   42.56223076 -458.76376405\n",
      "    72.26068388 -435.47327024   21.46025794   90.25736951   91.2746431\n",
      "   -64.65374454    6.57685566  -96.36891282  -65.98356237]]\n",
      "degree of freedom 119971\n",
      "p value for each key driver [[  0.00000000e+00   0.00000000e+00   0.00000000e+00   0.00000000e+00\n",
      "    0.00000000e+00   0.00000000e+00   0.00000000e+00   0.00000000e+00\n",
      "    0.00000000e+00   0.00000000e+00   0.00000000e+00   0.00000000e+00\n",
      "    0.00000000e+00   0.00000000e+00   0.00000000e+00   9.56279936e-03\n",
      "    0.00000000e+00   1.11022302e-15   0.00000000e+00   0.00000000e+00\n",
      "    0.00000000e+00   0.00000000e+00   0.00000000e+00   0.00000000e+00\n",
      "    0.00000000e+00   0.00000000e+00   4.82462958e-11   0.00000000e+00\n",
      "    0.00000000e+00]]\n"
     ]
    }
   ],
   "source": [
    "t_statistics = fits.coef_ / se\n",
    "print 't statistics', t_statistics \n",
    "\n",
    "df= y_train.shape[0] - X_train.shape[1]\n",
    "print 'degree of freedom', df\n",
    "\n",
    "p_value = 2 * (1 - stats.t.cdf(np.abs(t_statistics), df))\n",
    "print 'p value for each key driver', p_value"
   ]
  },
  {
   "cell_type": "code",
   "execution_count": 47,
   "metadata": {
    "collapsed": false
   },
   "outputs": [
    {
     "name": "stdout",
     "output_type": "stream",
     "text": [
      "[[ 0.51438654  0.48561346]\n",
      " [ 0.92441814  0.07558186]\n",
      " [ 0.95741286  0.04258714]\n",
      " ..., \n",
      " [ 0.95972702  0.04027298]\n",
      " [ 0.96750958  0.03249042]\n",
      " [ 0.96111037  0.03888963]]\n",
      "KS of the model is 0.555975\n"
     ]
    }
   ],
   "source": [
    "# we now calculate KS\n",
    "# KS=max(abs(Sensitivity+specificity-1))\n",
    "\n",
    "X_train, X_test, y_train, y_test = cross_validation.train_test_split(X, y, test_size=.3, random_state=12)\n",
    "prob = logisfits.fit(X_train, y_train).predict_proba(X_test)\n",
    "print prob\n",
    "\n",
    "fpr, tpr, thresholds = roc_curve(y_test, prob[:, 1])\n",
    "kss=np.abs(tpr-fpr)\n",
    "ks=kss.max()\n",
    "print \"KS of the model is %f\" % (ks)\n"
   ]
  },
  {
   "cell_type": "code",
   "execution_count": 49,
   "metadata": {
    "collapsed": false
   },
   "outputs": [
    {
     "name": "stdout",
     "output_type": "stream",
     "text": [
      "[[41578   454]\n",
      " [ 2416   552]]\n",
      "0.936222222222\n"
     ]
    }
   ],
   "source": [
    "# conmatrix based on prediction of classification \n",
    "\n",
    "from sklearn.metrics import confusion_matrix\n",
    "predict_class = logisfits.fit(X_train, y_train).predict(X_test)\n",
    "conmatrix = confusion_matrix(y_test, predict_class)\n",
    "print conmatrix\n",
    "\n",
    "#accuracy rate\n",
    "print logisfits.score(X_test, y_test)\n"
   ]
  },
  {
   "cell_type": "code",
   "execution_count": null,
   "metadata": {
    "collapsed": false
   },
   "outputs": [],
   "source": []
  },
  {
   "cell_type": "code",
   "execution_count": null,
   "metadata": {
    "collapsed": true
   },
   "outputs": [],
   "source": []
  }
 ],
 "metadata": {
  "anaconda-cloud": {},
  "kernelspec": {
   "display_name": "Python 3",
   "language": "python",
   "name": "python3"
  },
  "language_info": {
   "codemirror_mode": {
    "name": "ipython",
    "version": 3
   },
   "file_extension": ".py",
   "mimetype": "text/x-python",
   "name": "python",
   "nbconvert_exporter": "python",
   "pygments_lexer": "ipython3",
   "version": "3.5.3"
  }
 },
 "nbformat": 4,
 "nbformat_minor": 0
}
